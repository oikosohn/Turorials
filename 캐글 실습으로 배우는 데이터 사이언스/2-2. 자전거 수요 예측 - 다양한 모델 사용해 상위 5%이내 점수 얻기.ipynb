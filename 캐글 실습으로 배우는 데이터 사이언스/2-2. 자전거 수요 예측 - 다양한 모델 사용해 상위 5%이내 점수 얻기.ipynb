{
 "cells": [
  {
   "cell_type": "markdown",
   "metadata": {},
   "source": [
    "# 다양한 모델 사용해 상위 5%이내 점수 얻기"
   ]
  },
  {
   "cell_type": "code",
   "execution_count": 1,
   "metadata": {},
   "outputs": [],
   "source": [
    "import pandas as pd\n",
    "import numpy as np\n",
    "\n",
    "import matplotlib as mpl\n",
    "import matplotlib.pyplot as plt\n",
    "import seaborn as sns\n",
    "\n",
    "# 노트북 안에 그래프를 그리기 위해\n",
    "%matplotlib inline\n",
    "\n",
    "# 그래프에서 격자로 숫자 범위가 눈에 잘 띄도록 ggplot 스타일을 사용\n",
    "plt.style.use('ggplot')\n",
    "\n",
    "# 그래프에서 마이너스 폰트 깨지는 문제에 대한 대처\n",
    "mpl.rcParams['axes.unicode_minus'] = False\n",
    "\n",
    "import warnings\n",
    "warnings.filterwarnings('ignore')"
   ]
  },
  {
   "cell_type": "code",
   "execution_count": 2,
   "metadata": {},
   "outputs": [],
   "source": [
    "#구글 드라이브 연동하기\n",
    "#구글 드라이브에 데이터를 올린 후 사용할 경우에만 실행\n",
    "# from google.colab import drive\n",
    "# drive.mount('/content/drive')\n",
    "# train = pd.read_csv(\"/content/drive/My Drive/Colab Notebooks/data/bike/train.csv\", parse_dates=[\"datetime\"])\n",
    "# test = pd.read_csv(\"/content/drive/My Drive/Colab Notebooks/data/bike/test.csv\", parse_dates=[\"datetime\"])"
   ]
  },
  {
   "cell_type": "code",
   "execution_count": 3,
   "metadata": {},
   "outputs": [
    {
     "data": {
      "text/plain": [
       "(10886, 12)"
      ]
     },
     "execution_count": 3,
     "metadata": {},
     "output_type": "execute_result"
    }
   ],
   "source": [
    "train = pd.read_csv(\"data/train.csv\", parse_dates=[\"datetime\"])\n",
    "train.shape"
   ]
  },
  {
   "cell_type": "code",
   "execution_count": 4,
   "metadata": {},
   "outputs": [
    {
     "data": {
      "text/plain": [
       "(6493, 9)"
      ]
     },
     "execution_count": 4,
     "metadata": {},
     "output_type": "execute_result"
    }
   ],
   "source": [
    "test = pd.read_csv(\"data/test.csv\", parse_dates=[\"datetime\"])\n",
    "test.shape"
   ]
  },
  {
   "cell_type": "code",
   "execution_count": 5,
   "metadata": {},
   "outputs": [
    {
     "data": {
      "text/plain": [
       "(10886, 16)"
      ]
     },
     "execution_count": 5,
     "metadata": {},
     "output_type": "execute_result"
    }
   ],
   "source": [
    "# feature로 사용할 데이터만 데이터 프레임에 담는다.\n",
    "train[\"year\"] = train[\"datetime\"].dt.year\n",
    "train[\"month\"] = train[\"datetime\"].dt.month\n",
    "train[\"hour\"] = train[\"datetime\"].dt.hour\n",
    "train[\"dayofweek\"] = train[\"datetime\"].dt.dayofweek\n",
    "train.shape"
   ]
  },
  {
   "cell_type": "code",
   "execution_count": 6,
   "metadata": {},
   "outputs": [
    {
     "data": {
      "text/plain": [
       "(6493, 13)"
      ]
     },
     "execution_count": 6,
     "metadata": {},
     "output_type": "execute_result"
    }
   ],
   "source": [
    "test[\"year\"] = test[\"datetime\"].dt.year\n",
    "test[\"month\"] = test[\"datetime\"].dt.month\n",
    "test[\"hour\"] = test[\"datetime\"].dt.hour\n",
    "test[\"dayofweek\"] = test[\"datetime\"].dt.dayofweek\n",
    "test.shape"
   ]
  },
  {
   "cell_type": "code",
   "execution_count": 8,
   "metadata": {},
   "outputs": [],
   "source": [
    "# 연속형 feature와 범주형 feature\n",
    "# 범주형 feature의 type을 category로 변경 해 준다.\n",
    "# 원핫인코딩을 하면 점수가 높아지나 본 대회는 그렇지 않았다.\n",
    "categorical_feature_names = [\"season\",\"holiday\",\"workingday\",\"weather\",\n",
    "                             \"dayofweek\",\"month\",\"year\",\"hour\"]"
   ]
  },
  {
   "cell_type": "code",
   "execution_count": 9,
   "metadata": {},
   "outputs": [
    {
     "data": {
      "text/plain": [
       "['season',\n",
       " 'weather',\n",
       " 'temp',\n",
       " 'atemp',\n",
       " 'humidity',\n",
       " 'year',\n",
       " 'hour',\n",
       " 'dayofweek',\n",
       " 'holiday',\n",
       " 'workingday']"
      ]
     },
     "execution_count": 9,
     "metadata": {},
     "output_type": "execute_result"
    }
   ],
   "source": [
    "feature_names = [\"season\", \"weather\", \"temp\", \"atemp\", \"humidity\",\n",
    "                 \"year\", \"hour\", \"dayofweek\", \"holiday\", \"workingday\"\n",
    "                ]\n",
    "\n",
    "feature_names"
   ]
  },
  {
   "cell_type": "code",
   "execution_count": 10,
   "metadata": {},
   "outputs": [
    {
     "name": "stdout",
     "output_type": "stream",
     "text": [
      "(10886, 10)\n"
     ]
    },
    {
     "data": {
      "text/html": [
       "<div>\n",
       "<style scoped>\n",
       "    .dataframe tbody tr th:only-of-type {\n",
       "        vertical-align: middle;\n",
       "    }\n",
       "\n",
       "    .dataframe tbody tr th {\n",
       "        vertical-align: top;\n",
       "    }\n",
       "\n",
       "    .dataframe thead th {\n",
       "        text-align: right;\n",
       "    }\n",
       "</style>\n",
       "<table border=\"1\" class=\"dataframe\">\n",
       "  <thead>\n",
       "    <tr style=\"text-align: right;\">\n",
       "      <th></th>\n",
       "      <th>season</th>\n",
       "      <th>weather</th>\n",
       "      <th>temp</th>\n",
       "      <th>atemp</th>\n",
       "      <th>humidity</th>\n",
       "      <th>year</th>\n",
       "      <th>hour</th>\n",
       "      <th>dayofweek</th>\n",
       "      <th>holiday</th>\n",
       "      <th>workingday</th>\n",
       "    </tr>\n",
       "  </thead>\n",
       "  <tbody>\n",
       "    <tr>\n",
       "      <th>0</th>\n",
       "      <td>1</td>\n",
       "      <td>1</td>\n",
       "      <td>9.84</td>\n",
       "      <td>14.395</td>\n",
       "      <td>81</td>\n",
       "      <td>2011</td>\n",
       "      <td>0</td>\n",
       "      <td>5</td>\n",
       "      <td>0</td>\n",
       "      <td>0</td>\n",
       "    </tr>\n",
       "    <tr>\n",
       "      <th>1</th>\n",
       "      <td>1</td>\n",
       "      <td>1</td>\n",
       "      <td>9.02</td>\n",
       "      <td>13.635</td>\n",
       "      <td>80</td>\n",
       "      <td>2011</td>\n",
       "      <td>1</td>\n",
       "      <td>5</td>\n",
       "      <td>0</td>\n",
       "      <td>0</td>\n",
       "    </tr>\n",
       "    <tr>\n",
       "      <th>2</th>\n",
       "      <td>1</td>\n",
       "      <td>1</td>\n",
       "      <td>9.02</td>\n",
       "      <td>13.635</td>\n",
       "      <td>80</td>\n",
       "      <td>2011</td>\n",
       "      <td>2</td>\n",
       "      <td>5</td>\n",
       "      <td>0</td>\n",
       "      <td>0</td>\n",
       "    </tr>\n",
       "    <tr>\n",
       "      <th>3</th>\n",
       "      <td>1</td>\n",
       "      <td>1</td>\n",
       "      <td>9.84</td>\n",
       "      <td>14.395</td>\n",
       "      <td>75</td>\n",
       "      <td>2011</td>\n",
       "      <td>3</td>\n",
       "      <td>5</td>\n",
       "      <td>0</td>\n",
       "      <td>0</td>\n",
       "    </tr>\n",
       "    <tr>\n",
       "      <th>4</th>\n",
       "      <td>1</td>\n",
       "      <td>1</td>\n",
       "      <td>9.84</td>\n",
       "      <td>14.395</td>\n",
       "      <td>75</td>\n",
       "      <td>2011</td>\n",
       "      <td>4</td>\n",
       "      <td>5</td>\n",
       "      <td>0</td>\n",
       "      <td>0</td>\n",
       "    </tr>\n",
       "  </tbody>\n",
       "</table>\n",
       "</div>"
      ],
      "text/plain": [
       "   season  weather  temp   atemp  humidity  year  hour  dayofweek  holiday  \\\n",
       "0       1        1  9.84  14.395        81  2011     0          5        0   \n",
       "1       1        1  9.02  13.635        80  2011     1          5        0   \n",
       "2       1        1  9.02  13.635        80  2011     2          5        0   \n",
       "3       1        1  9.84  14.395        75  2011     3          5        0   \n",
       "4       1        1  9.84  14.395        75  2011     4          5        0   \n",
       "\n",
       "   workingday  \n",
       "0           0  \n",
       "1           0  \n",
       "2           0  \n",
       "3           0  \n",
       "4           0  "
      ]
     },
     "execution_count": 10,
     "metadata": {},
     "output_type": "execute_result"
    }
   ],
   "source": [
    "X_train = train[feature_names]\n",
    "\n",
    "print(X_train.shape)\n",
    "X_train.head()"
   ]
  },
  {
   "cell_type": "code",
   "execution_count": 11,
   "metadata": {},
   "outputs": [
    {
     "name": "stdout",
     "output_type": "stream",
     "text": [
      "(6493, 10)\n"
     ]
    },
    {
     "data": {
      "text/html": [
       "<div>\n",
       "<style scoped>\n",
       "    .dataframe tbody tr th:only-of-type {\n",
       "        vertical-align: middle;\n",
       "    }\n",
       "\n",
       "    .dataframe tbody tr th {\n",
       "        vertical-align: top;\n",
       "    }\n",
       "\n",
       "    .dataframe thead th {\n",
       "        text-align: right;\n",
       "    }\n",
       "</style>\n",
       "<table border=\"1\" class=\"dataframe\">\n",
       "  <thead>\n",
       "    <tr style=\"text-align: right;\">\n",
       "      <th></th>\n",
       "      <th>season</th>\n",
       "      <th>weather</th>\n",
       "      <th>temp</th>\n",
       "      <th>atemp</th>\n",
       "      <th>humidity</th>\n",
       "      <th>year</th>\n",
       "      <th>hour</th>\n",
       "      <th>dayofweek</th>\n",
       "      <th>holiday</th>\n",
       "      <th>workingday</th>\n",
       "    </tr>\n",
       "  </thead>\n",
       "  <tbody>\n",
       "    <tr>\n",
       "      <th>0</th>\n",
       "      <td>1</td>\n",
       "      <td>1</td>\n",
       "      <td>10.66</td>\n",
       "      <td>11.365</td>\n",
       "      <td>56</td>\n",
       "      <td>2011</td>\n",
       "      <td>0</td>\n",
       "      <td>3</td>\n",
       "      <td>0</td>\n",
       "      <td>1</td>\n",
       "    </tr>\n",
       "    <tr>\n",
       "      <th>1</th>\n",
       "      <td>1</td>\n",
       "      <td>1</td>\n",
       "      <td>10.66</td>\n",
       "      <td>13.635</td>\n",
       "      <td>56</td>\n",
       "      <td>2011</td>\n",
       "      <td>1</td>\n",
       "      <td>3</td>\n",
       "      <td>0</td>\n",
       "      <td>1</td>\n",
       "    </tr>\n",
       "    <tr>\n",
       "      <th>2</th>\n",
       "      <td>1</td>\n",
       "      <td>1</td>\n",
       "      <td>10.66</td>\n",
       "      <td>13.635</td>\n",
       "      <td>56</td>\n",
       "      <td>2011</td>\n",
       "      <td>2</td>\n",
       "      <td>3</td>\n",
       "      <td>0</td>\n",
       "      <td>1</td>\n",
       "    </tr>\n",
       "    <tr>\n",
       "      <th>3</th>\n",
       "      <td>1</td>\n",
       "      <td>1</td>\n",
       "      <td>10.66</td>\n",
       "      <td>12.880</td>\n",
       "      <td>56</td>\n",
       "      <td>2011</td>\n",
       "      <td>3</td>\n",
       "      <td>3</td>\n",
       "      <td>0</td>\n",
       "      <td>1</td>\n",
       "    </tr>\n",
       "    <tr>\n",
       "      <th>4</th>\n",
       "      <td>1</td>\n",
       "      <td>1</td>\n",
       "      <td>10.66</td>\n",
       "      <td>12.880</td>\n",
       "      <td>56</td>\n",
       "      <td>2011</td>\n",
       "      <td>4</td>\n",
       "      <td>3</td>\n",
       "      <td>0</td>\n",
       "      <td>1</td>\n",
       "    </tr>\n",
       "  </tbody>\n",
       "</table>\n",
       "</div>"
      ],
      "text/plain": [
       "   season  weather   temp   atemp  humidity  year  hour  dayofweek  holiday  \\\n",
       "0       1        1  10.66  11.365        56  2011     0          3        0   \n",
       "1       1        1  10.66  13.635        56  2011     1          3        0   \n",
       "2       1        1  10.66  13.635        56  2011     2          3        0   \n",
       "3       1        1  10.66  12.880        56  2011     3          3        0   \n",
       "4       1        1  10.66  12.880        56  2011     4          3        0   \n",
       "\n",
       "   workingday  \n",
       "0           1  \n",
       "1           1  \n",
       "2           1  \n",
       "3           1  \n",
       "4           1  "
      ]
     },
     "execution_count": 11,
     "metadata": {},
     "output_type": "execute_result"
    }
   ],
   "source": [
    "X_test = test[feature_names]\n",
    "\n",
    "print(X_test.shape)\n",
    "X_test.head()"
   ]
  },
  {
   "cell_type": "code",
   "execution_count": 12,
   "metadata": {},
   "outputs": [
    {
     "name": "stdout",
     "output_type": "stream",
     "text": [
      "(10886,)\n"
     ]
    },
    {
     "data": {
      "text/plain": [
       "0    16\n",
       "1    40\n",
       "2    32\n",
       "3    13\n",
       "4     1\n",
       "Name: count, dtype: int64"
      ]
     },
     "execution_count": 12,
     "metadata": {},
     "output_type": "execute_result"
    }
   ],
   "source": [
    "label_name = \"count\"\n",
    "\n",
    "y_train = train[label_name]\n",
    "\n",
    "print(y_train.shape)\n",
    "y_train.head()"
   ]
  },
  {
   "cell_type": "code",
   "execution_count": 13,
   "metadata": {},
   "outputs": [],
   "source": [
    "from sklearn.metrics import make_scorer\n",
    "\n",
    "def rmsle(predicted_values, actual_values, convertExp=True):\n",
    "\n",
    "    if convertExp:\n",
    "        predicted_values = np.exp(predicted_values),\n",
    "        actual_values = np.exp(actual_values)\n",
    "        \n",
    "    # 넘파이로 배열 형태로 바꿔준다.\n",
    "    predicted_values = np.array(predicted_values)\n",
    "    actual_values = np.array(actual_values)\n",
    "    \n",
    "    # 예측값과 실제 값에 1을 더하고 로그를 씌워준다.\n",
    "    # 값이 0일 수도 있어서 로그를 취했을 때 마이너스 무한대가 될 수도 있기 때문에 1을 더해 줌\n",
    "    # 로그를 씌워주는 것은 정규분포로 만들어주기 위해\n",
    "    log_predict = np.log(predicted_values + 1)\n",
    "    log_actual = np.log(actual_values + 1)\n",
    "    \n",
    "    # 위에서 계산한 예측값에서 실제값을 빼주고 제곱을 해준다.\n",
    "    difference = log_predict - log_actual\n",
    "    difference = np.square(difference)\n",
    "    \n",
    "    # 평균을 낸다.\n",
    "    mean_difference = difference.mean()\n",
    "    \n",
    "    # 다시 루트를 씌운다.\n",
    "    score = np.sqrt(mean_difference)\n",
    "    \n",
    "    return score"
   ]
  },
  {
   "cell_type": "markdown",
   "metadata": {},
   "source": [
    "## 선형회귀 모델 Linear Regression Model\n",
    "\n",
    "* 선형회귀 또는 최소제곱법은 가장 간단하고 오래된 회귀용 선형 알고리즘\n",
    "* 선형회귀는 예측과 훈련 세트에 있는 타깃 y사이의 평균제곱오차(MSE)를 최소화하는 파라미터 w와 b를 찾는다.\n",
    "* 매개변수가 없는 것이 장점이지만, 모델의 복잡도를 제어할 수 없다는 단점이 있다.\n",
    "* 아래 위키피디아에서 가져 온 그래프에서 파란선이 선형회귀 모델을 나타내고 빨간점들이 훈련데이터를 나타낸다.\n",
    "\n",
    "![image.png](data:image/png;base64,iVBORw0KGgoAAAANSUhEUgAAAe4AAAGWCAYAAAC+ZmD6AAAgAElEQVR4Ae3dO27byt/G8R9f/BdiI00KL0LGaWSk9Q6s5iCtBJeOS8NqgzTSDtIGVnMgLcKFm8DaCV8MpaFHIw5v5pBD8hsg4G2uHyp6QuoWxXEcC38QQAABBBBAoBcC/9eLUTJIBBBAAAEEEEgECG4eCAgggAACCPRIgODu0cliqAgggAACCBDcPAYQQAABBBDokQDB3aOTxVARQAABBBAguHkMIIAAAggg0CMBgrtHJ4uhIoAAAgggQHDzGEAAAQQQQKBHAgR3j04WQ0UAAQQQQIDg5jGAAAIIIIBAjwQI7h6dLIaKAAIIIIAAwc1jAAEEEEAAgR4JENw9OlkMFQEEEEAAAYKbxwACCCCAAAI9EiC4e3SyGCoCCCCAAAIEN48BBBBAAAEEeiRAcPfoZDFUBBBAAAEEmgnu/VpuooXsTjz3sr6JJIrUX/vYSUE2EEAAAQQQQKCkQAPBvZPF5Uw2Voe7xaXMrrYSx7Fs50u5XpzGulWcTQQQQAABBBAoIfCp4N6vbySKruV1PpfpSWc7+bOcyur7JNk7+b6S6fKPdUV+UoENBBBAAAEEECgh8Kngli/38h7H8vL962lX+7/yKlfy5eK4++KLXMmr/N2fFmMLAQQQQAABBKoJ/K9a8dPSF5PDFfXp3vpbj4+PJ5UfHh5OttlAAAEEEEBg7AKfCu4m8ezQVm1n7WuyT9pCAAEEEEAgRIG8C9dggtscpA5sc1+IsIwJAQQQQACBpgV0Brra/dxr3K5W7de07de8XfXYjwACCCCAAAK5An6CWybybb6R2c/DR8B2P2eymX+TZl8Rz50XBxFAAAEEEBikgLdb5ZPnrcyja4mWym0u25jYHuQjiEkhgAACCLQq0ExwX9zJS2yPeyLPcSzP9m62EUAAAQQQQKC2gKdb5bXHQ0UEEEAAAQQQyBEguHNwOIQAAggggEBoAgR3aGeE8SCAAAIIIJAjQHDn4HAIAQQQQACB0AQI7tDOCONBAAEEEEAgR4DgzsHhEAIIIIAAAqEJENyhnRHGgwACCCCAQI4AwZ2DwyEEEEAAAQRCEyC4QzsjjAcBBBBAAIEcAYI7B4dDCCCAAAIIhCZAcId2RhgPAggggAACOQIEdw4OhxBAAAEEEAhNgOAO7YwwHgQQQAABBHIECO4cHA4hgAACCCAQmgDBHdoZYTwIIIAAAgjkCBDcOTgcQgABBBBAIDQBgju0M8J4EEAAAQQQyBEguHNwOIQAAggggEBoAgR3aGeE8SCAAAIIIJAjQHDn4HAIAQQQQACB0AQI7tDOCONBAAEEEBi1wMOPH7nzJ7hzeTiIAAIIIIBAiwJRdOhMLzO6JrgzUNiFAAIIIIBA6wJ2WNvbxwH5C+79Wm6iSCL192Yt+9YF6BABBBBAAIGeCDhCWjL2ewrunSwuZyKrd4njWN5vf8vlYtcTPYaJAAIIIIBAiwIZ4XzSu3XcT3Dv/8qrzOX+7iLp++LuXubLJ1lz2X1yLthAAAEEEEBA4jgfwTruJ7jzh8BRBBBAAAEEEDAFrHBOD2Xs/196sMmViy9yJTP5s3uWyURkv36SpWxkrq64Dxfhmb09Pj5m7mcnAggggAACgxdQIW3eFs8IbWXg6Yp7Is/vK3m9Prw57V+5l9U0n5zQzvfhKAIIIIDACAR0WOtlxpT9XHGrji7u5CW+O3a5k8VsKl9/ZYzguOvh4SE9SIinFKwggAACCIxM4PHHD/lIxPPJe7ritjpK3qx2JV9ybpNbNdhEAAEEEEAAgQwBT8G9k0V0k76LfPdzJpv5N5lkDIBdCCCAAAIIIFBewNOt8ok8b/9IdBnJTI1lupL3F2K7/GmhJAIIIIAAAtkCnoJbRCbPEsfP2b2yFwEEEEAAAQRqCXi6VV5rLFRCAAEEEEAAgQIBf1fcBR2P9bD67nb+IFBGQH1dMH8QQAABW4DgtkVa2OYJuQXknnfBf/B6fgIZPgIeBbhV7hGXphFAAAEEEGhagOBuWpT2EEAAAQQQ8ChAcHvEpWkEEEAAAQSaFiC4mxalPQQQQACB4QgE+IZigns4D696M9mv5SY6/BiMekOU/rvY1WuulVrJmBcS8hBbcaATBBDwK6BDWy/99la6dYK7NNWQC85lG8ei3u1++LsVuY7kZq1+h7XgTxchmvyAzXPxV+h2MbYCLg4jgEBPBOywtrc7nAbB3SH+p7v29kBSX1k7l83sJ1e1nz5JNIAAAr0TcD23uva3PEGCu2XwxrrTDyC9bKzhY0OTbzKXV/mrL7p3i/Q2enI7PbmXvpPF5Uw2spRr40dlJLNsxgCPV8Tr9U3a9skt+uS4vn3/8aM1Yl5JZ7RxuFOQPba90Zeax0l/GUNkFwIIjEyg6Dm16HgLXAR3C8iNd2E/cOztRjq8kK/Tjbwlwb2TxfVS5tvjrfTtXGT5JOv9RJ7fVzIVdav9Re6Sn211lXUNaimzt/vDLfr3lbxe64A+BO9V2ueVzC5dr2sv5bf8OrSR3inIGNt+Lf/Orj5eFtjOZXntatM1XvYjgMCgBYq+sbDoeAs4BHcLyI124Qpp1/5GOp/IcxzLs/6Bt+Rq3NVwlbKqjamsvh8bvriT+/lGfv+3F0l+w30u3076NO4AnHQ/ldt/jj/2fvFVpifH7A2jjeMP4egu7JJsI4DASAVc4eza3zITwd0y+Ke6KwrnouOVOt/L22YqX495eLg9rW9bX8syr62TW9wFZeVKvug+zDb3b7KZfpWPQ+YdALOgWne0YRdTb2p7v5Xfl3oeJd+AZ7fDNgIIDF/ADml7u0MBgrtD/MpdFz1wio5X6XD3R5bTW0kuZFUQX/6W2/ePd53PXW1VKZu0YVwBm22qK+fNm+iX2EWs/0iYZausJ+9IP87jfSUy+1fKvHm+SheURQCBgQjo51S9DGRaBHcgJ6L0MFwPINf+0g2bBY+vU9/fHa541dWvcVW7W9hX0Ub4FpY1+1HrG5n9PH4ie7+Wp+XxtvfFF7mSpfzRH9ZW/5EwxmC34t42x6Y+s26/pl3yat3dAUcQQGDIAo0+tzYDRXA349huK/YDyd6uPBr1rvCP28dRdC2yNV/T/i6r6UeZp69bWek3rl38I7fTjcwuj+/QnuSUzRzXXFZfnw7vKr+cydVWv8nt8Oay1+vjuK5fZfVe4rPbZh/22C7u5Nfq9WOuSX8V2zTbZx0BBBDoQCCKA/yNycfHx4Ti4eGhAxK/XaqPIDVGrl7T/nRo+51vbuvJbfU3uY8JT9up0ceJ3TjbCCAQtIDKwLz844o76NNXMLg+h3bB1DiMAAIIIJAt8L/s3exFAAEEEEAAgbYFDh8OepC8G84Ed9tnhf4+BJJ3eH9ssoYAAgiMVcD+NG/eK6EE91gfJcwbAQQQQKBzATuw9YDyXgnlNW6txBIBBBBAAIGWBFRgu0L7x4/DG7RdQyG4XTLsRwABBBBAoEEBHdauwFZX2XlX2noo/oL75Gsv9Q9H6G5ZIoAAAgggMA4BHdiu2ZYNbF3fU3Cf/rJT8s2Szl920kNhiQACCCAwOgHX5ecAIJoObE3iJ7itX3a6uLs//W1n3TtLBBBAAIHxCujQ1suBSOQFtr66LnNL3MXhJ7iTr5q0vmda/2CFayTsRwABBBAYj4Ad1vZ2DyXKBHYT0/IT3HIhdy/v8vXp+D3TT1/l/eX4gxU5o1Zf86a/7jSnGIeaFEjei2D/8Maxg7xjTY5hCG1hNYSzyBzaEnCFtGt/W+Oq2U9bga2H5+lz3DtZRNfyunqX+OVC9usbuYzeZJvzndQEtj4lAS35gpTyJwOr8laUHLdAUTir45+5j9yibt5UfE7BT3AfX+O+v7tICJPXuGdP8ncvMjnsOqM1v1CdED/jYQcCCCAwDAGVaF0lXkOCXQ/f063yhnRoplsB8/bvcX29vjn8BGcUyc16/zG+5Lj+aVDr43+7RVpH/epVtPj4/e2bm4UsblS9jNv1qk37eMl+btZrWUTHcVRsR90hSsZ5/KlTPVw1WeexZFzGHFzjPJZzOn6IsobAcAVcl6Ou/QFIqLDWf7OGo4be1vD9BPfxzWlPxyf2/fpJlnIlXxxX21kIY9qnHwxtLuv5LuW3/Ep+ljTezmUz+ymHCFYf//stt+/x8diVzNKP/+1kcb2U+VYfm4ssnyTN/M1S5F4dc/y058nxnH5UICa/2X3o5/5tJktzkhXa+Xd2Jdv4Y7zL62Mg79fiPGb2Jacfh4y3pocq6HI8aYQNBIYtYKecvR3I7PXzsms4bQa2HoOf4FZvTvu1EpldJlculzOR1bvjiVmPZKRL9aDo4k+9fqdy+8/xf18XX2WqB777I0vzUwOT77Ka6k8VTOQ5juV5ciw8+SZzXS9ZTuVr7n/ojOM5/ez/+y2b+b0cX52RyffVx/jsfnLaOQztNXlZJ1mfPFv/qcg7dqgt1schJZmzUU8cjsfqLBAYjYAOa70MaOIhBrbm8RTcIpK8Wed41RK/pE+oumOWB4GuHq/1+s25a7KZyeXx1nIUXcpsY5zhk9vG16dXwoV3Yqw+8/oxupSLL3Jlbtv9uNpRj9v3W/l9qW/7Gy8J5B0z+9q/yWb6VT7+P3IhX6cbeUtfWbDmZNZlHYGxCdR7MvKmlBfYaqj6r7cBlGjYX3CX6JwiBwH9QGhz2bj9dCXv+vbycZlcZavQNm+jx1vrirviSFz9qGZe/0qajclVb07bee2Y/+lMvvbv349b+3nHdHfqbsTm7WMsspe3jXHnQJdjiQACwQiUCexQBktwh3Im+jwOdSt481v+S1NTfRxQvzHsTTbG1e5uYV9xV5h4Tj8X/9zK1BhDcuvc1XROO3J889jx7XPHFo5XyHnHzL6Sq339UoGIqFvzhoFZlHUEEOhWoE+BraX8fBxMt86yJwJLuY5O3sol09W7vPxTdvgTeX7/KzeXkcyOVdSb0ZLXmy/U692XafvT1VZW0+vDbeOPe8klO8rpR+7kZfsm0XEM09VK5vLb0W5+O79W6nsHPt58oOaSvER/cSfOYyc9qfZXicehlams3l8ObZyUY2NUAuoxpW6r8ScIAeOf+Nl4Qj9NURyHN0T9OW7zs91nsj3doT5mFCB5TzVzhp3con+Te9e71XOqhnCIx0kIZ6HBMZgpEd5TboMTDb8p81TYow3l1KgMzMs/bpXbZ47tfgoknxX/+Bx1cqv85A1i/ZwWox6AgJ0U9vYAphj6FBS5/ps1VhXYoYR21vjsfdwqt0XY7qfA5Fm28yi9JS8yl21c/P34/Zwso+6NgCuk1f4+JUVvwE8H6uLXpfp6CghufQZZ9l5g8hxL/Nz7aTCBoQgUpQbh7e1MZ9HHEkkkh/cY9DWwNRi3yrUESwQQQKBJgaJ0KDre5FhG0pYKbFdoKwIV3il7VsGeOHHF3cGJUm884g8CCIxAQKVE1r/3ND1GYGBPUXk0PP8sYt2tCuuTP2ZhD2M56cvTBsHtCdbVLO8od8mwH4GBCtjhXSe0ehowZ2dUh2ZD89HNnfWjrq7VXfG8ArpSQ2PRzbWx5FZ5G8r0gQAC4xbQYa2XVTR0+OhllbohlbXHb29XGKuq6qquiEuHtu7T1Zg+HtiS4A7shDAcBBAYqMBnQluT9Cxg9LCdKWvOx1xPK56uqCKuYmlg6ypVvV0N6/YCWnKrPKCTwVAQQACBVMAVJGp/1VBKG+1gxTUPPRTzeMbczMO6irnMpVAHixrQjeU2pAuFseSKO4zzwCgQQACBD4GisCk6/tFS92tVA/E4N7XIm6ZqtlTTZQqVKdO9ZDoCgjulYAUBBBAIRKAoSIqOBzKNdBhVx5uT2Kqpqs2lFbIqV24snVVnKwR3Z/R0jAACCOQIuALFtT+nqSAOVRy3+TEuVVX/rT0Xs3+9rpe1G+2mIsHdjTu9IoAAAsUCdrDY28UtFJfIubotrlyxhB6/Wup1RxPqW85KFHPULrG7oP8SLXRWhODujJ6OEUAAgRICOmD0skSV0kV0aOtl6YqfKHich+pSfwXpWWvxIbTP9rMjESC4eSAggAACoQv4DG0996bCu6CdJLCNLzM7C28fc9VzHMiS4B7IiWQaCCCAQGkBV7i69pdtWNfXS6Oe2pWx+1BCh7VeGvVYPRcguM9N2IMAAggMV8CZnscpFx13ydj1jttqYR/STaicTrM6XdFHWboECG6XDPsRQACBIQoUBWTR8SwTVzI79qsu6nST1fUY9xHcYzzrzBkBBMYt4EpN1/48LUc46ypZH+vSx1jWE/AT3LuFqJ+utP/erPf1RkktBBBAAIFmBeyQtrfL9lZQz/vHusqOc0Dl/AT35FnUz1emf7dzEZnL/d3FgOiYCgIIINBzAR26ellxOupiO/kr6jc0M/6E+rGugrsEGTMJalcLPzKyk8X1UubbWCZBTZ3BIIAAAgjUebE5K/eSK2sxPudV8z8D3s+IHrxahjrGAgTvwb1fP8lyupJ3UrvgVHAYAQQQCFtAZ17WKA8ZePw1rlAD0Z5AT8Pbc3Dv5b/fG5nfv0iZm+SPj49Zjwf2IYAAAgh0KGDnnTmUs4w+22GW7nDdNYkehref17j1udn/J783c/lW4mqb0NZoLBFAAIEwBFSmufJO5XOoGX2m55qELlh0XJcLZOn1inv/32/ZzO/lpcRkHx4e0lKEeErBCgIIINCqQFGG9SasTTU16LyJ9WxSXq+4928bmX4tc5PcFGYdAQQQQKBtAZVrRdnWs3w7JXQN3rX/tHZQWx6Dey9/X0WuvhDcQZ1xBoMAAggYAoMPbGOuZ/f2exjaajpeg/ttMxUuuM1HDesIINC5QN5lZeeDa28AeYGt8kz/bW9ELfWkw1ovW+q2yW48vsY9kee4xLvSmpwNbSGAAAJ5Ajq01bLHT9x5Uyw8pr7V0vGFKaMh6flEPV5xFz58KIAAAgi0J6BDW/dob+v9A10m0z3O2fz+cDVdlWM9z7KBnrXsaXm84s7ukL0IIIBA6wKukFb7B55YeupnYa2+5Wzgc2/9cdZSh1xxtwRNNwgg0JGATi5X90XHXfUC36+mpadmh3Y6dF0g3cFKHwQI7j6cJcaIAAL1BYquKouO1++59Zo6rM08doa2Hp1ZWO9jGbQAwR306WFwCCDQiIArnF37G+m0vUZ0YGf16HojWlp2IAbpfEawQnCP4CQzRQQQOL4Dy4QIMbAqXv3mBbaaqppiMk3XXF37TSfWgxMguIM7JQwIAQS8Ceig0ktvHdVoWIe2XuY0kRfYamr670kT9pzt7ZPCbIQsQHCHfHYYGwIINC8QYmDZYW1vHxXKBHYumJ67XuYW5mCoAnwcLNQzw7gQQGAcAo6QTt4SfgxYVxEFVDmDK1cYx2no0ywJ7j6dLcaKAALDEshLZDVTvuVsWOe7odlwq7whSJpBAAEEKgsUXP1mvSNcVSmoVnkYn6pQ9J+PTzVO5SwBgjtLhX0IIIBAWwKOFFahbX4GO7jAVj46tPWyLbOR90Nwj/wBwPQRQKBbAZV59pW1GdoqvB3Z3v3AzREQ3qaG13WC2ysvjSOAAALZAklgRx/HdHiboZ0eDS0UXeNx7U8nwkoTAgR3E4q0gQACCJQUsAP7pFp8env85FgooVg0jqLjJ5Nio44AwV1HjToIIIBARYG8wE5fvy4KvaLjFcdUq3jRffui47U6pZIpQHCbGqwjgAACDQuUCmzdZ1HoFR3X7fheusbh2u97PCNrn+Ae2Qlnuggg0I5AqcDOuoJ2hZ9rfzvTOe/FHo+9fV6DPQ0JENwNQdIMAgggoARKBbYuaC5NPjsE7W2zbBvrWf/BUP3qcellG2OhDyG4eRAgMGYB1xPymE1qzF2HtYtT5dpJttkF7W01Bl1BL2uMq5Eqemx6aTfa9fjs8Yxgm+AewUlmighkCugnYr3MLMTOPAFFl8enMu0s11wVsvafVc4bjYdj9pjsbQ9d0mSxAMFdbEQJBIYnYD8B29vDm3GjM1JceWSZga1GkFepzPFGZ1HQmGusrv0FzXG4OQGCuzlLWkKgHwKuJ17X/n7MqpVRKiIXkw7r3Ivk3IPG7fFWZpPTiWuSukrRcV2OpRcBgtsLK40iEKhA0RNu0fFAp+V7WIrFRaMD2zkGu6IrvF37nQ17PFA0lqLjHodG0+LzzWl7Wd9EEqmfpYsiuVnv8UYAga4Fip5wi453Pf6W+/9UYKux6tDWSz1+29ne1uW6XLrG5Nrf5VhH1re3K+7d4lJmspJ39RV+7yuR2b9Cdo/s0cV0wxRwPfG69oc5C6+j+nRgq9HZYW1va2+99Dqjmo3bY7O3azZLtc8J/O9z1V21d/JnOZXV+51cqCIXd/IS37kKsx8BBNoWUE/AZpCM/QlZWcTxCYl9SioRmbZmQ8d+0l2VGk1rtbuiHyt9GGu7Mp315ueKe/9XXuVKviSp3dnc6BgBBPIE9BOxXuaVHfIxHbJ6ac1V8VQicrSTNlt0PC0Y0EolgIDGPdCheAruN9lMv4qsb9LXuBe7YsHHx0dRf/mDAAItCYz4CTnJTytE1W9f6z+VA9usqNezliM2z+JgX3UBP8GtxrGZyZP8kli9xr2dy/L6Jvc1bgK7+smjBgIIVBdQWa3+miFttqL2fzpbXQ249psDYB2BAgFPr3GLyHQlv+6O98on32U1vZQ39cZyx+3zh4eHdKiEeErBCgIINCRgXly7QjvtKkn2ON2staJC+qTTT7ZXaxBUGqKAnyvui68y3bwJHwAb4kOGOSHQLwGVnWZ+qtFHUhCiTV0Z63b0sl90jDZQAU/BfSf386U86c9/7X7KbDOXb5NAFRgWAggMTiArsPUkkxx1halrv65cddl0e1X7p/zgBLzdKp88v8vfm0uJZgez+TYWcntwjx8mhEBwAvbVtTnAswxVO8wKZwXM2qwjEIaAt+BWL2bfvcTCp7fDONGMAoGhC5j5a881N491eOcWsltkG4HuBDwGd3eTomcEEBiHQF5YK4HSWVy64DhcmWXYAgR32OeH0SGAQIZAY4Gd0Ta7EAhdgOAO/QwxPgQQSAUI7JSClRELENwjPvlMHYG+COQFNne5+3IWGWdTAn4+DtbU6GgHAQTaEchLRtcI6tRxteXYr7pwdaMCm9B2wLF70AIE96BPL5NDoISATka9LFElTdMqdcq0eyyjmnU1TWBXgKToIAUI7kGeViaFQEkBOx3t7axm7DL2dladkvtUU67mCOySiBQbvADBPfhTzAQRcAi4EtK1XzXjOuba7+ja3q2qu5ogsG0ttscuwJvTxv4IYP7jFHClpNZQx+0XkOvU0e1lLIuas7vPaIJdCIxSgCvuUZ52Jj16gaJUzDqetc+ELDp+LKsCOy+0VTMlmzJ7Zx2B0QgQ3KM51UwUAUvAlY6u/aq665hrv9llFBHYpgfrCNQUILhrwlENgUEI2IFrb2dN0i5jb1t1kqvr4yW2/TvYqqr+a1VjEwEEHAIEtwOG3QiMRkAHr16Wmbguq5cZdfQt8bOwVr+Gze3wDDF2IVBOgOAu50QpBIYtkBPAzok76ujAVvXs0E7bOl6Bp9usIIBAaQGCuzQVBRFAIE/ADGxVzhnauhHCW0uwRKCSAMFdiYvCCCBgC9iBrY9HEuvV7KXjij27MHsRQEAL8DluLcESAQRKCxRdLH9kcpz92a+PAqX7pCACCBwECG4eCQggUFqgfGAbTaqQNisS2gYOqwhUFyC4q5tRA4HRCZi5mzX5wizW4V1YMKt19iGAgClAcJsarCOAwIlAXmBXzuDKFU6GwgYCCBwFCG4eCgggcCbQaGCftc4OBBD4jADB/Rk96iLQJwGVxgVXvQR2n04oYx2rAME91jPPvMcloBPZEd76cBZKQdZnVWEfAgh4FPD3Oe79Wm6SHxVQPywQSXSzlr3HidA0Agg4BOxUNrbVqrF50oAKbEL7hIQNBIIQ8HfFvX+TzXwr8fMkiIkyCARGKeBKZfWfaccXpBDWo3ykMOkeCXi74t79Wcr060WPKBgqAgMTcIX2cZr2V5JyhT2w8890BivgKbj38vd1Krf/ENyDfeQwsfAFCi6d9RU3gR3+qWSECJgCnm6V7+VtI/L6bySzjepuKqv3F7kryPHHx0dzbKwjgMAnBA4X3HHmj32o0C7I9U/0TFUEEPAp4OeKe/9XXkXk9pd6clB/7+XtciG7nJkQ2jk4HEKggoAKbPMuub6yTptI/k2mW6wggEDPBPxccV/cyUt8Z1G8yt+9yMRx1f3w8JCWJ8RTClYQKC1ghvVZJXV5rQqYl9n29lkldiCAQIgCfoI7xJkyJgQGKpAX2GZOn4W28iC8B/qoYFpDFvBzq3y3kCgybo2rW+fTW+G9akN+KDG3tgVU5rpCWwX2SWibg7Mr2dtmWdYRQCA4AT9X3JNneV/dyGX6hDCXbfwsjrvkwaEwIARCFkj/WWUM0hnWuqyrstpfWFk3whIBBLoU8BPcInJx9yJnL3N3OVP6RqDHAq681VMqlblFjRDempMlAkELeAvuoGfN4BDoiUBR1pYKbD1XVTivwUqN6UZZIoBA2wIEd9vi9IdACYG8fFXVa2esK7xrN1hiMhRBAIFGBQjuRjlpDIHPCeQFdmPZaod3Yw1/bu7URgCBcgIEdzknSiHgVaCVwDZnoMOb0DZVWEegFwIEdy9OE4McqkDrgW1CEtqmBusI9EaA4O7NqWKgQxLoNLCHBMlcEBihAME9wpPOlLsTILC7s6dnBIYiQHAP5Uwyj2AF8sJaDZo71sGeOgaGQJACBHeQp4VBDUGAwB7CWWQOCIQnQHCHd04YUc8FCOyen0CGj0DgAgR34CeI4fVHIC+wuR3en/PISBEIXYDgDv0MMb7gBQjs4E8RA0RgUAIE96BOJ5NpU4DAblObvhBAQAsQ3FqCJQIlBQjsklAUQwABLwIEtxdWGh2iAIE9xLPKnBDonwDB3b9zxohbFMgLazUM3nTW4smgKwQQSB/ZdHEAABZoSURBVAQIbh4ICGQIENgZKOxCAIEgBAjuIE4DgwhFgMAO5UwwDgQQcAkQ3C4Z9o9KIC+wB3s7XE16sJMb1cOXyY5M4P9GNl+mO0aBnFRWh1yHVaYNNtf0pPVyjI8L5oxATwUI7p6eOIZdUkAHk14eq6lNa1fa4KADW83Snri9nUqwggACIQoQ3CGeFcbUjIAdSFGUZJa9W3c26MDWk9ZLPWm9dO3Xx1kigEAwAgR3MKeCgTQq4AiiWKKzbgYd2Gq22kIvzwSOO4qOu+qxHwEEWhXwH9z7tdxEC9m1Oi06G7VAQQDp8B58YKsHQYHFyeNEgWT9qdJGVn32IYBAowLeg3v3cyabRodMYwjkC0TiCCBdLY6H+6YzPUe1rBK4RaFdpS1zDKwjgEDjAn6De7eQ69epTBsfdg8a5Imu9ZOkyDW7M7xdAdX6aD13qCHKdOMysduwt8u0TRkEEGhcwGNw72X9JLL9ddv4oINvUD/B6WXwA+73ABVzFvVZeLsCqt/Tzx590Vz1cb20W8kCVWVc++36bCOAgDcBb1/Asl//K79vf8mL/CdPJYf/+PhYsmTAxewnNrXtenIMeBp9GJpNbY75gzw+hM3HDrPYsNfVnLOQtIVe2gpZdcwyPKZNDdYRaF3A0xX3Tn7+vpVfdxelJzTI0NazL3oi1OVYlhJQnC5SlUVneXS2o1Q3zRdyDbr5nj5atOdub3+U/FgrKlN0/KMl1hBAwIOAlyvu3eJa5D6W8rEt8vDwkE6vlyFe9KSsjvOEl57jOit5xMHT6sF38ThQOFX71XXsExU8tD1gthEYnoCHK+6d/FmKLK/Vl11EEl2qd5Uv5TqKZDHkz4QVPaEVHR/eY6uxGSWZp4PPalWxBk9rj93etuaUu1m3bh0ku469nTtQDiKAgC8BD8E9kefk4zbqIzexxO8rmcpctnEszxNf0wikXdcTm2t/IMMOcRgqn/Tf9HPXxpenKNJesLqC1rU/72ToOnqZV7apYxpZL5tql3YQQKC2gIfgrj2WYVS0n+Ds7WHM0tssVCaZuaRDW3eotntDak5ET8BcFh3PK1ulrtlOnfXegNeZHHUQ6J+Al9e4Txgu7uSl4PswTsoPYUM90aknVp7wSp/NrByyQztt7LO2n62fDqRgRT8OXMXKPj6ycFSbbc3DNX72I4BAJwJccftiL/uk7Kv/nrSrsicrl5yhreeVVUkfy1vqenqZV7aJY67HgWu/3WfROIuO2+2xjQACvRcguHt/Cvs5AZU3rsxJMq0o2IqOZ7HYHdrbWXWa2GeP1d7O66OobNHxvLY5hgACvRQguEM5bW2FSMfzVdN0TVVl0EkOnWwYA3ftN4qcrbo6de0/a+CTO/SY9bJKc646rv1V2qYsAgj0ToDgDuGU6fDQy6bG1HR7elw12lVVXNVU/jgzyD5gb+sx5S1dHes6Rcd1uc8u64xd92nXtbd1OZYIIDB4AYK761Nsh4a9XXd8uh29rNuOXU+3p5f2cWtbFXMVVdlTKn90Ib20+ijcLKpXdLywg5YK6HHqZUvd0g0CCIQlQHB3eT5ciebaX3asdn17u2w7djm7HXv7WF7t1n/tJtS2yp3K2VO5gtWzq75rv1U9mM2+jTcYOAaCwHAECO6uzqUj9NLhFB1PC1orrnqu/VZ156arvrFfrRqbZ02pzOk0d+zO7e2zEbMDAQQQCE+A4O7qnBSFRtHxrHHnpaYqX3Q8q80y9dRX20auyjWvsPMadHdVfES76mVxDUoggAACQQkQ3F2eDld4uPYXjbWoXtFxV/sF9c5+99q4HV5QNbtHHdp6mV2q/t5ag6rfHTURQACBJgUI7iY167Rlh4i9XbVNV33X/rLtO+rboa2KOYqW68kOa3u7XCuUQgABBAYrQHCHcGp10unlZ8dkt2Nv12zfDmlzW3Xx6W5cIe3aX3MeVEMAAQT6LEBwh3L2Pp161kR0e3ppHa60abyGrcNaL1XzTXSR+yK5GizhXemUURgBBIYrQHAP7dyaAffJRE2aOrZnfne4Cu3GAlv7F4216LhuhyUCCCAwcAH/vw42cMCgpqdDWy1rBp1uQs3LDOt0u2a7pZxU2+YAdCWffeo+WCKAAAI9EeCKuycnqnCYduDZ2wUNqOJmFTu00+pmoXRngyt2SNvbDXZFUwgggEAfBQjuPp41e8yuMHXtN+qrInYxZ2jrenYFvb+ppQ5rvWyqXdpBAAEEBiBAcPf9JBaFqOO42u04VHybvY1AbaOPvp97xo8AAqMUILj7ftqLAs46nhfYqmhaPF2xgFz7rWJsIoAAAgj4ESC4/bi226orTI39pQPbHLlRP9ltb5tlWUcAAQQQaEWA4G6FuYVO7FA9btcKbHO4ul29NI+xjgACCCDQugAfB2ud3GOHKlxVUsex+/Xr4/eIVxoFoV2Ji8IIIICATwGC26duy22rzFafvhbHL3WRvy2fELpDAAEEPAgQ3B5Q227yENjuXglstw1HEEAAgb4JENx9O2PGeAlsA4NVBBBAYCQC/t6ctltIlPw4RSRRdCPr/UhEW5imCmxXaKura/23haHQBQIIIIBAywJ+gnu/lpvrV1m9qx+jiCXeXsnsciG7lic3tO7KBPbQ5sx8EEAAAQROBfwE98WdvMQvcndx7GzyTebyKn+7uup2XZ6eWnS3VTA+Aru7U0PPCCCAQGgCrbzGvV8/yXJ6K+86yNtU0KGoliG+SytnfPpQFleIU8kaJ/sQQAABBJoV8Bvc6pb55Uw2MpXV+50U5fbj42Ozs7OTr+nw/mx7jvHZu00UAtvUYB0BBBAYn4CfW+XaMbllXu41bu+hrceUl4q6TJmlbkcvy9Qxy7jqOfbzhjMTr6F1h3VDrdMMAggg4EXA7xW3HnLyGvdT8hr3xHHZ/fDwoEvLp0O86AlZHf/MpavdftX27PrpzA8r6mc1I/VFKnW+5cxqi02HgD4HVc+dozl2I4AAAm0J+L3ibmsWdj9FoVx03G7P3NZP+OY+te7ab5dT2wX9q9BWRQqKZbXMvjIC9rmyt8u0QRkEEECgIwE/wZ18htv4+Nf+r7xOb+Ufx9W2l7m7Us+1v8wgip7gi44f810V01fUZ92qj88dLrbPDrGjAQHXOXLtb6BLmkAAAQSaFPBzq3zyLO+rG7lMnwznso2fC9+c1uTEkrZUAqZjKL7SLezfbs+ukJO45jB0teTK2vxi8Zz6ug7LTwhknQSzOXWcc2CKsI4AAgEK+AluEbm4e5H4LoAZ67Bt6glZt2dPzdF+XlYcqnz8opfdJNsNC7jOne7GcQ71YZYIIIBACAJ+bpWHMDNzDE0/Idvt2dvGLXFzGHpdFT+pcrKhS7H0IuCydu33MggaRQABBOoLBBvcDz9+1J9VGzX1E71eHvtUV9iuq2xV1CrexkjpwxawT4K9bZdnGwEEEAhIIMjgTkPblYChABpP+AR2KCel5Dj0udPLktUohgACCHQt4O017toTs8NabQf65GoP1Z5zoMO2hznebU7QeM89M0egxwJhBbcrCQMLb9cw9eOAPNASLBFAAAEEmhYI51Z5URoWHa8jU7FNVTyvigrszkM7b4B1jKiDAAIIIBCUQDjBXZR4RcersuqA08uc+qqIq5gO66aHlzMc9yE9SL10l+QIAggggEBPBcIJbgXoSj/X/rrodrDZ28d21W7HoWSoTQ+r7nSSevZA7e1PNU5lBBBAAIFQBMIKbqVip6G9/Vk5V6AZ+9WqsXnSoxpO00M66aDOhmuwrv11+qAOAggggEAQAuEFt4g86s9wN52QRUEWRf0KbPUQKjGnIB5pDAIBBBBAoBGBIINbzSwN70ameWyk4D8CWT/8EeQVtmlSMKfwbg+Yg2cdAQQQQKCqQLDBXXUipcs7gs4O7eAD25ywY06EtonEOgIIIDAMgdEFt7qzbIe0ud2rwDYfg3Z429tmWdYRQAABBHorMJrgTgI7+jhPOqz1sreB/TGlj3fNEdqmCusIIIDAoATC+uY0D7S5792KY4k99Nlpk4R2p/x0jgACCPgWGGxw5wU22eb7YUX7CCCAAAK+BAYX3AS2r4cK7SKAAAIIhCAwmOAmsEN4ODEGBBBAAAHfAr0PbgLb90OE9hFAAAEEQhLoZXDnhbXC5TXskB5ijAUBBBBAoEmBXgU3gd3kqactBBBAAIE+CvQiuAnsPj60GDMCCCCAgA+BoIM7L7C5He7j4UCbCCCAAAKhC/j75rT9Wm6SX9tSv7gVyWJXjeLHj4fMCiqwCe1MGnYigAACCIxAwFNw72RxOZOrbSyx+nay7VyW1zey3pcTzQptArucHaUQQAABBIYt4Ce4d39kOV3J98kRb/JdVtONvJUO7sdUncBOKVhBAAEEEEBA/AT35Fnilzu5SIH38rZJN0qt/Pjx2Mwt8bwXykuNhEIIIIAAAgiEI9DKm9P266fkCvxdX4E75v/4+HGl7ShSbbcObbXkhfFqdpRGAAEEEAhSwHtw79c3cjm7km1sXoGfW3gLbd0V4a0lWCKAAAII9FjAa3AfQltk9f4sBRfb8vDw8S7yT4e4vtK2TwzhbYuwjQACCCDQMwFvwf1xpV0c2o2auUJbd0J4awmWCCCAAAI9FPDz5rT9Wv6dlbvSbtys6LXsouOND4gGEUAAAQQQaE7AS3Dvfs5kIxuZXR6+fEV9AUudL2GpPU1XOLv21+6IiggggAACCLQr4OVW+eQ5lvi53Ymc9aZC2rxtTmifEbEDAQQQQKB/Al6uuINh0GGtl8EMjIEggAACCCBQT2DYwa1MCO16jwxqIYAAAggEKTD84A6SnUEhgAACCCBQT4DgrudGLQQQQAABBDoRILg7YadTBBBAAAEE6gkQ3PXcqIUAAggggEAnAgR3J+x0igACCCCAQD0BgrueG7UQQAABBBDoRIDg7oSdThFAAAEEEKgnQHDXc6MWAggggAACnQgQ3J2w0ykCCCCAAAL1BAjuem7UQgABBBBAoBMBgrsTdjpFAAEEEECgngDBXc+NWggggAACCHQiQHB3wk6nCCCAAAII1BMguOu5UQsBBBBAAIFOBAjuTtjpFAEEEEAAgXoCBHc9N2ohgAACCCDQiQDB3Qk7nSKAAAIIIFBPgOCu50YtBBBAAAEEOhEguDthp1MEEEAAAQTqCRDc9dyohQACCCCAQCcCBHcn7HSKAAIIIIBAPQGCu54btRBAAAEEEOhEwH9w79dyEy1k18n06BQBBBBAAIFhCXgO7p0sLmeyGZYZs0EAAQQQQKAzAW/BvV/fSBRdy+t8LtPOpkfHCCCAAAIIDEvAW3DLl3t5j2N5+f51WGLMBgEEEEAAgQ4F/uer74vJpHLTj4+PletQAQEEEEAAgTEJ+LvirqhIaFcEozgCCCCAwCgFvF1xV9V8eHhIqxDiKQUrCCCAAAIInAgEc8V9Mio2EEAAAQQQQCBTgODOZGEnAggggAACYQoQ3GGeF0aFAAIIIIBApoD/17gv7uQlzuybnQgggAACCCBQUYAr7opgFEcAAQQQQKBLAYK7S336RgABBBBAoKIAwV0RjOIIIIAAAgh0KUBwd6lP3wgggAACCFQUILgrglEcAQQQQACBLgUI7i716RsBBBBAAIGKAgR3RTCKI4AAAggg0KUAwd2lPn0jgAACCCBQUYDgrghGcQQQQAABBLoUILi71KdvBBBAAAEEKgoQ3BXBKI4AAggggECXAgR3l/r0jQACCCCAQEUBgrsiGMURQAABBBDoUoDg7lKfvhFAAAEEEKgoQHBXBKM4AggggAACXQoQ3F3q0zcCCCCAAAIVBQjuimAURwABBBBAoEsBgrtLffpGAAEEEECgogDBXRGM4ggggAACCHQpQHB3qU/fCCCAAAIIVBQguCuCURwBBBBAAIEuBQjuLvXpGwEEEEAAgYoCBHdFMIojgAACCCDQpYDH4N7L+iaSKFJ/F7Lrcpb0jQACCCCAwEAEvAX3bnEps6utxHEs2/lSrhdE90AeM0wDAQQQQKBDAU/BvZM/y6msvk+SqU2+r2S6/MNVd4cnmq4RQAABBIYh4Ce493/lVa7ky8UR6eKLXMmr/N0PA41ZIIAAAggg0JXA/7rqOKvfx8fHk9329slBNhBAAAEEEBihgJ8r7hqQhHQNNKoggAACCIxOIJgr7oeHhxRfh7i5Lz3ISvACnL/gT1HuADl/uTzBH+T8BX+Kcgeoz19eIT9X3PZr2vZr3nkj4hgCCCCAAAIIOAX8BLdM5Nt8I7Ofh4+A7X7OZDP/Jof3mDvHwgEEEEAAAQQQKBDwdqt88ryVeXQt0VKNYC7bmNguOBccRgABBBBAoFAgitU3pPAHAQQQQAABBHoh4OlWeS/mziARQAABBBDonQDB3btTxoARQAABBMYsQHCP+ewzdwQQQACB3gkQ3L07ZQwYAQQQQGDMAgT3mM8+c0cAAQQQ6J0Awd27U8aAEUAAAQTGLEBwj/nsM3cEEEAAgd4JENy9O2UMGAEEEEBgzAIBBvde1jeRRJH6u5DDl6aO+RT1dO77tdxw/vp38pLzpv/9RbLgH2C/zuFucXzuVOfwRtb7fg2f0R4FCp4/gwvu3eJSZldbUV/otp0v5Zpnjh4+lneyuJzJpocjH/eQD+ftahsn//7i7VyW1zz59+YxoZ7sr19l9a7P35XMLrn46c35Mwaa/L6HsW2vBhbcO/mznMrq++F7zSffVzJd/uGq2z5rAW/v1zcSRdfyOp/LNOBxMrQMgd0fWU5XcvznJzL5LqvpRt64asvACnDXxZ28xC9yd3Ec2+SbzOVV/nL+AjxZOUPaLeT6dZr7/BlWcNs//2n/PGjOXDkUiMCXe3mPY3n5/jWQATGM0gKTZ4lf7kQ/74vs5Y3bJqX5Qiu4Xz/Jcnor/3yc0NCGyHjOBPayfhLZ/ro9O2LuCCu4zZGx3kuBi8nEeOLv5RQY9FHg8MRvXIEj0w+B4/sULmciq1/mf8T6Mfwxj3K//ld+334v/AlsgnvMjxLmjoBDQL3kcTm7ku3JFbijMLvDEkhumccSb3mNO6wTUzSanfz8fSu/0tc63OUJbrcNRxAYpcAhtEVW78+F//MfJVBfJs1r3H05U8k4d4trkftyd0jCCm77NW37Ne9enQYGi0D/BNIrbfNNTv2bBiNGoGcC6o3ZIsvr40cxk0/lLOU6yv5IZljBLRP5Nt/I7Ofhw6PJW+Ln3/hff88eggy3pwL7tfyrXhflSrufJzD5DLfx8S914cOb03pyLifyHB8/xqeW7yuZyly2cSzPhw9ZnczjfydbAWxMnrcyj64lWqrBqIFnjDqAcTIEBIYmoD87urmMZGZMbr7NfvIwirAagsDkWd5XN3IZRcfRqOfPZ94sGsK5aXgMUay+6YQ/CCCAAAIIINALgcBulffCjEEigAACCCDQmQDB3Rk9HSOAAAIIIFBdgOCubkYNBBBAAAEEOhMguDujp2MEEEAAAQSqCxDc1c2ogQACCCCAQGcCBHdn9HSMAAIIIIBAdQGCu7oZNRBAAAEEEOhMgODujJ6OEUAAAQQQqC5AcFc3owYCCCCAAAKdCRDcndHTMQIIIIAAAtUFCO7qZtRAAAEEEECgMwGCuzN6OkYAAQQQQKC6AMFd3YwaCCCAAAIIdCZAcHdGT8cIIIAAAghUF/h/GJ5iTh7iaSUAAAAASUVORK5CYII=)"
   ]
  },
  {
   "cell_type": "code",
   "execution_count": 14,
   "metadata": {},
   "outputs": [
    {
     "name": "stdout",
     "output_type": "stream",
     "text": [
      "RMSLE Value For Linear Regression:  0.9803697923313504\n"
     ]
    }
   ],
   "source": [
    "from sklearn.linear_model import LinearRegression, Ridge, Lasso\n",
    "from sklearn.model_selection import GridSearchCV\n",
    "from sklearn import metrics\n",
    "import warnings\n",
    "pd.options.mode.chained_assignment = None\n",
    "warnings.filterwarnings(\"ignore\", category=DeprecationWarning)\n",
    "\n",
    "# 선형회귀 모델을 초기화\n",
    "lModel = LinearRegression()\n",
    "\n",
    "# 모델을 학습시킨다.\n",
    "y_train_log = np.log1p(y_train) # np.log1p(y_train) : log(y_train+1)\n",
    "lModel.fit(X_train, y_train_log)\n",
    "\n",
    "# 예측하고 정확도를 평가한다.\n",
    "preds = lModel.predict(X_train)\n",
    "print (\"RMSLE Value For Linear Regression: \",\n",
    "       rmsle(np.exp(y_train_log),np.exp(preds), False))"
   ]
  },
  {
   "cell_type": "markdown",
   "metadata": {},
   "source": [
    "## 릿지 Regularization Model - Ridge\n",
    "\n",
    "* 회귀를 위한 선형모델\n",
    "* 가중치(w)의 모든 원소가 0에 가깝게 만들어 모든 피처가 주는 영향을 최소화(기울기를 작게 만듦)\n",
    "* Regularization(정규화)는 오버피팅(과대적합)이 되지 않도록 모델을 강제로 제한한다는 의미\n",
    "* max_iter(반복 실행하는 최대 횟수)는 3000을 넣어주었다."
   ]
  },
  {
   "cell_type": "code",
   "execution_count": 15,
   "metadata": {},
   "outputs": [
    {
     "name": "stdout",
     "output_type": "stream",
     "text": [
      "{'alpha': 0.01, 'max_iter': 3000}\n",
      "RMSLE Value For Ridge Regression:  0.9803697902780806\n"
     ]
    },
    {
     "data": {
      "text/html": [
       "<div>\n",
       "<style scoped>\n",
       "    .dataframe tbody tr th:only-of-type {\n",
       "        vertical-align: middle;\n",
       "    }\n",
       "\n",
       "    .dataframe tbody tr th {\n",
       "        vertical-align: top;\n",
       "    }\n",
       "\n",
       "    .dataframe thead th {\n",
       "        text-align: right;\n",
       "    }\n",
       "</style>\n",
       "<table border=\"1\" class=\"dataframe\">\n",
       "  <thead>\n",
       "    <tr style=\"text-align: right;\">\n",
       "      <th></th>\n",
       "      <th>mean_fit_time</th>\n",
       "      <th>std_fit_time</th>\n",
       "      <th>mean_score_time</th>\n",
       "      <th>std_score_time</th>\n",
       "      <th>param_alpha</th>\n",
       "      <th>param_max_iter</th>\n",
       "      <th>params</th>\n",
       "      <th>split0_test_score</th>\n",
       "      <th>split1_test_score</th>\n",
       "      <th>split2_test_score</th>\n",
       "      <th>split3_test_score</th>\n",
       "      <th>split4_test_score</th>\n",
       "      <th>mean_test_score</th>\n",
       "      <th>std_test_score</th>\n",
       "      <th>rank_test_score</th>\n",
       "    </tr>\n",
       "  </thead>\n",
       "  <tbody>\n",
       "    <tr>\n",
       "      <th>0</th>\n",
       "      <td>0.010795</td>\n",
       "      <td>0.006173</td>\n",
       "      <td>0.005795</td>\n",
       "      <td>0.000979</td>\n",
       "      <td>0.01</td>\n",
       "      <td>3000</td>\n",
       "      <td>{'alpha': 0.01, 'max_iter': 3000}</td>\n",
       "      <td>-1.003138</td>\n",
       "      <td>-0.906726</td>\n",
       "      <td>-1.029928</td>\n",
       "      <td>-1.016631</td>\n",
       "      <td>-0.982313</td>\n",
       "      <td>-0.987747</td>\n",
       "      <td>0.043461</td>\n",
       "      <td>1</td>\n",
       "    </tr>\n",
       "    <tr>\n",
       "      <th>1</th>\n",
       "      <td>0.008995</td>\n",
       "      <td>0.002682</td>\n",
       "      <td>0.006396</td>\n",
       "      <td>0.002331</td>\n",
       "      <td>0.1</td>\n",
       "      <td>3000</td>\n",
       "      <td>{'alpha': 0.1, 'max_iter': 3000}</td>\n",
       "      <td>-1.003140</td>\n",
       "      <td>-0.906726</td>\n",
       "      <td>-1.029928</td>\n",
       "      <td>-1.016630</td>\n",
       "      <td>-0.982315</td>\n",
       "      <td>-0.987748</td>\n",
       "      <td>0.043461</td>\n",
       "      <td>2</td>\n",
       "    </tr>\n",
       "    <tr>\n",
       "      <th>2</th>\n",
       "      <td>0.006398</td>\n",
       "      <td>0.001958</td>\n",
       "      <td>0.004396</td>\n",
       "      <td>0.001356</td>\n",
       "      <td>1</td>\n",
       "      <td>3000</td>\n",
       "      <td>{'alpha': 1, 'max_iter': 3000}</td>\n",
       "      <td>-1.003167</td>\n",
       "      <td>-0.906727</td>\n",
       "      <td>-1.029927</td>\n",
       "      <td>-1.016621</td>\n",
       "      <td>-0.982331</td>\n",
       "      <td>-0.987755</td>\n",
       "      <td>0.043461</td>\n",
       "      <td>3</td>\n",
       "    </tr>\n",
       "    <tr>\n",
       "      <th>3</th>\n",
       "      <td>0.005396</td>\n",
       "      <td>0.001022</td>\n",
       "      <td>0.003397</td>\n",
       "      <td>0.001199</td>\n",
       "      <td>2</td>\n",
       "      <td>3000</td>\n",
       "      <td>{'alpha': 2, 'max_iter': 3000}</td>\n",
       "      <td>-1.003196</td>\n",
       "      <td>-0.906728</td>\n",
       "      <td>-1.029926</td>\n",
       "      <td>-1.016612</td>\n",
       "      <td>-0.982349</td>\n",
       "      <td>-0.987762</td>\n",
       "      <td>0.043461</td>\n",
       "      <td>4</td>\n",
       "    </tr>\n",
       "    <tr>\n",
       "      <th>4</th>\n",
       "      <td>0.006397</td>\n",
       "      <td>0.001200</td>\n",
       "      <td>0.003996</td>\n",
       "      <td>0.001095</td>\n",
       "      <td>3</td>\n",
       "      <td>3000</td>\n",
       "      <td>{'alpha': 3, 'max_iter': 3000}</td>\n",
       "      <td>-1.003226</td>\n",
       "      <td>-0.906729</td>\n",
       "      <td>-1.029925</td>\n",
       "      <td>-1.016602</td>\n",
       "      <td>-0.982366</td>\n",
       "      <td>-0.987770</td>\n",
       "      <td>0.043460</td>\n",
       "      <td>5</td>\n",
       "    </tr>\n",
       "  </tbody>\n",
       "</table>\n",
       "</div>"
      ],
      "text/plain": [
       "   mean_fit_time  std_fit_time  mean_score_time  std_score_time param_alpha  \\\n",
       "0       0.010795      0.006173         0.005795        0.000979        0.01   \n",
       "1       0.008995      0.002682         0.006396        0.002331         0.1   \n",
       "2       0.006398      0.001958         0.004396        0.001356           1   \n",
       "3       0.005396      0.001022         0.003397        0.001199           2   \n",
       "4       0.006397      0.001200         0.003996        0.001095           3   \n",
       "\n",
       "  param_max_iter                             params  split0_test_score  \\\n",
       "0           3000  {'alpha': 0.01, 'max_iter': 3000}          -1.003138   \n",
       "1           3000   {'alpha': 0.1, 'max_iter': 3000}          -1.003140   \n",
       "2           3000     {'alpha': 1, 'max_iter': 3000}          -1.003167   \n",
       "3           3000     {'alpha': 2, 'max_iter': 3000}          -1.003196   \n",
       "4           3000     {'alpha': 3, 'max_iter': 3000}          -1.003226   \n",
       "\n",
       "   split1_test_score  split2_test_score  split3_test_score  split4_test_score  \\\n",
       "0          -0.906726          -1.029928          -1.016631          -0.982313   \n",
       "1          -0.906726          -1.029928          -1.016630          -0.982315   \n",
       "2          -0.906727          -1.029927          -1.016621          -0.982331   \n",
       "3          -0.906728          -1.029926          -1.016612          -0.982349   \n",
       "4          -0.906729          -1.029925          -1.016602          -0.982366   \n",
       "\n",
       "   mean_test_score  std_test_score  rank_test_score  \n",
       "0        -0.987747        0.043461                1  \n",
       "1        -0.987748        0.043461                2  \n",
       "2        -0.987755        0.043461                3  \n",
       "3        -0.987762        0.043461                4  \n",
       "4        -0.987770        0.043460                5  "
      ]
     },
     "execution_count": 15,
     "metadata": {},
     "output_type": "execute_result"
    }
   ],
   "source": [
    "ridge_m_ = Ridge()\n",
    "ridge_params_ = { 'max_iter':[3000],'alpha':[0.01, 0.1, 1, 2, 3, 4, 10, 30,100,200,300,400,800,900,1000]}\n",
    "rmsle_scorer = metrics.make_scorer(rmsle, greater_is_better=False)\n",
    "\n",
    "# Grid search of alpha\n",
    "grid_ridge_m = GridSearchCV( ridge_m_,\n",
    "                          ridge_params_,\n",
    "                          scoring = rmsle_scorer,\n",
    "                          cv=5)\n",
    "\n",
    "y_train_log = np.log1p(y_train)\n",
    "grid_ridge_m.fit( X_train, y_train_log )\n",
    "preds = grid_ridge_m.predict(X_train)\n",
    "print (grid_ridge_m.best_params_)\n",
    "print (\"RMSLE Value For Ridge Regression: \", rmsle(np.exp(y_train_log),np.exp(preds), False))\n",
    "\n",
    "df = pd.DataFrame(grid_ridge_m.cv_results_)\n",
    "df.head()"
   ]
  },
  {
   "cell_type": "code",
   "execution_count": 16,
   "metadata": {},
   "outputs": [
    {
     "data": {
      "text/html": [
       "<div>\n",
       "<style scoped>\n",
       "    .dataframe tbody tr th:only-of-type {\n",
       "        vertical-align: middle;\n",
       "    }\n",
       "\n",
       "    .dataframe tbody tr th {\n",
       "        vertical-align: top;\n",
       "    }\n",
       "\n",
       "    .dataframe thead th {\n",
       "        text-align: right;\n",
       "    }\n",
       "</style>\n",
       "<table border=\"1\" class=\"dataframe\">\n",
       "  <thead>\n",
       "    <tr style=\"text-align: right;\">\n",
       "      <th></th>\n",
       "      <th>alpha</th>\n",
       "      <th>rmsle</th>\n",
       "    </tr>\n",
       "  </thead>\n",
       "  <tbody>\n",
       "    <tr>\n",
       "      <th>0</th>\n",
       "      <td>0.01</td>\n",
       "      <td>0.987747</td>\n",
       "    </tr>\n",
       "    <tr>\n",
       "      <th>1</th>\n",
       "      <td>0.10</td>\n",
       "      <td>0.987748</td>\n",
       "    </tr>\n",
       "    <tr>\n",
       "      <th>2</th>\n",
       "      <td>1.00</td>\n",
       "      <td>0.987755</td>\n",
       "    </tr>\n",
       "    <tr>\n",
       "      <th>3</th>\n",
       "      <td>2.00</td>\n",
       "      <td>0.987762</td>\n",
       "    </tr>\n",
       "    <tr>\n",
       "      <th>4</th>\n",
       "      <td>3.00</td>\n",
       "      <td>0.987770</td>\n",
       "    </tr>\n",
       "  </tbody>\n",
       "</table>\n",
       "</div>"
      ],
      "text/plain": [
       "   alpha     rmsle\n",
       "0   0.01  0.987747\n",
       "1   0.10  0.987748\n",
       "2   1.00  0.987755\n",
       "3   2.00  0.987762\n",
       "4   3.00  0.987770"
      ]
     },
     "execution_count": 16,
     "metadata": {},
     "output_type": "execute_result"
    }
   ],
   "source": [
    "df[\"alpha\"] = df[\"params\"].apply(lambda x:x[\"alpha\"])\n",
    "df[\"rmsle\"] = df[\"mean_test_score\"].apply(lambda x:-x)\n",
    "df[[\"alpha\", \"rmsle\"]].head()"
   ]
  },
  {
   "cell_type": "code",
   "execution_count": 17,
   "metadata": {},
   "outputs": [
    {
     "data": {
      "text/plain": [
       "<matplotlib.axes._subplots.AxesSubplot at 0x16aa9122f40>"
      ]
     },
     "execution_count": 17,
     "metadata": {},
     "output_type": "execute_result"
    },
    {
     "data": {
      "image/png": "[encoded data removed]",
      "text/plain": [
       "<Figure size 864x360 with 1 Axes>"
      ]
     },
     "metadata": {},
     "output_type": "display_data"
    }
   ],
   "source": [
    "fig,ax= plt.subplots()\n",
    "fig.set_size_inches(12,5)\n",
    "plt.xticks(rotation=30, ha='right')\n",
    "sns.pointplot(data=df,x=\"alpha\",y=\"rmsle\",ax=ax)"
   ]
  },
  {
   "cell_type": "markdown",
   "metadata": {},
   "source": [
    "## 라쏘 Regularization Model - Lasso\n",
    "\n",
    "* 선형회귀의 Regularization(규제)를 적용하는 대안\n",
    "* 계수를 0에 가깝게 만들려고 하며 이를 `L1규제`라고 하며, 어떤 계수는 0이 되기도 하는데 이는 `완전히 제외하는 피처가 생긴다`는 의미다.\n",
    "* 피처 선택이 자동으로 이루어진다고도 볼 수 있다.\n",
    "* alpha 값의 기본 값은 1.0이며, 과소 적합을 줄이기 위해서는 이 값을 줄여야 한다.\n",
    "* 그리드 서치로 아래 라쏘모델을 실행했을 때 베스트 알파값은 0.0025\n",
    "max_iter(반복 실행하는 최대 횟수)는 3000을 넣어주었다."
   ]
  },
  {
   "cell_type": "code",
   "execution_count": 18,
   "metadata": {},
   "outputs": [
    {
     "name": "stdout",
     "output_type": "stream",
     "text": [
      "{'alpha': 0.00125, 'max_iter': 3000}\n",
      "RMSLE Value For Lasso Regression:  0.9803727821457643\n"
     ]
    },
    {
     "data": {
      "text/html": [
       "<div>\n",
       "<style scoped>\n",
       "    .dataframe tbody tr th:only-of-type {\n",
       "        vertical-align: middle;\n",
       "    }\n",
       "\n",
       "    .dataframe tbody tr th {\n",
       "        vertical-align: top;\n",
       "    }\n",
       "\n",
       "    .dataframe thead th {\n",
       "        text-align: right;\n",
       "    }\n",
       "</style>\n",
       "<table border=\"1\" class=\"dataframe\">\n",
       "  <thead>\n",
       "    <tr style=\"text-align: right;\">\n",
       "      <th></th>\n",
       "      <th>alpha</th>\n",
       "      <th>rmsle</th>\n",
       "    </tr>\n",
       "  </thead>\n",
       "  <tbody>\n",
       "    <tr>\n",
       "      <th>0</th>\n",
       "      <td>10.000000</td>\n",
       "      <td>1.397124</td>\n",
       "    </tr>\n",
       "    <tr>\n",
       "      <th>1</th>\n",
       "      <td>1.000000</td>\n",
       "      <td>1.071947</td>\n",
       "    </tr>\n",
       "    <tr>\n",
       "      <th>2</th>\n",
       "      <td>0.500000</td>\n",
       "      <td>1.062110</td>\n",
       "    </tr>\n",
       "    <tr>\n",
       "      <th>3</th>\n",
       "      <td>0.333333</td>\n",
       "      <td>1.060815</td>\n",
       "    </tr>\n",
       "    <tr>\n",
       "      <th>4</th>\n",
       "      <td>0.250000</td>\n",
       "      <td>1.061139</td>\n",
       "    </tr>\n",
       "  </tbody>\n",
       "</table>\n",
       "</div>"
      ],
      "text/plain": [
       "       alpha     rmsle\n",
       "0  10.000000  1.397124\n",
       "1   1.000000  1.071947\n",
       "2   0.500000  1.062110\n",
       "3   0.333333  1.060815\n",
       "4   0.250000  1.061139"
      ]
     },
     "execution_count": 18,
     "metadata": {},
     "output_type": "execute_result"
    }
   ],
   "source": [
    "lasso_m_ = Lasso()\n",
    "\n",
    "alpha  = 1/np.array([0.1, 1, 2, 3, 4, 10, 30,100,200,300,400,800,900,1000])\n",
    "lasso_params_ = { 'max_iter':[3000],'alpha':alpha}\n",
    "\n",
    "grid_lasso_m = GridSearchCV( lasso_m_,lasso_params_,scoring = rmsle_scorer,cv=5)\n",
    "y_train_log = np.log1p(y_train)\n",
    "grid_lasso_m.fit( X_train , y_train_log )\n",
    "preds = grid_lasso_m.predict(X_train)\n",
    "print (grid_lasso_m.best_params_)\n",
    "print (\"RMSLE Value For Lasso Regression: \",rmsle(np.exp(y_train_log),np.exp(preds),False))\n",
    "\n",
    "df = pd.DataFrame(grid_lasso_m.cv_results_)\n",
    "df[\"alpha\"] = df[\"params\"].apply(lambda x:x[\"alpha\"])\n",
    "df[\"rmsle\"] = df[\"mean_test_score\"].apply(lambda x:-x)\n",
    "\n",
    "df[[\"alpha\", \"rmsle\"]].head()"
   ]
  },
  {
   "cell_type": "code",
   "execution_count": 19,
   "metadata": {},
   "outputs": [
    {
     "data": {
      "text/plain": [
       "<matplotlib.axes._subplots.AxesSubplot at 0x16aa3e6d8e0>"
      ]
     },
     "execution_count": 19,
     "metadata": {},
     "output_type": "execute_result"
    },
    {
     "data": {
      "image/png": "[encoded data removed]",
      "text/plain": [
       "<Figure size 864x360 with 1 Axes>"
      ]
     },
     "metadata": {},
     "output_type": "display_data"
    }
   ],
   "source": [
    "fig,ax= plt.subplots()\n",
    "fig.set_size_inches(12,5)\n",
    "plt.xticks(rotation=30, ha='right')\n",
    "sns.pointplot(data=df,x=\"alpha\",y=\"rmsle\",ax=ax)"
   ]
  },
  {
   "cell_type": "markdown",
   "metadata": {},
   "source": [
    "## 앙상블모델 - 랜덤포레스트\n",
    "\n",
    "### Ensemble Models - Random Forest"
   ]
  },
  {
   "cell_type": "code",
   "execution_count": 26,
   "metadata": {},
   "outputs": [
    {
     "name": "stdout",
     "output_type": "stream",
     "text": [
      "RMSLE Value For Random Forest:  0.21357403727840332\n"
     ]
    }
   ],
   "source": [
    "from sklearn.ensemble import RandomForestRegressor\n",
    "rfModel = RandomForestRegressor(n_estimators=100)\n",
    "\n",
    "y_train_log = np.log1p(y_train)\n",
    "rfModel.fit(X_train, y_train_log)\n",
    "\n",
    "preds = rfModel.predict(X_train)\n",
    "score_rf = rmsle(np.exp(y_train_log),np.exp(preds),False)\n",
    "print (\"RMSLE Value For Random Forest: \",score)"
   ]
  },
  {
   "cell_type": "markdown",
   "metadata": {},
   "source": [
    "## 앙상블모델 - 그라디언트 부스트\n",
    "\n",
    "### Ensemble Model - Gradient Boost\n",
    "\n",
    "* 여러개의 결정트리를 묶어 강력한 모델을 만드는 또 다른 앙상블 기법\n",
    "* 회귀와 분류에 모두 사용할 수 있음\n",
    "* 랜덤포레스트와 달리 `이진 트리의 오차를 보완`하는 방식으로 `순차적으로 트리를 만든다.`\n",
    "* 무작위성이 없고 강력한 사전 가지치기가 사용 됨\n",
    "* 1~5개의 깊지 않은 트리를 사용하기 때문에 메모리를 적게 사용하고 예측이 빠름\n",
    "* learning_rate : 오차를 얼마나 강하게 보정할 것인지를 제어\n",
    "* n_estimator의 값을 키우면 앙상블에 트리가 더 많이 추가 되어 모델의 복잡도가 커지고 훈련세트에서의 실수를 바로잡을 기회가 많아지지만 너무 크면 모델이 복잡해지고 오버피팅(과대적합)이 될 수있다.\n",
    "* max_depth(max_leaf_nodes) 복잡도를 너무 높이지 말고 트리의 깊이가 5보다 깊어지지 않게 한다."
   ]
  },
  {
   "cell_type": "code",
   "execution_count": 27,
   "metadata": {},
   "outputs": [
    {
     "name": "stdout",
     "output_type": "stream",
     "text": [
      "RMSLE Value For Gradient Boost:  0.2135740372784033\n"
     ]
    }
   ],
   "source": [
    "from sklearn.ensemble import GradientBoostingRegressor\n",
    "gbm = GradientBoostingRegressor(n_estimators=4000, alpha=0.01);\n",
    "\n",
    "y_train_log = np.log1p(y_train)\n",
    "gbm.fit(X_train, y_train_log)\n",
    "\n",
    "preds = gbm.predict(X_train)\n",
    "score = rmsle(np.exp(y_train_log),np.exp(preds),False)\n",
    "print (\"RMSLE Value For Gradient Boost: \", score)"
   ]
  },
  {
   "cell_type": "code",
   "execution_count": 28,
   "metadata": {},
   "outputs": [
    {
     "data": {
      "text/plain": [
       "<matplotlib.axes._subplots.AxesSubplot at 0x16ab09fd9d0>"
      ]
     },
     "execution_count": 28,
     "metadata": {},
     "output_type": "execute_result"
    },
    {
     "data": {
      "image/png": "[encoded data removed]",
      "text/plain": [
       "<Figure size 864x360 with 2 Axes>"
      ]
     },
     "metadata": {},
     "output_type": "display_data"
    }
   ],
   "source": [
    "predsTest = gbm.predict(X_test)\n",
    "fig,(ax1,ax2)= plt.subplots(ncols=2)\n",
    "fig.set_size_inches(12,5)\n",
    "sns.distplot(y_train,ax=ax1,bins=50)\n",
    "sns.distplot(np.exp(predsTest),ax=ax2,bins=50)"
   ]
  },
  {
   "cell_type": "markdown",
   "metadata": {},
   "source": [
    "## Submit"
   ]
  },
  {
   "cell_type": "code",
   "execution_count": 29,
   "metadata": {},
   "outputs": [
    {
     "name": "stdout",
     "output_type": "stream",
     "text": [
      "(6493, 2)\n"
     ]
    },
    {
     "data": {
      "text/html": [
       "<div>\n",
       "<style scoped>\n",
       "    .dataframe tbody tr th:only-of-type {\n",
       "        vertical-align: middle;\n",
       "    }\n",
       "\n",
       "    .dataframe tbody tr th {\n",
       "        vertical-align: top;\n",
       "    }\n",
       "\n",
       "    .dataframe thead th {\n",
       "        text-align: right;\n",
       "    }\n",
       "</style>\n",
       "<table border=\"1\" class=\"dataframe\">\n",
       "  <thead>\n",
       "    <tr style=\"text-align: right;\">\n",
       "      <th></th>\n",
       "      <th>datetime</th>\n",
       "      <th>count</th>\n",
       "    </tr>\n",
       "  </thead>\n",
       "  <tbody>\n",
       "    <tr>\n",
       "      <th>0</th>\n",
       "      <td>2011-01-20 00:00:00</td>\n",
       "      <td>11.227543</td>\n",
       "    </tr>\n",
       "    <tr>\n",
       "      <th>1</th>\n",
       "      <td>2011-01-20 01:00:00</td>\n",
       "      <td>6.296610</td>\n",
       "    </tr>\n",
       "    <tr>\n",
       "      <th>2</th>\n",
       "      <td>2011-01-20 02:00:00</td>\n",
       "      <td>4.259238</td>\n",
       "    </tr>\n",
       "    <tr>\n",
       "      <th>3</th>\n",
       "      <td>2011-01-20 03:00:00</td>\n",
       "      <td>2.666615</td>\n",
       "    </tr>\n",
       "    <tr>\n",
       "      <th>4</th>\n",
       "      <td>2011-01-20 04:00:00</td>\n",
       "      <td>2.295918</td>\n",
       "    </tr>\n",
       "  </tbody>\n",
       "</table>\n",
       "</div>"
      ],
      "text/plain": [
       "              datetime      count\n",
       "0  2011-01-20 00:00:00  11.227543\n",
       "1  2011-01-20 01:00:00   6.296610\n",
       "2  2011-01-20 02:00:00   4.259238\n",
       "3  2011-01-20 03:00:00   2.666615\n",
       "4  2011-01-20 04:00:00   2.295918"
      ]
     },
     "execution_count": 29,
     "metadata": {},
     "output_type": "execute_result"
    }
   ],
   "source": [
    "submission = pd.read_csv(\"data/sampleSubmission.csv\")\n",
    "submission\n",
    "\n",
    "submission[\"count\"] = np.exp(predsTest)\n",
    "\n",
    "print(submission.shape)\n",
    "submission.head()"
   ]
  },
  {
   "cell_type": "code",
   "execution_count": 30,
   "metadata": {},
   "outputs": [],
   "source": [
    "submission.to_csv(\"Score_{0:.5f}_submission.csv\".format(score_rf), index=False)"
   ]
  },
  {
   "cell_type": "markdown",
   "metadata": {},
   "source": [
    "참고 :\n",
    "\n",
    "*  [EDA & Ensemble Model (Top 10 Percentile) | Kaggle](https://www.kaggle.com/viveksrinivasan/eda-ensemble-model-top-10-percentile)\n",
    "*  [How to finish top 10 percentile in Bike Sharing Demand Competition In Kaggle? (part -1)](https://medium.com/@viveksrinivasan/how-to-finish-top-10-percentile-in-bike-sharing-demand-competition-in-kaggle-part-1-c816ea9c51e1)\n",
    "*  [How to finish top 10 percentile in Bike Sharing Demand Competition In Kaggle? (part -2)](https://medium.com/@viveksrinivasan/how-to-finish-top-10-percentile-in-bike-sharing-demand-competition-in-kaggle-part-2-29e854aaab7d)\n",
    "* [Kaggle Bike Sharing Demand Prediction - How To Get In Top 5 Of Competition](https://www.analyticsvidhya.com/blog/2015/06/solution-kaggle-competition-bike-sharing-demand/)"
   ]
  }
 ],
 "metadata": {
  "kernelspec": {
   "display_name": "Python 3",
   "language": "python",
   "name": "python3"
  },
  "language_info": {
   "codemirror_mode": {
    "name": "ipython",
    "version": 3
   },
   "file_extension": ".py",
   "mimetype": "text/x-python",
   "name": "python",
   "nbconvert_exporter": "python",
   "pygments_lexer": "ipython3",
   "version": "3.8.3"
  }
 },
 "nbformat": 4,
 "nbformat_minor": 4
}
