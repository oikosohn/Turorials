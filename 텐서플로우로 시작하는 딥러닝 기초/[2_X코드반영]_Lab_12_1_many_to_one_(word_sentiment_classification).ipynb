{
  "nbformat": 4,
  "nbformat_minor": 0,
  "metadata": {
    "colab": {
      "name": "[2.X코드반영] Lab 12-1: many to one (word sentiment classification).ipynb",
      "provenance": [],
      "collapsed_sections": []
    },
    "kernelspec": {
      "name": "python3",
      "display_name": "Python 3"
    },
    "language_info": {
      "name": "python"
    }
  },
  "cells": [
    {
      "cell_type": "markdown",
      "metadata": {
        "id": "JB3WchIGeeU9"
      },
      "source": [
        "# [2.X코드반영] Lab 12-1: many to one (word sentiment classification)"
      ]
    },
    {
      "cell_type": "code",
      "metadata": {
        "colab": {
          "base_uri": "https://localhost:8080/"
        },
        "id": "RRxIxqrdedss",
        "outputId": "c4c3a53d-2daf-4b4a-f8a4-a47782a8530e"
      },
      "source": [
        "import numpy as np\n",
        "import tensorflow as tf\n",
        "import matplotlib.pyplot as plt\n",
        "\n",
        "from tensorflow import keras\n",
        "from tensorflow.keras import layers\n",
        "from tensorflow.keras import Sequential, Model\n",
        "from tensorflow.keras.preprocessing.sequence import pad_sequences\n",
        "\n",
        "%matplotlib inline\n",
        "\n",
        "print(tf.__version__)"
      ],
      "execution_count": null,
      "outputs": [
        {
          "output_type": "stream",
          "text": [
            "2.4.1\n"
          ],
          "name": "stdout"
        }
      ]
    },
    {
      "cell_type": "markdown",
      "metadata": {
        "id": "1p2b9-vweuZT"
      },
      "source": [
        "## 데이터셋 준비"
      ]
    },
    {
      "cell_type": "code",
      "metadata": {
        "colab": {
          "base_uri": "https://localhost:8080/"
        },
        "id": "0wJtbDMNetRz",
        "outputId": "0d21e4ef-a1e6-4169-f645-3b1998748fac"
      },
      "source": [
        "# 예제\n",
        "words = ['good', 'bad', 'worse', 'so good']\n",
        "# 긍정 : 1 , 부정 : 0\n",
        "y_data = [1,0,0,1]\n",
        "\n",
        "# 토큰 사전 생성\n",
        "# <pad> 사용 이유 : word를 캐릭터의 시퀀스로 간주했을 때 각각의 시퀀스 길이가 다르기 때문이다.\n",
        "# RNN을 구현할 때 데이터가 서로 다른 시퀀스의 length를 가진 경우 길이를 맞추기 위해서 pad와 같은 특별한 토큰 사용\n",
        "char_set = ['<pad>']+sorted(list(set(''.join(words))))\n",
        "idx2char = {idx: char for idx, char in enumerate(char_set)}\n",
        "char2idx = {char: idx for idx, char in enumerate(char_set)}\n",
        "\n",
        "print(char_set)\n",
        "# 각각의 토큰이 정수 인덱스에 매핑되어있다.\n",
        "print(idx2char)\n",
        "print(char2idx)"
      ],
      "execution_count": null,
      "outputs": [
        {
          "output_type": "stream",
          "text": [
            "['<pad>', ' ', 'a', 'b', 'd', 'e', 'g', 'o', 'r', 's', 'w']\n",
            "{0: '<pad>', 1: ' ', 2: 'a', 3: 'b', 4: 'd', 5: 'e', 6: 'g', 7: 'o', 8: 'r', 9: 's', 10: 'w'}\n",
            "{'<pad>': 0, ' ': 1, 'a': 2, 'b': 3, 'd': 4, 'e': 5, 'g': 6, 'o': 7, 'r': 8, 's': 9, 'w': 10}\n"
          ],
          "name": "stdout"
        }
      ]
    },
    {
      "cell_type": "code",
      "metadata": {
        "colab": {
          "base_uri": "https://localhost:8080/"
        },
        "id": "4K1hFMBAfUgc",
        "outputId": "fdf11519-ed92-42de-c13e-951e1da18dc2"
      },
      "source": [
        "# 토큰의 시퀀스를 인덱스들의 시퀀스로 변환\n",
        "x_data = list(map(lambda word: [char2idx.get(char) for char in word], words))\n",
        "x_data_len = list(map(lambda word: len(word), x_data))\n",
        "\n",
        "# 각각의 word가 정수 인덱스의 시퀀스로 변환되어 있다.\n",
        "print(x_data)\n",
        "print(x_data_len)"
      ],
      "execution_count": null,
      "outputs": [
        {
          "output_type": "stream",
          "text": [
            "[[6, 7, 7, 4], [3, 2, 4], [10, 7, 8, 9, 5], [9, 7, 1, 6, 7, 7, 4]]\n",
            "[4, 3, 5, 7]\n"
          ],
          "name": "stdout"
        }
      ]
    },
    {
      "cell_type": "code",
      "metadata": {
        "colab": {
          "base_uri": "https://localhost:8080/"
        },
        "id": "LKIvFZkzfs59",
        "outputId": "3f55b703-395f-4a29-8d68-1dcc10593a22"
      },
      "source": [
        "# 인덱스들의 시퀀스에 패딩\n",
        "max_sequence = 10\n",
        "\n",
        "# 변환한 데이터를 pad_sequences로 max_sequence 값만큼 길이로 변환한 데이터를 padding(기본 패딩값 : 0) 한다.\n",
        "x_data = pad_sequences(sequences=x_data, maxlen=max_sequence, padding='post', truncating='post')\n",
        "\n",
        "# 데이터 확인\n",
        "print(x_data)\n",
        "print(x_data_len)\n",
        "print(y_data)"
      ],
      "execution_count": null,
      "outputs": [
        {
          "output_type": "stream",
          "text": [
            "[[ 6  7  7  4  0  0  0  0  0  0]\n",
            " [ 3  2  4  0  0  0  0  0  0  0]\n",
            " [10  7  8  9  5  0  0  0  0  0]\n",
            " [ 9  7  1  6  7  7  4  0  0  0]]\n",
            "[4, 3, 5, 7]\n",
            "[1, 0, 0, 1]\n"
          ],
          "name": "stdout"
        }
      ]
    },
    {
      "cell_type": "markdown",
      "metadata": {
        "id": "7H5LYKQLf-kr"
      },
      "source": [
        "## 모델 생성"
      ]
    },
    {
      "cell_type": "code",
      "metadata": {
        "id": "29VHj7jRf3et"
      },
      "source": [
        "# many to one RNN\n",
        "\n",
        "input_dim = len(char2idx)\n",
        "output_dim = len(char2idx)\n",
        "one_hot = np.eye(len(char2idx))\n",
        "hidden_size = 10\n",
        "num_classes = 2\n",
        "\n",
        "model = Sequential()\n",
        "\n",
        "# Embedding layer는 토큰을 one-hot vector로 표현한다.\n",
        "# mask_zero=True : 전처리 단계에서 0 값으로 패딩된 부분을 연산에서 제외가능하다.\n",
        "# trainable=False : one-hot vector를 학습하지 않는다.\n",
        "model.add(layers.Embedding(input_dim=input_dim, output_dim=output_dim, trainable=False, mask_zero=True, input_length=max_sequence,\n",
        "                           embeddings_initializer=keras.initializers.Constant(one_hot)))\n",
        "\n",
        "# SimpleRNN은 기본적으로 시퀀스의 마지막 토큰을 입력으로 받아 처리한 결과를 반환한다.\n",
        "model.add(layers.SimpleRNN(units=hidden_size))\n",
        "\n",
        "# many to one\n",
        "model.add(layers.Dense(units=num_classes))"
      ],
      "execution_count": null,
      "outputs": []
    },
    {
      "cell_type": "code",
      "metadata": {
        "colab": {
          "base_uri": "https://localhost:8080/"
        },
        "id": "9KOvCRW2goet",
        "outputId": "58d811c5-abbc-412c-9071-ceb3c41db4de"
      },
      "source": [
        "model.summary()"
      ],
      "execution_count": null,
      "outputs": [
        {
          "output_type": "stream",
          "text": [
            "Model: \"sequential_1\"\n",
            "_________________________________________________________________\n",
            "Layer (type)                 Output Shape              Param #   \n",
            "=================================================================\n",
            "embedding (Embedding)        (None, 10, 11)            121       \n",
            "_________________________________________________________________\n",
            "simple_rnn (SimpleRNN)       (None, 10)                220       \n",
            "_________________________________________________________________\n",
            "dense (Dense)                (None, 2)                 22        \n",
            "=================================================================\n",
            "Total params: 363\n",
            "Trainable params: 242\n",
            "Non-trainable params: 121\n",
            "_________________________________________________________________\n"
          ],
          "name": "stdout"
        }
      ]
    },
    {
      "cell_type": "markdown",
      "metadata": {
        "id": "sKRR2jl4RRau"
      },
      "source": [
        "embedding (Embedding), (None, 10, 11) : (data dimension, max sequence, input dimension)\n",
        "\n",
        "simple_rnn (SimpleRNN), (None, 10) : (data dimension, hidden size)\n",
        "\n",
        "dense (Dense), (None, 2) : (data dimesion, num of class)\n"
      ]
    },
    {
      "cell_type": "markdown",
      "metadata": {
        "id": "IDk1zobyguY7"
      },
      "source": [
        "## 모델 학습"
      ]
    },
    {
      "cell_type": "code",
      "metadata": {
        "id": "bFSoP_Cpgtqr"
      },
      "source": [
        "# 손실함수\n",
        "def loss_fn(model, x, y):\n",
        "  # 모델 출력 : y_pred=model(x)\n",
        "  # 정답 : y_true=y, \n",
        "  # tf.keras.losses.sparse_categorical_crossentropy : y 정수값으로 입력되기 때문\n",
        "  return tf.reduce_mean(tf.keras.losses.sparse_categorical_crossentropy(\n",
        "      y_true=y, y_pred=model(x), from_logits=True))\n",
        "\n",
        "# 옵티마이저\n",
        "lr = 0.01\n",
        "epochs = 30\n",
        "batch_size = 2\n",
        "opt = tf.keras.optimizers.Adam(learning_rate=lr)"
      ],
      "execution_count": null,
      "outputs": []
    },
    {
      "cell_type": "code",
      "metadata": {
        "colab": {
          "base_uri": "https://localhost:8080/"
        },
        "id": "kM1zdr0thHjT",
        "outputId": "28a6d87d-226c-4cd5-d4ef-6108e8541e5c"
      },
      "source": [
        "# 데이터 파이프라인 생성\n",
        "tr_dataset = tf.data.Dataset.from_tensor_slices((x_data, y_data))\n",
        "tr_dataset = tr_dataset.shuffle(buffer_size=4)\n",
        "tr_dataset = tr_dataset.batch(batch_size=batch_size)\n",
        "\n",
        "print(tr_dataset)"
      ],
      "execution_count": null,
      "outputs": [
        {
          "output_type": "stream",
          "text": [
            "<BatchDataset shapes: ((None, 10), (None,)), types: (tf.int32, tf.int32)>\n"
          ],
          "name": "stdout"
        }
      ]
    },
    {
      "cell_type": "code",
      "metadata": {
        "colab": {
          "base_uri": "https://localhost:8080/"
        },
        "id": "VKcRLmfLhWL8",
        "outputId": "efe8a29f-6667-4ddc-d59e-3398cfd3f9c5"
      },
      "source": [
        "# 학습\n",
        "tr_loss_hist = []\n",
        "\n",
        "for epoch in range(epochs):\n",
        "  avg_tr_loss = 0\n",
        "  tr_step = 0\n",
        "\n",
        "  for x_mb, y_mb in tr_dataset:\n",
        "    with tf.GradientTape() as tape: # 미니 배치마다 cross_entropy loss 계산\n",
        "      tr_loss = loss_fn(model, x=x_mb, y=y_mb)\n",
        "\n",
        "    # gradient 계산\n",
        "    grads = tape.gradient(target=tr_loss, sources=model.variables)\n",
        "    \n",
        "    # gradien descent 실행\n",
        "    opt.apply_gradients(grads_and_vars=zip(grads, model.variables))\n",
        "    avg_tr_loss += tr_loss\n",
        "    tr_step += 1\n",
        "  else:\n",
        "    avg_tr_loss /= tr_step\n",
        "    tr_loss_hist.append(avg_tr_loss)\n",
        "\n",
        "  if (epoch+1) % 5 == 0:\n",
        "    print('epoch: {:3}, tr_loss: {:.3f}'.format(epoch+1, avg_tr_loss.numpy()))"
      ],
      "execution_count": null,
      "outputs": [
        {
          "output_type": "stream",
          "text": [
            "epoch:   5, tr_loss: 0.008\n",
            "epoch:  10, tr_loss: 0.003\n",
            "epoch:  15, tr_loss: 0.002\n",
            "epoch:  20, tr_loss: 0.001\n",
            "epoch:  25, tr_loss: 0.001\n",
            "epoch:  30, tr_loss: 0.001\n"
          ],
          "name": "stdout"
        }
      ]
    },
    {
      "cell_type": "markdown",
      "metadata": {
        "id": "V_PaWqrsgwcL"
      },
      "source": [
        "## 성능 확인"
      ]
    },
    {
      "cell_type": "code",
      "metadata": {
        "colab": {
          "base_uri": "https://localhost:8080/"
        },
        "id": "grHaLdV4gxz7",
        "outputId": "ed3442cd-ea96-4885-e2e5-a01c1a0898b7"
      },
      "source": [
        "yhat = model.predict(x_data)\n",
        "yhat = np.argmax(yhat, axis=-1)\n",
        "print('acc: {:.2%}'.format(np.mean(yhat==y_data)))"
      ],
      "execution_count": null,
      "outputs": [
        {
          "output_type": "stream",
          "text": [
            "acc: 100.00%\n"
          ],
          "name": "stdout"
        }
      ]
    },
    {
      "cell_type": "code",
      "metadata": {
        "colab": {
          "base_uri": "https://localhost:8080/",
          "height": 283
        },
        "id": "9oELbHdKiQuM",
        "outputId": "5c173021-2800-458d-aecd-83fa61ceb5b7"
      },
      "source": [
        "plt.plot(tr_loss_hist)"
      ],
      "execution_count": null,
      "outputs": [
        {
          "output_type": "execute_result",
          "data": {
            "text/plain": [
              "[<matplotlib.lines.Line2D at 0x7f5623d80ed0>]"
            ]
          },
          "metadata": {
            "tags": []
          },
          "execution_count": 24
        },
        {
          "output_type": "display_data",
          "data": {
            "image/png": "[encoded data removed]",
            "text/plain": [
              "<Figure size 432x288 with 1 Axes>"
            ]
          },
          "metadata": {
            "tags": [],
            "needs_background": "light"
          }
        }
      ]
    }
  ]
}