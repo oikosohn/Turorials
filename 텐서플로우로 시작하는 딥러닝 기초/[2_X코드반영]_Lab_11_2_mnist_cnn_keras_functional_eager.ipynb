{
  "nbformat": 4,
  "nbformat_minor": 0,
  "metadata": {
    "colab": {
      "name": "[2.X코드반영] Lab 11-2: mnist cnn keras functional eager.ipynb",
      "provenance": [],
      "collapsed_sections": []
    },
    "kernelspec": {
      "name": "python3",
      "display_name": "Python 3"
    },
    "language_info": {
      "name": "python"
    }
  },
  "cells": [
    {
      "cell_type": "markdown",
      "metadata": {
        "id": "5GEO1ASjBqUG"
      },
      "source": [
        "# [2.X코드반영] Lab 11-2: mnist cnn keras functional eager\n"
      ]
    },
    {
      "cell_type": "markdown",
      "metadata": {
        "id": "AAKZuLNhGfRG"
      },
      "source": [
        "## Importing Libraries"
      ]
    },
    {
      "cell_type": "code",
      "metadata": {
        "colab": {
          "base_uri": "https://localhost:8080/"
        },
        "id": "E3L8IAqdBoy3",
        "outputId": "2ed061c7-6a51-4b5e-fc0d-369f615b0cd3"
      },
      "source": [
        "import tensorflow as tf\n",
        "from tensorflow import keras\n",
        "from tensorflow.keras.utils import to_categorical\n",
        "import numpy as np\n",
        "import matplotlib.pyplot as plt\n",
        "import os\n",
        "\n",
        "print(tf.__version__)\n",
        "print(keras.__version__)"
      ],
      "execution_count": 3,
      "outputs": [
        {
          "output_type": "stream",
          "text": [
            "2.4.1\n",
            "2.4.0\n"
          ],
          "name": "stdout"
        }
      ]
    },
    {
      "cell_type": "markdown",
      "metadata": {
        "id": "-iSk1PoaGiYt"
      },
      "source": [
        "## Hyper Parameters"
      ]
    },
    {
      "cell_type": "code",
      "metadata": {
        "id": "0KmyEi9_GegW"
      },
      "source": [
        "learning_rate = 0.001\n",
        "training_epochs = 15\n",
        "batch_size = 100\n",
        "tf.random.set_seed(777)"
      ],
      "execution_count": 4,
      "outputs": []
    },
    {
      "cell_type": "markdown",
      "metadata": {
        "id": "fEevZLGoGrtV"
      },
      "source": [
        "## Creating a Checkpoint Directory"
      ]
    },
    {
      "cell_type": "code",
      "metadata": {
        "id": "Y4Z1QlA9GrWf"
      },
      "source": [
        "cur_dir = os.getcwd()\n",
        "ckpt_dir_name = 'checkpoints'\n",
        "model_dir_name = 'mnist_cnn_seq'\n",
        "\n",
        "checkpoint_dir = os.path.join(cur_dir, ckpt_dir_name, model_dir_name)\n",
        "os.makedirs(checkpoint_dir, exist_ok=True)\n",
        "\n",
        "checkpoint_prefix = os.path.join(checkpoint_dir, model_dir_name)"
      ],
      "execution_count": 5,
      "outputs": []
    },
    {
      "cell_type": "markdown",
      "metadata": {
        "id": "mi7HpohLKo1v"
      },
      "source": [
        "## MNIST/Fashion MNIST Data"
      ]
    },
    {
      "cell_type": "code",
      "metadata": {
        "id": "XOEMY3yZKoOI"
      },
      "source": [
        "mnist = keras.datasets.mnist\n",
        "class_names = ['0','1','2','3','4','5','6','7','8','9']"
      ],
      "execution_count": 6,
      "outputs": []
    },
    {
      "cell_type": "markdown",
      "metadata": {
        "id": "BblIp17YK2Q_"
      },
      "source": [
        "## Datasets"
      ]
    },
    {
      "cell_type": "code",
      "metadata": {
        "id": "Ozg9mTv3K15P",
        "colab": {
          "base_uri": "https://localhost:8080/"
        },
        "outputId": "ec028a7c-34cb-41fb-c431-e560c4b4029c"
      },
      "source": [
        "(train_images, train_labels), (test_images, test_labels) = mnist.load_data()\n",
        "\n",
        "train_images = train_images.astype(np.float32)/255.\n",
        "test_images = test_images.astype(np.float32)/255.\n",
        "\n",
        "train_images = np.expand_dims(train_images, axis=-1)\n",
        "test_images = np.expand_dims(test_images, axis=-1)\n",
        "\n",
        "train_labels = to_categorical(train_labels, 10)\n",
        "test_labels = to_categorical(test_labels, 10)\n",
        "\n",
        "train_dataset = tf.data.Dataset.from_tensor_slices((train_images, train_labels)).shuffle(buffer_size = 1000000).batch(batch_size)\n",
        "test_dataset = tf.data.Dataset.from_tensor_slices((test_images, test_labels)).batch(batch_size)"
      ],
      "execution_count": 7,
      "outputs": [
        {
          "output_type": "stream",
          "text": [
            "Downloading data from https://storage.googleapis.com/tensorflow/tf-keras-datasets/mnist.npz\n",
            "11493376/11490434 [==============================] - 0s 0us/step\n"
          ],
          "name": "stdout"
        }
      ]
    },
    {
      "cell_type": "markdown",
      "metadata": {
        "id": "N7_9qYWXLl3W"
      },
      "source": [
        "## Model Function(Functional API)"
      ]
    },
    {
      "cell_type": "code",
      "metadata": {
        "id": "iw2P3ytWLT7o"
      },
      "source": [
        "def create_model_F():\n",
        "  inputs = keras.Input(shape=(28,28,1))\n",
        "  conv1 = keras.layers.Conv2D(filters=32, kernel_size=3, activation=tf.nn.relu, padding='SAME')(inputs)\n",
        "  pool1 = keras.layers.MaxPool2D(padding='SAME')(conv1)\n",
        "  conv2 = keras.layers.Conv2D(filters=64, kernel_size=3, activation=tf.nn.relu, padding='SAME')(pool1)\n",
        "  pool2 = keras.layers.MaxPool2D(padding='SAME')(conv2)\n",
        "  conv3 = keras.layers.Conv2D(filters=128, kernel_size=3, activation=tf.nn.relu, padding='SAME')(pool2)\n",
        "  pool3 = keras.layers.MaxPool2D(padding='SAME')(conv3)\n",
        "  pool3_flat = keras.layers.Flatten()(pool3)\n",
        "  dense4 = keras.layers.Dense(units=256, activation=tf.nn.relu)(pool3_flat)\n",
        "  drop4 = keras.layers.Dropout(rate=0.4)(dense4)\n",
        "  logits = keras.layers.Dense(units=10)(drop4)\n",
        "  return keras.Model(inputs=inputs, outputs=logits)"
      ],
      "execution_count": 20,
      "outputs": []
    },
    {
      "cell_type": "code",
      "metadata": {
        "colab": {
          "base_uri": "https://localhost:8080/"
        },
        "id": "SBcMnxXKMY7o",
        "outputId": "88eb2dcc-b265-426b-aac3-d7b224b79357"
      },
      "source": [
        "model = create_model_F()\n",
        "model.summary()"
      ],
      "execution_count": 21,
      "outputs": [
        {
          "output_type": "stream",
          "text": [
            "Model: \"model_1\"\n",
            "_________________________________________________________________\n",
            "Layer (type)                 Output Shape              Param #   \n",
            "=================================================================\n",
            "input_3 (InputLayer)         [(None, 28, 28, 1)]       0         \n",
            "_________________________________________________________________\n",
            "conv2d_6 (Conv2D)            (None, 28, 28, 32)        320       \n",
            "_________________________________________________________________\n",
            "max_pooling2d_3 (MaxPooling2 (None, 14, 14, 32)        0         \n",
            "_________________________________________________________________\n",
            "conv2d_7 (Conv2D)            (None, 14, 14, 64)        18496     \n",
            "_________________________________________________________________\n",
            "max_pooling2d_4 (MaxPooling2 (None, 7, 7, 64)          0         \n",
            "_________________________________________________________________\n",
            "conv2d_8 (Conv2D)            (None, 7, 7, 128)         73856     \n",
            "_________________________________________________________________\n",
            "max_pooling2d_5 (MaxPooling2 (None, 4, 4, 128)         0         \n",
            "_________________________________________________________________\n",
            "flatten_1 (Flatten)          (None, 2048)              0         \n",
            "_________________________________________________________________\n",
            "dense_2 (Dense)              (None, 256)               524544    \n",
            "_________________________________________________________________\n",
            "dropout_1 (Dropout)          (None, 256)               0         \n",
            "_________________________________________________________________\n",
            "dense_3 (Dense)              (None, 10)                2570      \n",
            "=================================================================\n",
            "Total params: 619,786\n",
            "Trainable params: 619,786\n",
            "Non-trainable params: 0\n",
            "_________________________________________________________________\n"
          ],
          "name": "stdout"
        }
      ]
    },
    {
      "cell_type": "markdown",
      "metadata": {
        "id": "BOU8bcFLM1yv"
      },
      "source": [
        "## Loss Function"
      ]
    },
    {
      "cell_type": "code",
      "metadata": {
        "id": "biVhobM-MbfG"
      },
      "source": [
        "@tf.function\n",
        "def loss_fn(model, images, labels):\n",
        "  logits = model(images, training=True)\n",
        "  loss = tf.reduce_mean(tf.keras.losses.categorical_crossentropy(\n",
        "      y_pred=logits, y_true=labels, from_logits=True))\n",
        "  return loss"
      ],
      "execution_count": 22,
      "outputs": []
    },
    {
      "cell_type": "markdown",
      "metadata": {
        "id": "Jv5piEBIM3Ce"
      },
      "source": [
        "## Calculating Gradient"
      ]
    },
    {
      "cell_type": "code",
      "metadata": {
        "id": "gDNVfjixM1bp"
      },
      "source": [
        "@tf.function\n",
        "def grad(model, images, labels):\n",
        "  with tf.GradientTape() as tape:\n",
        "    loss = loss_fn(model, images, labels)\n",
        "  return tape.gradient(loss, model.variables)"
      ],
      "execution_count": 23,
      "outputs": []
    },
    {
      "cell_type": "markdown",
      "metadata": {
        "id": "5neGwSj0M4ZH"
      },
      "source": [
        "## Caculating Model's Accuracy"
      ]
    },
    {
      "cell_type": "code",
      "metadata": {
        "id": "3zOq6WWNM5Uq"
      },
      "source": [
        "@tf.function\n",
        "def evaluate(model, images, labels):\n",
        "  logits = model(images, training=False)\n",
        "  correct_prediction = tf.equal(tf.argmax(logits,1), tf.argmax(labels, 1))\n",
        "  accuracy = tf.reduce_mean(tf.cast(correct_prediction, tf.float32))\n",
        "  return accuracy"
      ],
      "execution_count": 24,
      "outputs": []
    },
    {
      "cell_type": "markdown",
      "metadata": {
        "id": "fmUTb7aSM5qj"
      },
      "source": [
        "## Optimizer"
      ]
    },
    {
      "cell_type": "code",
      "metadata": {
        "id": "yfIkJdemM6Cx"
      },
      "source": [
        "optimizer = tf.keras.optimizers.Adam(learning_rate=learning_rate)"
      ],
      "execution_count": 25,
      "outputs": []
    },
    {
      "cell_type": "markdown",
      "metadata": {
        "id": "N4neW1GtM5mZ"
      },
      "source": [
        "## Creating a Checkpoint"
      ]
    },
    {
      "cell_type": "code",
      "metadata": {
        "id": "8CVQ7oluM6Pq"
      },
      "source": [
        "checkpoint = tf.train.Checkpoint(cnn=model)"
      ],
      "execution_count": 26,
      "outputs": []
    },
    {
      "cell_type": "markdown",
      "metadata": {
        "id": "--zlaGUCNAGi"
      },
      "source": [
        "## Training  - Functional API"
      ]
    },
    {
      "cell_type": "code",
      "metadata": {
        "id": "puNz9EJ2NB-q"
      },
      "source": [
        "@tf.function\n",
        "def train(model, images, labels):\n",
        "  grads = grad(model, images, labels)\n",
        "  optimizer.apply_gradients(zip(grads, model.trainable_variables))"
      ],
      "execution_count": 27,
      "outputs": []
    },
    {
      "cell_type": "code",
      "metadata": {
        "colab": {
          "base_uri": "https://localhost:8080/"
        },
        "id": "vU1UUxInO0nY",
        "outputId": "8493338b-1721-4e2d-dd6b-e9e9c472deae"
      },
      "source": [
        "# train my model\n",
        "print('Learning started. It takes sometime.')\n",
        "for epoch in range(training_epochs):\n",
        "    avg_loss = 0.\n",
        "    avg_train_acc = 0.\n",
        "    avg_test_acc = 0.\n",
        "    train_step = 0\n",
        "    test_step = 0    \n",
        "    \n",
        "    for images, labels in train_dataset:\n",
        "        train(model, images, labels)\n",
        "        loss = loss_fn(model, images, labels)\n",
        "        acc = evaluate(model, images, labels)\n",
        "        avg_loss = avg_loss + loss\n",
        "        avg_train_acc = avg_train_acc + acc\n",
        "        train_step += 1\n",
        "    avg_loss = avg_loss / train_step\n",
        "    avg_train_acc = avg_train_acc / train_step\n",
        "    \n",
        "    for images, labels in test_dataset:        \n",
        "        acc = evaluate(model, images, labels)        \n",
        "        avg_test_acc = avg_test_acc + acc\n",
        "        test_step += 1    \n",
        "    avg_test_acc = avg_test_acc / test_step    \n",
        "\n",
        "    print('Epoch:', '{}'.format(epoch + 1), 'loss =', '{:.8f}'.format(avg_loss), \n",
        "          'train accuracy = ', '{:.4f}'.format(avg_train_acc), \n",
        "          'test accuracy = ', '{:.4f}'.format(avg_test_acc))\n",
        "    \n",
        "    checkpoint.save(file_prefix=checkpoint_prefix)\n",
        "\n",
        "print('Learning Finished!')"
      ],
      "execution_count": 28,
      "outputs": [
        {
          "output_type": "stream",
          "text": [
            "Learning started. It takes sometime.\n",
            "Epoch: 1 loss = 0.16501844 train accuracy =  0.9579 test accuracy =  0.9872\n",
            "Epoch: 2 loss = 0.04074861 train accuracy =  0.9900 test accuracy =  0.9884\n",
            "Epoch: 3 loss = 0.02677576 train accuracy =  0.9932 test accuracy =  0.9905\n",
            "Epoch: 4 loss = 0.01959076 train accuracy =  0.9955 test accuracy =  0.9920\n",
            "Epoch: 5 loss = 0.01337030 train accuracy =  0.9966 test accuracy =  0.9923\n",
            "Epoch: 6 loss = 0.01174199 train accuracy =  0.9973 test accuracy =  0.9933\n",
            "Epoch: 7 loss = 0.00934013 train accuracy =  0.9977 test accuracy =  0.9907\n",
            "Epoch: 8 loss = 0.00803955 train accuracy =  0.9980 test accuracy =  0.9947\n",
            "Epoch: 9 loss = 0.00706350 train accuracy =  0.9985 test accuracy =  0.9930\n",
            "Epoch: 10 loss = 0.00409852 train accuracy =  0.9990 test accuracy =  0.9935\n",
            "Epoch: 11 loss = 0.00440889 train accuracy =  0.9990 test accuracy =  0.9916\n",
            "Epoch: 12 loss = 0.00345073 train accuracy =  0.9992 test accuracy =  0.9932\n",
            "Epoch: 13 loss = 0.00321273 train accuracy =  0.9993 test accuracy =  0.9932\n",
            "Epoch: 14 loss = 0.00240670 train accuracy =  0.9994 test accuracy =  0.9928\n",
            "Epoch: 15 loss = 0.00272576 train accuracy =  0.9994 test accuracy =  0.9941\n",
            "Learning Finished!\n"
          ],
          "name": "stdout"
        }
      ]
    },
    {
      "cell_type": "markdown",
      "metadata": {
        "id": "1UyWduCYfMSR"
      },
      "source": [
        "## Residaul block"
      ]
    },
    {
      "cell_type": "markdown",
      "metadata": {
        "id": "KiC0D5LUhH2I"
      },
      "source": [
        "![image.png](data:image/png;base64,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)"
      ]
    },
    {
      "cell_type": "code",
      "metadata": {
        "id": "rBLIVr9ufL66"
      },
      "source": [
        "def create_model_R():\n",
        "  inputs = keras.Input(shape=(28,28,256))\n",
        "  conv1 = keras.layers.Conv2D(filters=64, kernel_size=1, activation=tf.nn.relu, padding='SAME')(inputs)\n",
        "  conv2 = keras.layers.Conv2D(filters=64, kernel_size=3, activation=tf.nn.relu, padding='SAME')(conv1)\n",
        "  conv3 = keras.layers.Conv2D(filters=256, kernel_size=1, activation=tf.nn.relu, padding='SAME')(conv2)\n",
        "  add3 = keras.layers.add([conv3, inputs])\n",
        "  relu3 = keras.layers.ReLU()(add3)\n",
        "  model = keras.Model(inputs=inputs, outputs=logits)"
      ],
      "execution_count": 34,
      "outputs": []
    }
  ]
}