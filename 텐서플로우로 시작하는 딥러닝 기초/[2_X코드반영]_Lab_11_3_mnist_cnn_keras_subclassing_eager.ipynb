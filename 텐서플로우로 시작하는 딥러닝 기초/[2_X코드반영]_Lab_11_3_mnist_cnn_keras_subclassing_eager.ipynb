{
  "nbformat": 4,
  "nbformat_minor": 0,
  "metadata": {
    "colab": {
      "name": "[2.X코드반영] Lab-11-3: mnist cnn keras subclassing eager.ipynb",
      "provenance": [],
      "collapsed_sections": []
    },
    "kernelspec": {
      "name": "python3",
      "display_name": "Python 3"
    },
    "language_info": {
      "name": "python"
    }
  },
  "cells": [
    {
      "cell_type": "markdown",
      "metadata": {
        "id": "i0JEr8Crh4Qy"
      },
      "source": [
        "# [2.X코드반영] Lab-11-3: mnist cnn keras subclassing eager\n"
      ]
    },
    {
      "cell_type": "markdown",
      "metadata": {
        "id": "AAKZuLNhGfRG"
      },
      "source": [
        "## Importing Libraries"
      ]
    },
    {
      "cell_type": "code",
      "metadata": {
        "colab": {
          "base_uri": "https://localhost:8080/"
        },
        "id": "E3L8IAqdBoy3",
        "outputId": "7db43ce9-dde3-444d-8740-f11ea7da73d8"
      },
      "source": [
        "import tensorflow as tf\n",
        "from tensorflow import keras\n",
        "from tensorflow.keras.utils import to_categorical\n",
        "import numpy as np\n",
        "import matplotlib.pyplot as plt\n",
        "import os\n",
        "\n",
        "print(tf.__version__)\n",
        "print(keras.__version__)"
      ],
      "execution_count": 1,
      "outputs": [
        {
          "output_type": "stream",
          "text": [
            "2.4.1\n",
            "2.4.0\n"
          ],
          "name": "stdout"
        }
      ]
    },
    {
      "cell_type": "markdown",
      "metadata": {
        "id": "-iSk1PoaGiYt"
      },
      "source": [
        "## Hyper Parameters"
      ]
    },
    {
      "cell_type": "code",
      "metadata": {
        "id": "0KmyEi9_GegW"
      },
      "source": [
        "learning_rate = 0.001\n",
        "training_epochs = 15\n",
        "batch_size = 100\n",
        "tf.random.set_seed(777)"
      ],
      "execution_count": 2,
      "outputs": []
    },
    {
      "cell_type": "markdown",
      "metadata": {
        "id": "fEevZLGoGrtV"
      },
      "source": [
        "## Creating a Checkpoint Directory"
      ]
    },
    {
      "cell_type": "code",
      "metadata": {
        "id": "Y4Z1QlA9GrWf"
      },
      "source": [
        "cur_dir = os.getcwd()\n",
        "ckpt_dir_name = 'checkpoints'\n",
        "model_dir_name = 'mnist_cnn_seq'\n",
        "\n",
        "checkpoint_dir = os.path.join(cur_dir, ckpt_dir_name, model_dir_name)\n",
        "os.makedirs(checkpoint_dir, exist_ok=True)\n",
        "\n",
        "checkpoint_prefix = os.path.join(checkpoint_dir, model_dir_name)"
      ],
      "execution_count": 3,
      "outputs": []
    },
    {
      "cell_type": "markdown",
      "metadata": {
        "id": "mi7HpohLKo1v"
      },
      "source": [
        "## MNIST/Fashion MNIST Data"
      ]
    },
    {
      "cell_type": "code",
      "metadata": {
        "id": "XOEMY3yZKoOI"
      },
      "source": [
        "mnist = keras.datasets.mnist\n",
        "class_names = ['0','1','2','3','4','5','6','7','8','9']"
      ],
      "execution_count": 4,
      "outputs": []
    },
    {
      "cell_type": "markdown",
      "metadata": {
        "id": "BblIp17YK2Q_"
      },
      "source": [
        "## Datasets"
      ]
    },
    {
      "cell_type": "code",
      "metadata": {
        "id": "Ozg9mTv3K15P",
        "colab": {
          "base_uri": "https://localhost:8080/"
        },
        "outputId": "c3342da3-684f-4e0c-ddb8-5b3c185c5c1b"
      },
      "source": [
        "(train_images, train_labels), (test_images, test_labels) = mnist.load_data()\n",
        "\n",
        "train_images = train_images.astype(np.float32)/255.\n",
        "test_images = test_images.astype(np.float32)/255.\n",
        "\n",
        "train_images = np.expand_dims(train_images, axis=-1)\n",
        "test_images = np.expand_dims(test_images, axis=-1)\n",
        "\n",
        "train_labels = to_categorical(train_labels, 10)\n",
        "test_labels = to_categorical(test_labels, 10)\n",
        "\n",
        "train_dataset = tf.data.Dataset.from_tensor_slices((train_images, train_labels)).shuffle(buffer_size = 1000000).batch(batch_size)\n",
        "test_dataset = tf.data.Dataset.from_tensor_slices((test_images, test_labels)).batch(batch_size)"
      ],
      "execution_count": 5,
      "outputs": [
        {
          "output_type": "stream",
          "text": [
            "Downloading data from https://storage.googleapis.com/tensorflow/tf-keras-datasets/mnist.npz\n",
            "11493376/11490434 [==============================] - 0s 0us/step\n"
          ],
          "name": "stdout"
        }
      ]
    },
    {
      "cell_type": "markdown",
      "metadata": {
        "id": "N7_9qYWXLl3W"
      },
      "source": [
        "## Model Class"
      ]
    },
    {
      "cell_type": "code",
      "metadata": {
        "id": "td7OseAXmBSl"
      },
      "source": [
        "class MNISTModel(tf.keras.Model):\n",
        "    def __init__(self):\n",
        "        super(MNISTModel, self).__init__()\n",
        "        self.conv1 = keras.layers.Conv2D(filters=32, kernel_size=3, activation=tf.nn.relu, padding='SAME')\n",
        "        self.pool1 = keras.layers.MaxPool2D(padding='SAME')\n",
        "        self.conv2 = keras.layers.Conv2D(filters=64, kernel_size=3, activation=tf.nn.relu, padding='SAME')\n",
        "        self.pool2 = keras.layers.MaxPool2D(padding='SAME')\n",
        "        self.conv3 = keras.layers.Conv2D(filters=128, kernel_size=3, activation=tf.nn.relu, padding='SAME')\n",
        "        self.pool3 = keras.layers.MaxPool2D(padding='SAME')\n",
        "        self.pool3_flat = keras.layers.Flatten()\n",
        "        self.dense4 = keras.layers.Dense(units=256, activation=tf.nn.relu)\n",
        "        self.drop4 = keras.layers.Dropout(rate=0.4)\n",
        "        self.dense5 = keras.layers.Dense(units=10)\n",
        "    def call(self, inputs, training=False):\n",
        "        net = self.conv1(inputs)\n",
        "        net = self.pool1(net)\n",
        "        net = self.conv2(net)\n",
        "        net = self.pool2(net)\n",
        "        net = self.conv3(net)\n",
        "        net = self.pool3(net)\n",
        "        net = self.pool3_flat(net)\n",
        "        net = self.dense4(net)\n",
        "        net = self.drop4(net)\n",
        "        net = self.dense5(net)\n",
        "        return net"
      ],
      "execution_count": 32,
      "outputs": []
    },
    {
      "cell_type": "code",
      "metadata": {
        "colab": {
          "base_uri": "https://localhost:8080/"
        },
        "id": "SBcMnxXKMY7o",
        "outputId": "f413653f-b9dd-4b7f-8ecb-0063b6571efe"
      },
      "source": [
        "model = MNISTModel()\n",
        "tmp_inputs = keras.Input(shape=(28,28,1))\n",
        "model(tmp_inputs)\n",
        "model.summary()"
      ],
      "execution_count": 33,
      "outputs": [
        {
          "output_type": "stream",
          "text": [
            "Model: \"mnist_model_12\"\n",
            "_________________________________________________________________\n",
            "Layer (type)                 Output Shape              Param #   \n",
            "=================================================================\n",
            "conv2d_9 (Conv2D)            multiple                  320       \n",
            "_________________________________________________________________\n",
            "max_pooling2d_9 (MaxPooling2 multiple                  0         \n",
            "_________________________________________________________________\n",
            "conv2d_10 (Conv2D)           multiple                  18496     \n",
            "_________________________________________________________________\n",
            "max_pooling2d_10 (MaxPooling multiple                  0         \n",
            "_________________________________________________________________\n",
            "conv2d_11 (Conv2D)           multiple                  73856     \n",
            "_________________________________________________________________\n",
            "max_pooling2d_11 (MaxPooling multiple                  0         \n",
            "_________________________________________________________________\n",
            "flatten_3 (Flatten)          multiple                  0         \n",
            "_________________________________________________________________\n",
            "dense_6 (Dense)              multiple                  524544    \n",
            "_________________________________________________________________\n",
            "dropout_3 (Dropout)          multiple                  0         \n",
            "_________________________________________________________________\n",
            "dense_7 (Dense)              multiple                  2570      \n",
            "=================================================================\n",
            "Total params: 619,786\n",
            "Trainable params: 619,786\n",
            "Non-trainable params: 0\n",
            "_________________________________________________________________\n"
          ],
          "name": "stdout"
        }
      ]
    },
    {
      "cell_type": "markdown",
      "metadata": {
        "id": "BOU8bcFLM1yv"
      },
      "source": [
        "## Loss Function"
      ]
    },
    {
      "cell_type": "code",
      "metadata": {
        "id": "biVhobM-MbfG"
      },
      "source": [
        "@tf.function\n",
        "def loss_fn(model, images, labels):\n",
        "  logits = model(images, training=True)\n",
        "  loss = tf.reduce_mean(tf.keras.losses.categorical_crossentropy(\n",
        "      y_pred=logits, y_true=labels, from_logits=True))\n",
        "  return loss"
      ],
      "execution_count": 34,
      "outputs": []
    },
    {
      "cell_type": "markdown",
      "metadata": {
        "id": "Jv5piEBIM3Ce"
      },
      "source": [
        "## Calculating Gradient"
      ]
    },
    {
      "cell_type": "code",
      "metadata": {
        "id": "gDNVfjixM1bp"
      },
      "source": [
        "@tf.function\n",
        "def grad(model, images, labels):\n",
        "  with tf.GradientTape() as tape:\n",
        "    loss = loss_fn(model, images, labels)\n",
        "  return tape.gradient(loss, model.variables)"
      ],
      "execution_count": 35,
      "outputs": []
    },
    {
      "cell_type": "markdown",
      "metadata": {
        "id": "5neGwSj0M4ZH"
      },
      "source": [
        "## Caculating Model's Accuracy"
      ]
    },
    {
      "cell_type": "code",
      "metadata": {
        "id": "3zOq6WWNM5Uq"
      },
      "source": [
        "@tf.function\n",
        "def evaluate(model, images, labels):\n",
        "  logits = model(images, training=False)\n",
        "  correct_prediction = tf.equal(tf.argmax(logits,1), tf.argmax(labels, 1))\n",
        "  accuracy = tf.reduce_mean(tf.cast(correct_prediction, tf.float32))\n",
        "  return accuracy"
      ],
      "execution_count": 36,
      "outputs": []
    },
    {
      "cell_type": "markdown",
      "metadata": {
        "id": "fmUTb7aSM5qj"
      },
      "source": [
        "## Optimizer"
      ]
    },
    {
      "cell_type": "code",
      "metadata": {
        "id": "yfIkJdemM6Cx"
      },
      "source": [
        "optimizer = tf.keras.optimizers.Adam(learning_rate=learning_rate)"
      ],
      "execution_count": 37,
      "outputs": []
    },
    {
      "cell_type": "markdown",
      "metadata": {
        "id": "N4neW1GtM5mZ"
      },
      "source": [
        "## Creating a Checkpoint"
      ]
    },
    {
      "cell_type": "code",
      "metadata": {
        "id": "8CVQ7oluM6Pq"
      },
      "source": [
        "checkpoint = tf.train.Checkpoint(cnn=model)"
      ],
      "execution_count": 38,
      "outputs": []
    },
    {
      "cell_type": "markdown",
      "metadata": {
        "id": "--zlaGUCNAGi"
      },
      "source": [
        "## Training"
      ]
    },
    {
      "cell_type": "code",
      "metadata": {
        "id": "puNz9EJ2NB-q"
      },
      "source": [
        "@tf.function\n",
        "def train(model, images, labels):\n",
        "  grads = grad(model, images, labels)\n",
        "  optimizer.apply_gradients(zip(grads, model.trainable_variables))"
      ],
      "execution_count": 40,
      "outputs": []
    },
    {
      "cell_type": "code",
      "metadata": {
        "colab": {
          "base_uri": "https://localhost:8080/"
        },
        "id": "vU1UUxInO0nY",
        "outputId": "ee35e5f5-6674-458c-bbed-c1b2d036cca8"
      },
      "source": [
        "# train my model\n",
        "print('Learning started. It takes sometime.')\n",
        "for epoch in range(training_epochs):\n",
        "    avg_loss = 0.\n",
        "    avg_train_acc = 0.\n",
        "    avg_test_acc = 0.\n",
        "    train_step = 0\n",
        "    test_step = 0    \n",
        "    \n",
        "    for images, labels in train_dataset:\n",
        "        train(model, images, labels)\n",
        "        loss = loss_fn(model, images, labels)\n",
        "        acc = evaluate(model, images, labels)\n",
        "        avg_loss = avg_loss + loss\n",
        "        avg_train_acc = avg_train_acc + acc\n",
        "        train_step += 1\n",
        "    avg_loss = avg_loss / train_step\n",
        "    avg_train_acc = avg_train_acc / train_step\n",
        "    \n",
        "    for images, labels in test_dataset:        \n",
        "        acc = evaluate(model, images, labels)        \n",
        "        avg_test_acc = avg_test_acc + acc\n",
        "        test_step += 1    \n",
        "    avg_test_acc = avg_test_acc / test_step    \n",
        "\n",
        "    print('Epoch:', '{}'.format(epoch + 1), 'loss =', '{:.8f}'.format(avg_loss), \n",
        "          'train accuracy = ', '{:.4f}'.format(avg_train_acc), \n",
        "          'test accuracy = ', '{:.4f}'.format(avg_test_acc))\n",
        "    \n",
        "    checkpoint.save(file_prefix=checkpoint_prefix)\n",
        "\n",
        "print('Learning Finished!')"
      ],
      "execution_count": 41,
      "outputs": [
        {
          "output_type": "stream",
          "text": [
            "Learning started. It takes sometime.\n",
            "Epoch: 1 loss = 0.16911870 train accuracy =  0.9579 test accuracy =  0.9840\n",
            "Epoch: 2 loss = 0.03994945 train accuracy =  0.9899 test accuracy =  0.9890\n",
            "Epoch: 3 loss = 0.02838320 train accuracy =  0.9931 test accuracy =  0.9912\n",
            "Epoch: 4 loss = 0.01982541 train accuracy =  0.9953 test accuracy =  0.9926\n",
            "Epoch: 5 loss = 0.01405671 train accuracy =  0.9965 test accuracy =  0.9915\n",
            "Epoch: 6 loss = 0.01259911 train accuracy =  0.9969 test accuracy =  0.9925\n",
            "Epoch: 7 loss = 0.00872990 train accuracy =  0.9983 test accuracy =  0.9933\n",
            "Epoch: 8 loss = 0.00738802 train accuracy =  0.9979 test accuracy =  0.9937\n",
            "Epoch: 9 loss = 0.00608026 train accuracy =  0.9983 test accuracy =  0.9916\n",
            "Epoch: 10 loss = 0.00471577 train accuracy =  0.9989 test accuracy =  0.9925\n",
            "Epoch: 11 loss = 0.00425334 train accuracy =  0.9991 test accuracy =  0.9929\n",
            "Epoch: 12 loss = 0.00340804 train accuracy =  0.9992 test accuracy =  0.9932\n",
            "Epoch: 13 loss = 0.00262522 train accuracy =  0.9994 test accuracy =  0.9912\n",
            "Epoch: 14 loss = 0.00247166 train accuracy =  0.9994 test accuracy =  0.9923\n",
            "Epoch: 15 loss = 0.00256077 train accuracy =  0.9994 test accuracy =  0.9923\n",
            "Learning Finished!\n"
          ],
          "name": "stdout"
        }
      ]
    }
  ]
}