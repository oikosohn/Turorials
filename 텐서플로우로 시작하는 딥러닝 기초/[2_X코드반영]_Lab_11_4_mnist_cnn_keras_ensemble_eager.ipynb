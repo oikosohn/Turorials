{
  "nbformat": 4,
  "nbformat_minor": 0,
  "metadata": {
    "colab": {
      "name": "[2.X코드반영] Lab-11-4: mnist cnn keras ensemble eager.ipynb",
      "provenance": [],
      "collapsed_sections": []
    },
    "kernelspec": {
      "name": "python3",
      "display_name": "Python 3"
    },
    "language_info": {
      "name": "python"
    }
  },
  "cells": [
    {
      "cell_type": "markdown",
      "metadata": {
        "id": "i0JEr8Crh4Qy"
      },
      "source": [
        "# [2.X코드반영] Lab-11-4: mnist cnn keras ensemble eager\n"
      ]
    },
    {
      "cell_type": "markdown",
      "metadata": {
        "id": "AAKZuLNhGfRG"
      },
      "source": [
        "## Importing Libraries"
      ]
    },
    {
      "cell_type": "code",
      "metadata": {
        "colab": {
          "base_uri": "https://localhost:8080/"
        },
        "id": "E3L8IAqdBoy3",
        "outputId": "9005ad55-d0bd-41b8-ac85-cc07baa53f2a"
      },
      "source": [
        "import tensorflow as tf\n",
        "from tensorflow import keras\n",
        "from tensorflow.keras.utils import to_categorical\n",
        "import numpy as np\n",
        "import matplotlib.pyplot as plt\n",
        "import os\n",
        "\n",
        "print(tf.__version__)\n",
        "print(keras.__version__)"
      ],
      "execution_count": 1,
      "outputs": [
        {
          "output_type": "stream",
          "text": [
            "2.4.1\n",
            "2.4.0\n"
          ],
          "name": "stdout"
        }
      ]
    },
    {
      "cell_type": "markdown",
      "metadata": {
        "id": "-iSk1PoaGiYt"
      },
      "source": [
        "## Hyper Parameters"
      ]
    },
    {
      "cell_type": "code",
      "metadata": {
        "id": "0KmyEi9_GegW"
      },
      "source": [
        "learning_rate = 0.001\n",
        "training_epochs = 15\n",
        "batch_size = 100\n",
        "tf.random.set_seed(777)"
      ],
      "execution_count": 2,
      "outputs": []
    },
    {
      "cell_type": "markdown",
      "metadata": {
        "id": "fEevZLGoGrtV"
      },
      "source": [
        "## Creating a Checkpoint Directory"
      ]
    },
    {
      "cell_type": "code",
      "metadata": {
        "id": "Y4Z1QlA9GrWf"
      },
      "source": [
        "cur_dir = os.getcwd()\n",
        "ckpt_dir_name = 'checkpoints'\n",
        "model_dir_name = 'mnist_cnn_ensemble'\n",
        "\n",
        "checkpoint_dir = os.path.join(cur_dir, ckpt_dir_name, model_dir_name)\n",
        "os.makedirs(checkpoint_dir, exist_ok=True)\n",
        "\n",
        "checkpoint_prefix = os.path.join(checkpoint_dir, model_dir_name)"
      ],
      "execution_count": 3,
      "outputs": []
    },
    {
      "cell_type": "markdown",
      "metadata": {
        "id": "mi7HpohLKo1v"
      },
      "source": [
        "## MNIST Data"
      ]
    },
    {
      "cell_type": "code",
      "metadata": {
        "id": "XOEMY3yZKoOI"
      },
      "source": [
        "mnist = keras.datasets.mnist\n",
        "class_names = ['0','1','2','3','4','5','6','7','8','9']"
      ],
      "execution_count": 4,
      "outputs": []
    },
    {
      "cell_type": "markdown",
      "metadata": {
        "id": "BblIp17YK2Q_"
      },
      "source": [
        "## Datasets"
      ]
    },
    {
      "cell_type": "code",
      "metadata": {
        "id": "Ozg9mTv3K15P",
        "colab": {
          "base_uri": "https://localhost:8080/"
        },
        "outputId": "8b626907-5f02-4aed-cf0d-7c64bb61a596"
      },
      "source": [
        "(train_images, train_labels), (test_images, test_labels) = mnist.load_data()\n",
        "\n",
        "train_images = train_images.astype(np.float32)/255.\n",
        "test_images = test_images.astype(np.float32)/255.\n",
        "\n",
        "train_images = np.expand_dims(train_images, axis=-1)\n",
        "test_images = np.expand_dims(test_images, axis=-1)\n",
        "\n",
        "train_labels = to_categorical(train_labels, 10)\n",
        "test_labels = to_categorical(test_labels, 10)\n",
        "\n",
        "train_dataset = tf.data.Dataset.from_tensor_slices((train_images, train_labels)).shuffle(buffer_size = 1000000).batch(batch_size)\n",
        "test_dataset = tf.data.Dataset.from_tensor_slices((test_images, test_labels)).batch(batch_size)"
      ],
      "execution_count": 5,
      "outputs": [
        {
          "output_type": "stream",
          "text": [
            "Downloading data from https://storage.googleapis.com/tensorflow/tf-keras-datasets/mnist.npz\n",
            "11493376/11490434 [==============================] - 0s 0us/step\n"
          ],
          "name": "stdout"
        }
      ]
    },
    {
      "cell_type": "markdown",
      "metadata": {
        "id": "N7_9qYWXLl3W"
      },
      "source": [
        "## Model Class"
      ]
    },
    {
      "cell_type": "code",
      "metadata": {
        "id": "td7OseAXmBSl"
      },
      "source": [
        "class MNISTModel(tf.keras.Model):\n",
        "    def __init__(self):\n",
        "        super(MNISTModel, self).__init__()\n",
        "        self.conv1 = keras.layers.Conv2D(filters=32, kernel_size=3, activation=tf.nn.relu, padding='SAME')\n",
        "        self.pool1 = keras.layers.MaxPool2D(padding='SAME')\n",
        "        self.conv2 = keras.layers.Conv2D(filters=64, kernel_size=3, activation=tf.nn.relu, padding='SAME')\n",
        "        self.pool2 = keras.layers.MaxPool2D(padding='SAME')\n",
        "        self.conv3 = keras.layers.Conv2D(filters=128, kernel_size=3, activation=tf.nn.relu, padding='SAME')\n",
        "        self.pool3 = keras.layers.MaxPool2D(padding='SAME')\n",
        "        self.pool3_flat = keras.layers.Flatten()\n",
        "        self.dense4 = keras.layers.Dense(units=256, activation=tf.nn.relu)\n",
        "        self.drop4 = keras.layers.Dropout(rate=0.4)\n",
        "        self.dense5 = keras.layers.Dense(units=10)\n",
        "    def call(self, inputs, training=False):\n",
        "        net = self.conv1(inputs)\n",
        "        net = self.pool1(net)\n",
        "        net = self.conv2(net)\n",
        "        net = self.pool2(net)\n",
        "        net = self.conv3(net)\n",
        "        net = self.pool3(net)\n",
        "        net = self.pool3_flat(net)\n",
        "        net = self.dense4(net)\n",
        "        net = self.drop4(net)\n",
        "        net = self.dense5(net)\n",
        "        return net"
      ],
      "execution_count": 6,
      "outputs": []
    },
    {
      "cell_type": "code",
      "metadata": {
        "id": "SBcMnxXKMY7o"
      },
      "source": [
        "models = []\n",
        "num_models = 3\n",
        "for m in range(num_models):\n",
        "  models.append(MNISTModel())"
      ],
      "execution_count": 7,
      "outputs": []
    },
    {
      "cell_type": "markdown",
      "metadata": {
        "id": "BOU8bcFLM1yv"
      },
      "source": [
        "## Loss Function"
      ]
    },
    {
      "cell_type": "code",
      "metadata": {
        "id": "biVhobM-MbfG"
      },
      "source": [
        "def loss_fn(model, images, labels):\n",
        "  logits = model(images, training=True)\n",
        "  loss = tf.reduce_mean(tf.keras.losses.categorical_crossentropy(\n",
        "      y_pred=logits, y_true=labels, from_logits=True))\n",
        "  return loss"
      ],
      "execution_count": 8,
      "outputs": []
    },
    {
      "cell_type": "markdown",
      "metadata": {
        "id": "Jv5piEBIM3Ce"
      },
      "source": [
        "## Calculating Gradient"
      ]
    },
    {
      "cell_type": "code",
      "metadata": {
        "id": "gDNVfjixM1bp"
      },
      "source": [
        "def grad(model, images, labels):\n",
        "  with tf.GradientTape() as tape:\n",
        "    loss = loss_fn(model, images, labels)\n",
        "  return tape.gradient(loss, model.variables)"
      ],
      "execution_count": 9,
      "outputs": []
    },
    {
      "cell_type": "markdown",
      "metadata": {
        "id": "5neGwSj0M4ZH"
      },
      "source": [
        "## Caculating Model's Accuracy"
      ]
    },
    {
      "cell_type": "code",
      "metadata": {
        "id": "3zOq6WWNM5Uq"
      },
      "source": [
        "def evaluate(models, images, labels):\n",
        "  predictions = np.zeros_like(labels)\n",
        "  for model in models:\n",
        "    logits = model(images, training=False)\n",
        "    # 단순 가산\n",
        "    predictions += logits\n",
        "  correct_prediction = tf.equal(tf.argmax(predictions,1), tf.argmax(labels, 1))\n",
        "  accuracy = tf.reduce_mean(tf.cast(correct_prediction, tf.float32))\n",
        "  return accuracy"
      ],
      "execution_count": 10,
      "outputs": []
    },
    {
      "cell_type": "markdown",
      "metadata": {
        "id": "fmUTb7aSM5qj"
      },
      "source": [
        "## Optimizer"
      ]
    },
    {
      "cell_type": "code",
      "metadata": {
        "id": "yfIkJdemM6Cx"
      },
      "source": [
        "optimizer = tf.keras.optimizers.Adam(learning_rate=learning_rate)"
      ],
      "execution_count": 11,
      "outputs": []
    },
    {
      "cell_type": "markdown",
      "metadata": {
        "id": "N4neW1GtM5mZ"
      },
      "source": [
        "## Creating a Checkpoint"
      ]
    },
    {
      "cell_type": "code",
      "metadata": {
        "id": "8CVQ7oluM6Pq"
      },
      "source": [
        "# 모델별로 체크포인트 저장\n",
        "checkpoints = []\n",
        "for m in range(num_models):\n",
        "  checkpoints.append(tf.train.Checkpoint(cnn=models[m]))"
      ],
      "execution_count": 12,
      "outputs": []
    },
    {
      "cell_type": "markdown",
      "metadata": {
        "id": "TfHWI3HLyvef"
      },
      "source": [
        "## Training"
      ]
    },
    {
      "cell_type": "code",
      "metadata": {
        "colab": {
          "base_uri": "https://localhost:8080/"
        },
        "id": "vU1UUxInO0nY",
        "outputId": "5a875af9-9291-45a5-9da4-4fe21c6dcbc8"
      },
      "source": [
        "# train my model\n",
        "print('Learning started. It takes sometime.')\n",
        "for epoch in range(training_epochs):\n",
        "    avg_loss = 0.\n",
        "    avg_train_acc = 0.\n",
        "    avg_test_acc = 0.\n",
        "    train_step = 0\n",
        "    test_step = 0    \n",
        "    \n",
        "    for images, labels in train_dataset:\n",
        "        for model in models:\n",
        "            #train(model, images, labels)\n",
        "            grads = grad(model, images, labels)                \n",
        "            optimizer.apply_gradients(zip(grads, model.variables))\n",
        "            loss = loss_fn(model, images, labels)\n",
        "            avg_loss += loss / num_models\n",
        "        acc = evaluate(models, images, labels)\n",
        "        avg_train_acc += acc\n",
        "        train_step += 1\n",
        "    avg_loss = avg_loss / train_step\n",
        "    avg_train_acc = avg_train_acc / train_step\n",
        "    \n",
        "    for images, labels in test_dataset:        \n",
        "        acc = evaluate(models, images, labels)        \n",
        "        avg_test_acc += acc\n",
        "        test_step += 1    \n",
        "    avg_test_acc = avg_test_acc / test_step    \n",
        "\n",
        "    print('Epoch:', '{}'.format(epoch + 1), 'loss =', '{:.8f}'.format(avg_loss), \n",
        "          'train accuracy = ', '{:.4f}'.format(avg_train_acc), \n",
        "          'test accuracy = ', '{:.4f}'.format(avg_test_acc))\n",
        "    \n",
        "    # 각각 모델의 체크포인트 저장\n",
        "    for idx, checkpoint in enumerate(checkpoints):\n",
        "        checkpoint.save(file_prefix=checkpoint_prefix+'-{}'.format(idx))\n",
        "\n",
        "print('Learning Finished!')"
      ],
      "execution_count": 14,
      "outputs": [
        {
          "output_type": "stream",
          "text": [
            "Learning started. It takes sometime.\n",
            "Epoch: 1 loss = 0.04023503 train accuracy =  0.9930 test accuracy =  0.9934\n",
            "Epoch: 2 loss = 0.02688042 train accuracy =  0.9957 test accuracy =  0.9931\n",
            "Epoch: 3 loss = 0.01966896 train accuracy =  0.9971 test accuracy =  0.9931\n",
            "Epoch: 4 loss = 0.01586931 train accuracy =  0.9983 test accuracy =  0.9940\n",
            "Epoch: 5 loss = 0.01269333 train accuracy =  0.9988 test accuracy =  0.9941\n",
            "Epoch: 6 loss = 0.01032155 train accuracy =  0.9990 test accuracy =  0.9946\n",
            "Epoch: 7 loss = 0.00966371 train accuracy =  0.9994 test accuracy =  0.9927\n",
            "Epoch: 8 loss = 0.00834729 train accuracy =  0.9994 test accuracy =  0.9947\n",
            "Epoch: 9 loss = 0.00679439 train accuracy =  0.9997 test accuracy =  0.9948\n",
            "Epoch: 10 loss = 0.00631700 train accuracy =  0.9998 test accuracy =  0.9948\n",
            "Epoch: 11 loss = 0.00542638 train accuracy =  0.9997 test accuracy =  0.9948\n",
            "Epoch: 12 loss = 0.00554531 train accuracy =  0.9998 test accuracy =  0.9945\n",
            "Epoch: 13 loss = 0.00465642 train accuracy =  0.9998 test accuracy =  0.9955\n",
            "Epoch: 14 loss = 0.00389132 train accuracy =  0.9999 test accuracy =  0.9957\n",
            "Epoch: 15 loss = 0.00388217 train accuracy =  0.9999 test accuracy =  0.9950\n",
            "Learning Finished!\n"
          ],
          "name": "stdout"
        }
      ]
    }
  ]
}