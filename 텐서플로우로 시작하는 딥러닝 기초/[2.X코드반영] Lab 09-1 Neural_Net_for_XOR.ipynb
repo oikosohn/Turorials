{
  "nbformat": 4,
  "nbformat_minor": 0,
  "metadata": {
    "kernelspec": {
      "display_name": "hct_python_3610",
      "language": "python",
      "name": "hct"
    },
    "language_info": {
      "codemirror_mode": {
        "name": "ipython",
        "version": 3
      },
      "file_extension": ".py",
      "mimetype": "text/x-python",
      "name": "python",
      "nbconvert_exporter": "python",
      "pygments_lexer": "ipython3",
      "version": "3.6.10"
    },
    "colab": {
      "name": "[2.X코드반영] Lab 09-1 Neural Net for XOR.ipynb",
      "provenance": [],
      "collapsed_sections": []
    },
    "accelerator": "TPU"
  },
  "cells": [
    {
      "cell_type": "markdown",
      "metadata": {
        "id": "uwSb4WwUR5YM"
      },
      "source": [
        "# [2.X코드반영] Lab 09-1: Neural Net for XOR"
      ]
    },
    {
      "cell_type": "code",
      "metadata": {
        "colab": {
          "base_uri": "https://localhost:8080/"
        },
        "id": "HxRrWX8fR5YT",
        "outputId": "d829b3a2-4d03-423f-a420-3488607a2b1c"
      },
      "source": [
        "import numpy as np\n",
        "import matplotlib.pyplot as plt\n",
        "%matplotlib inline\n",
        "import tensorflow as tf\n",
        "\n",
        "tf.random.set_seed(777)  # for reproducibility\n",
        "\n",
        "print(tf.__version__)"
      ],
      "execution_count": 1,
      "outputs": [
        {
          "output_type": "stream",
          "text": [
            "2.4.1\n"
          ],
          "name": "stdout"
        }
      ]
    },
    {
      "cell_type": "markdown",
      "metadata": {
        "id": "YgC3QuygR5YU"
      },
      "source": [
        "## XOR 문제"
      ]
    },
    {
      "cell_type": "code",
      "metadata": {
        "colab": {
          "base_uri": "https://localhost:8080/",
          "height": 279
        },
        "id": "g9s5bmjgR5YV",
        "outputId": "b2ede97e-4946-411b-a35d-6623fcf4d7e6"
      },
      "source": [
        "x_data = [[0, 0],\n",
        "          [0, 1],\n",
        "          [1, 0],\n",
        "          [1, 1]]\n",
        "y_data = [[0],\n",
        "          [1],\n",
        "          [1],\n",
        "          [0]]\n",
        "\n",
        "plt.scatter(x_data[0][0],x_data[0][1], c='red' , marker='^')\n",
        "plt.scatter(x_data[1][0],x_data[1][1], c='blue' , marker='^')\n",
        "plt.scatter(x_data[2][0],x_data[2][1], c='blue' , marker='^')\n",
        "plt.scatter(x_data[3][0],x_data[3][1], c='red' , marker='^')\n",
        "\n",
        "plt.xlabel(\"x1\")\n",
        "plt.ylabel(\"x2\")\n",
        "plt.show()"
      ],
      "execution_count": 2,
      "outputs": [
        {
          "output_type": "display_data",
          "data": {
            "image/png": "[encoded data removed]",
            "text/plain": [
              "<Figure size 432x288 with 1 Axes>"
            ]
          },
          "metadata": {
            "tags": [],
            "needs_background": "light"
          }
        }
      ]
    },
    {
      "cell_type": "markdown",
      "metadata": {
        "id": "UWpPd13mR5YW"
      },
      "source": [
        "Tensorflow data API를 통해 학습시킬 값들을 담는다 (Batch Size는 한번에 학습시킬 Size로 정한다)\n",
        "\n",
        "preprocess function으로 features,labels는 실재 학습에 쓰일 Data 연산을 위해 Type를 맞춰준다"
      ]
    },
    {
      "cell_type": "code",
      "metadata": {
        "id": "g6_RzkQER5YW"
      },
      "source": [
        "dataset = tf.data.Dataset.from_tensor_slices((x_data, y_data)).batch(len(x_data))\n",
        "\n",
        "def preprocess_data(features, labels):\n",
        "    features = tf.cast(features, tf.float32)\n",
        "    labels = tf.cast(labels, tf.float32)\n",
        "    return features, labels"
      ],
      "execution_count": 3,
      "outputs": []
    },
    {
      "cell_type": "markdown",
      "metadata": {
        "id": "QwfD6L4nR5YX"
      },
      "source": [
        "## Lab 09 XOR - Logistic Regression"
      ]
    },
    {
      "cell_type": "markdown",
      "metadata": {
        "id": "NBmNxpDVR5YX"
      },
      "source": [
        "W와 b은 학습을 통해 생성되는 모델에 쓰이는 Wegith와 Bias (초기값을 variable : 0이나 Random값으로 가능 tf.random_normal([2, 1]) )"
      ]
    },
    {
      "cell_type": "code",
      "metadata": {
        "colab": {
          "base_uri": "https://localhost:8080/"
        },
        "id": "vqn7LlJ9R5YX",
        "outputId": "5a874214-9d9b-4624-ae48-c1fe53ad4970"
      },
      "source": [
        "W = tf.Variable(tf.zeros((2,1)), name='weight')\n",
        "b = tf.Variable(tf.zeros((1,)), name='bias')\n",
        "print('W = {}, B = {}'.format(W.numpy(), b.numpy()))"
      ],
      "execution_count": 4,
      "outputs": [
        {
          "output_type": "stream",
          "text": [
            "W = [[0.]\n",
            " [0.]], B = [0.]\n"
          ],
          "name": "stdout"
        }
      ]
    },
    {
      "cell_type": "markdown",
      "metadata": {
        "id": "ORNJWFS-R5YY"
      },
      "source": [
        "가설 : 시그모이드 함수\n",
        "\n",
        "Sigmoid는 아래 그래프와 같이 0과 1의 값만을 리턴합니다 tf.sigmoid(tf.matmul(X, W) + b)와 같습니다"
      ]
    },
    {
      "cell_type": "code",
      "metadata": {
        "id": "AGDrElHhR5YZ"
      },
      "source": [
        "def logistic_regression(features):\n",
        "    hypothesis = tf.divide(1., 1.+tf.exp(tf.matmul(features, W)+b))\n",
        "    return hypothesis"
      ],
      "execution_count": 5,
      "outputs": []
    },
    {
      "cell_type": "markdown",
      "metadata": {
        "id": "5OLPdJU9R5YZ"
      },
      "source": [
        "비용 함수"
      ]
    },
    {
      "cell_type": "code",
      "metadata": {
        "id": "dWyFaaktR5Ya"
      },
      "source": [
        "def loss_fn(hypothesis, features, labels):\n",
        "    cost = -tf.reduce_mean(labels*tf.math.log(logistic_regression(features))+(1-labels)*tf.math.log(1-hypothesis))\n",
        "    return cost\n",
        "\n",
        "optimizer = tf.keras.optimizers.SGD(learning_rate=0.01)"
      ],
      "execution_count": 6,
      "outputs": []
    },
    {
      "cell_type": "markdown",
      "metadata": {
        "id": "SJ2cOyqwR5Ya"
      },
      "source": [
        "Sigmoid 함수를 통해 예측값이 0.5보다 크면 1을 반환하고 0.5보다 작으면 0으로 반환합니다."
      ]
    },
    {
      "cell_type": "code",
      "metadata": {
        "id": "Pfs97uMlR5Yb"
      },
      "source": [
        "def accuracy_fn(hypothesis, labels):\n",
        "    predicted = tf.cast(hypothesis > 0.5, dtype=tf.float32)\n",
        "    accuracy = tf.reduce_mean(tf.cast(tf.equal(predicted, labels), dtype=tf.float32))\n",
        "    return accuracy"
      ],
      "execution_count": 7,
      "outputs": []
    },
    {
      "cell_type": "markdown",
      "metadata": {
        "id": "x_i7x2pzR5Yb"
      },
      "source": [
        "GradientTape를 통해 경사값을 계산합니다."
      ]
    },
    {
      "cell_type": "code",
      "metadata": {
        "id": "Wu0fWK8RR5Yc"
      },
      "source": [
        "def grad(hypothesis, features, labels):\n",
        "    with tf.GradientTape() as tape:\n",
        "        loss_value = loss_fn(logistic_regression(features), features, labels)\n",
        "    return tape.gradient(loss_value, [W,b])"
      ],
      "execution_count": 8,
      "outputs": []
    },
    {
      "cell_type": "markdown",
      "metadata": {
        "id": "PmUe056XR5Yc"
      },
      "source": [
        "Tensorflow를 통한 실행을 위해 Session를 선언합니다.\n",
        "\n",
        "위의 Data를 Cost함수를 통해 학습시킨 후 모델을 생성합니다."
      ]
    },
    {
      "cell_type": "code",
      "metadata": {
        "colab": {
          "base_uri": "https://localhost:8080/"
        },
        "id": "foGGiSDTR5Yd",
        "outputId": "125947a5-5087-435b-bee8-e558f02fd69e"
      },
      "source": [
        "EPOCHS = 1001\n",
        "\n",
        "for step in range(EPOCHS):\n",
        "    for features, labels in dataset:\n",
        "        features, labels = preprocess_data(features, labels)\n",
        "        grads = grad(logistic_regression(features), features, labels)\n",
        "        optimizer.apply_gradients(grads_and_vars=zip(grads, [W,b]))\n",
        "        if step % 100 == 0:\n",
        "            print('Iter: {}, Loss: {:.4f}'.format(step, loss_fn(logistic_regression(features), features, labels)))\n",
        "            \n",
        "print('W={}, B={}'.format(W.numpy(), b.numpy()))\n",
        "x_data, y_data = preprocess_data(x_data, y_data)\n",
        "test_acc = accuracy_fn(logistic_regression(x_data),y_data)\n",
        "print('Testset accuracy: {:.4f}'.format(test_acc))"
      ],
      "execution_count": 9,
      "outputs": [
        {
          "output_type": "stream",
          "text": [
            "Iter: 0, Loss: 0.6931\n",
            "Iter: 100, Loss: 0.6931\n",
            "Iter: 200, Loss: 0.6931\n",
            "Iter: 300, Loss: 0.6931\n",
            "Iter: 400, Loss: 0.6931\n",
            "Iter: 500, Loss: 0.6931\n",
            "Iter: 600, Loss: 0.6931\n",
            "Iter: 700, Loss: 0.6931\n",
            "Iter: 800, Loss: 0.6931\n",
            "Iter: 900, Loss: 0.6931\n",
            "Iter: 1000, Loss: 0.6931\n",
            "W=[[0.]\n",
            " [0.]], B=[0.]\n",
            "Testset accuracy: 0.5000\n"
          ],
          "name": "stdout"
        }
      ]
    },
    {
      "cell_type": "markdown",
      "metadata": {
        "id": "URwtSD3fR5Yd"
      },
      "source": [
        "## Lab 09 XOR - Neural Network"
      ]
    },
    {
      "cell_type": "markdown",
      "metadata": {
        "id": "yjIx0dW-R5Ye"
      },
      "source": [
        "위의 Data를 3Layer의 Neural Network를 통해 학습시킨 후 모델을 생성합니다.(강의에서 설명한 구조)"
      ]
    },
    {
      "cell_type": "code",
      "metadata": {
        "id": "09uqxYzkR5Ye"
      },
      "source": [
        "W1 = tf.Variable(tf.random.normal((2,1)), name='weight1')\n",
        "b1 = tf.Variable(tf.random.normal((1,)), name='bias1')\n",
        "\n",
        "W2 = tf.Variable(tf.random.normal((2,1)), name='weight2')\n",
        "b2 = tf.Variable(tf.random.normal((1,)), name='bias2')\n",
        "\n",
        "W3 = tf.Variable(tf.random.normal((2,1)), name='weight3')\n",
        "b3 = tf.Variable(tf.random.normal((1,)), name='bias3')"
      ],
      "execution_count": 10,
      "outputs": []
    },
    {
      "cell_type": "code",
      "metadata": {
        "id": "ZrXiX_udR5Ye"
      },
      "source": [
        "def neural_net(features):\n",
        "    layer1 = tf.sigmoid(tf.matmul(features, W1)+b1)\n",
        "    layer2 = tf.sigmoid(tf.matmul(features, W2)+b2)\n",
        "    layer3 = tf.concat([layer1, layer2],-1)\n",
        "    hypothesis = tf.sigmoid(tf.matmul(layer3, W3)+b3)\n",
        "    return hypothesis\n",
        "\n",
        "def loss_fn(hypothesis, labels):\n",
        "    cost = -tf.reduce_mean(labels*tf.math.log(hypothesis)+(1-labels)*tf.math.log(1-hypothesis))\n",
        "    return cost\n",
        "\n",
        "optimizer = tf.keras.optimizers.SGD(learning_rate=0.01)\n",
        "\n",
        "def accuracy_fn(hypothesis, labels):\n",
        "    predicted = tf.cast(hypothesis>0.5, dtype=tf.float32)\n",
        "    accuracy = tf.reduce_mean(tf.cast(tf.equal(predicted, labels), dtype=tf.float32))\n",
        "    return accuracy\n",
        "\n",
        "def grad(hypothesis, features, labels):\n",
        "    with tf.GradientTape() as tape:\n",
        "        loss_value = loss_fn(neural_net(features), labels)\n",
        "    return tape.gradient(loss_value, [W1,W2,W3,b1,b2,b3])"
      ],
      "execution_count": 11,
      "outputs": []
    },
    {
      "cell_type": "code",
      "metadata": {
        "colab": {
          "base_uri": "https://localhost:8080/"
        },
        "id": "mKUsD66VR5Yf",
        "outputId": "75d0f023-30e2-462d-d695-c953bb35e787"
      },
      "source": [
        "EPOCHS = 50000\n",
        "\n",
        "for step in range(EPOCHS):\n",
        "    for features, labels in dataset:\n",
        "        features, labels = preprocess_data(features, labels)\n",
        "        grads = grad(neural_net(features), features, labels)\n",
        "        optimizer.apply_gradients(grads_and_vars=zip(grads,[W1,W2,W3,b1,b2,b3]))\n",
        "        if step % 5000 == 0:\n",
        "            print('Iter: {}, Loss: {:.4f}'.format(step, loss_fn(neural_net(features), labels)))\n",
        "            \n",
        "x_data, y_data = preprocess_data(x_data,y_data)\n",
        "test_acc = accuracy_fn(neural_net(x_data),y_data)\n",
        "print('Testset accuracy: {:.4f}'.format(test_acc))"
      ],
      "execution_count": 12,
      "outputs": [
        {
          "output_type": "stream",
          "text": [
            "Iter: 0, Loss: 0.8487\n",
            "Iter: 5000, Loss: 0.6847\n",
            "Iter: 10000, Loss: 0.6610\n",
            "Iter: 15000, Loss: 0.6154\n",
            "Iter: 20000, Loss: 0.5722\n",
            "Iter: 25000, Loss: 0.5433\n",
            "Iter: 30000, Loss: 0.5211\n",
            "Iter: 35000, Loss: 0.4911\n",
            "Iter: 40000, Loss: 0.4416\n",
            "Iter: 45000, Loss: 0.3313\n",
            "Testset accuracy: 1.0000\n"
          ],
          "name": "stdout"
        }
      ]
    },
    {
      "cell_type": "markdown",
      "metadata": {
        "id": "71FeqobQR5Yf"
      },
      "source": [
        "## Lab 09 XOR - Deep Neural Network"
      ]
    },
    {
      "cell_type": "code",
      "metadata": {
        "id": "pGjxl6ClR5Yg"
      },
      "source": [
        "dataset = tf.data.Dataset.from_tensor_slices((x_data, y_data)).batch(len(x_data))\n",
        "nb_classes = 10\n",
        "\n",
        "class wide_deep_nn():\n",
        "  def __init__(self, nb_classes):\n",
        "    super(wide_deep_nn, self).__init__()\n",
        "\n",
        "    self.W1 = tf.Variable(tf.random.normal((2,nb_classes)), name='weight1')\n",
        "    self.b1 = tf.Variable(tf.random.normal((nb_classes,)), name='bias1')\n",
        "\n",
        "    self.W2 = tf.Variable(tf.random.normal((nb_classes,nb_classes)), name='weight2')\n",
        "    self.b2 = tf.Variable(tf.random.normal((nb_classes,)), name='bias2')\n",
        "\n",
        "    self.W3 = tf.Variable(tf.random.normal((nb_classes,nb_classes)), name='weight3')\n",
        "    self.b3 = tf.Variable(tf.random.normal((nb_classes,)), name='bias3') \n",
        "\n",
        "    self.W4 = tf.Variable(tf.random.normal((nb_classes, 1)), name='weight4')\n",
        "    self.b4 = tf.Variable(tf.random.normal((1,)), name='bias4') \n",
        "\n",
        "    self.variables = [self.W1, self.b1, self.W2, self.b2, self.W3, self.b3, self.W4, self.b4]\n",
        "\n",
        "  def preprocess_data(self, features, labels):\n",
        "    features = tf.cast(features, tf.float32)\n",
        "    labels = tf.cast(labels, tf.float32)\n",
        "    return features, labels\n",
        "  \n",
        "  def deep_nn(self, features):\n",
        "    layer1 = tf.sigmoid(tf.matmul(features, self.W1)+self.b1)\n",
        "    layer2 = tf.sigmoid(tf.matmul(layer1, self.W2)+self.b2)\n",
        "    layer3 = tf.sigmoid(tf.matmul(layer2, self.W3)+self.b3)\n",
        "    hypothesis = tf.sigmoid(tf.matmul(layer3, self.W4)+self.b4)\n",
        "    return hypothesis\n",
        "\n",
        "  def loss_fn(self, hypothesis, features, labels):\n",
        "    cost = -tf.reduce_mean(labels*tf.math.log(hypothesis)+(1-labels)*tf.math.log(1-hypothesis))\n",
        "    return cost\n",
        "\n",
        "  def accuracy_fn(self, hypothesis, labels):\n",
        "    predicted = tf.cast(hypothesis>0.5, dtype=tf.float32)\n",
        "    accuracy = tf.reduce_mean(tf.cast(tf.equal(predicted, labels), dtype=tf.float32))\n",
        "    return accuracy\n",
        "\n",
        "  def grad(self, hypothesis, features, labels):\n",
        "    with tf.GradientTape() as tape:\n",
        "      loss_value = self.loss_fn(self.deep_nn(features), features, labels)\n",
        "    return tape.gradient(loss_value, self.variables)\n",
        "\n",
        "  def fit(self, dataset, EPOCHS=20000, verbose=500):\n",
        "    optimizer = tf.keras.optimizers.SGD(learning_rate=0.01)\n",
        "    for step in range(EPOCHS):\n",
        "      for features, labels in dataset:\n",
        "        features, labels = self.preprocess_data(features,labels)\n",
        "        grads = self.grad(self.deep_nn(features), features, labels)\n",
        "        optimizer.apply_gradients(grads_and_vars=zip(grads, self.variables))\n",
        "        if step % verbose == 0:\n",
        "          print('Iter: {}, Loss: {:.4f}'.format(step, self.loss_fn(self.deep_nn(features), features, labels)))\n",
        "  \n",
        "  def test_model(self, x_data, y_data):\n",
        "    x_data, y_data = self.preprocess_data(x_data, y_data)\n",
        "    test_acc = self.accuracy_fn(self.deep_nn(x_data),y_data)\n",
        "    print('Testse accuracy: {:.4f}'.format(test_acc))"
      ],
      "execution_count": 34,
      "outputs": []
    },
    {
      "cell_type": "markdown",
      "metadata": {
        "id": "JgEJwVO0nVbu"
      },
      "source": [
        "위의 Data를 4Layer의 Neural Network를 통해 학습시킨 후 모델을 생성합니다."
      ]
    },
    {
      "cell_type": "code",
      "metadata": {
        "id": "xyUMrn9kR5Yg"
      },
      "source": [
        "model = wide_deep_nn(nb_classes)"
      ],
      "execution_count": 35,
      "outputs": []
    },
    {
      "cell_type": "code",
      "metadata": {
        "colab": {
          "base_uri": "https://localhost:8080/"
        },
        "id": "zP9RJgIanYV-",
        "outputId": "4b9324d8-e477-4971-faa2-0347b43dedae"
      },
      "source": [
        "model.fit(dataset)"
      ],
      "execution_count": 36,
      "outputs": [
        {
          "output_type": "stream",
          "text": [
            "Iter: 0, Loss: 0.8959\n",
            "Iter: 500, Loss: 0.6827\n",
            "Iter: 1000, Loss: 0.6792\n",
            "Iter: 1500, Loss: 0.6759\n",
            "Iter: 2000, Loss: 0.6725\n",
            "Iter: 2500, Loss: 0.6691\n",
            "Iter: 3000, Loss: 0.6655\n",
            "Iter: 3500, Loss: 0.6616\n",
            "Iter: 4000, Loss: 0.6573\n",
            "Iter: 4500, Loss: 0.6525\n",
            "Iter: 5000, Loss: 0.6470\n",
            "Iter: 5500, Loss: 0.6407\n",
            "Iter: 6000, Loss: 0.6332\n",
            "Iter: 6500, Loss: 0.6246\n",
            "Iter: 7000, Loss: 0.6143\n",
            "Iter: 7500, Loss: 0.6021\n",
            "Iter: 8000, Loss: 0.5876\n",
            "Iter: 8500, Loss: 0.5701\n",
            "Iter: 9000, Loss: 0.5489\n",
            "Iter: 9500, Loss: 0.5229\n",
            "Iter: 10000, Loss: 0.4909\n",
            "Iter: 10500, Loss: 0.4520\n",
            "Iter: 11000, Loss: 0.4066\n",
            "Iter: 11500, Loss: 0.3562\n",
            "Iter: 12000, Loss: 0.3040\n",
            "Iter: 12500, Loss: 0.2535\n",
            "Iter: 13000, Loss: 0.2079\n",
            "Iter: 13500, Loss: 0.1691\n",
            "Iter: 14000, Loss: 0.1374\n",
            "Iter: 14500, Loss: 0.1124\n",
            "Iter: 15000, Loss: 0.0928\n",
            "Iter: 15500, Loss: 0.0776\n",
            "Iter: 16000, Loss: 0.0656\n",
            "Iter: 16500, Loss: 0.0562\n",
            "Iter: 17000, Loss: 0.0487\n",
            "Iter: 17500, Loss: 0.0427\n",
            "Iter: 18000, Loss: 0.0377\n",
            "Iter: 18500, Loss: 0.0336\n",
            "Iter: 19000, Loss: 0.0302\n",
            "Iter: 19500, Loss: 0.0273\n"
          ],
          "name": "stdout"
        }
      ]
    },
    {
      "cell_type": "code",
      "metadata": {
        "colab": {
          "base_uri": "https://localhost:8080/"
        },
        "id": "aFTSUfyKnlYO",
        "outputId": "27c46e10-1b33-46e5-f82c-5dac9cce35af"
      },
      "source": [
        "model.test_model(x_data, y_data)"
      ],
      "execution_count": 37,
      "outputs": [
        {
          "output_type": "stream",
          "text": [
            "Testse accuracy: 1.0000\n"
          ],
          "name": "stdout"
        }
      ]
    }
  ]
}
