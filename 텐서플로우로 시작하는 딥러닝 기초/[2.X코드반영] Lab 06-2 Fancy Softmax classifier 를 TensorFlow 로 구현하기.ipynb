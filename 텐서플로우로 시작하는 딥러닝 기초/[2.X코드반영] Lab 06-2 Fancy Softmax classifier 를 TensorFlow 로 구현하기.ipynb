{
 "cells": [
  {
   "cell_type": "code",
   "execution_count": 1,
   "metadata": {
    "colab": {
     "base_uri": "https://localhost:8080/"
    },
    "id": "3d8jDSWxZniQ",
    "outputId": "39ac6e02-14dd-4c2d-bffc-48e85c3b0ad7"
   },
   "outputs": [
    {
     "name": "stdout",
     "output_type": "stream",
     "text": [
      "2.4.1\n"
     ]
    }
   ],
   "source": [
    "import tensorflow as tf\n",
    "import numpy as np\n",
    "\n",
    "print(tf.__version__)\n",
    "\n",
    "tf.random.set_seed(777)  # for reproducibility"
   ]
  },
  {
   "cell_type": "code",
   "execution_count": 18,
   "metadata": {
    "colab": {
     "base_uri": "https://localhost:8080/",
     "height": 394
    },
    "id": "oth_eHRiZwfr",
    "outputId": "8b290fb4-3b05-48cc-9ab6-7321517c0d9c"
   },
   "outputs": [
    {
     "name": "stdout",
     "output_type": "stream",
     "text": [
      "(101, 16) (101, 7)\n"
     ]
    }
   ],
   "source": [
    "# 데이터 불러오기\n",
    "xy = np.loadtxt('data-04-zoo.csv', delimiter=',', dtype=np.float32)\n",
    "x_data = xy[:, 0:-1]\n",
    "y_data = xy[:, -1]\n",
    "\n",
    "nb_classes = 7  # 0 ~ 6\n",
    "\n",
    "# Y값을 원핫 값으로 변경 \n",
    "Y_one_hot = tf.one_hot(y_data.astype(np.int32), nb_classes)\n",
    "\n",
    "print(x_data.shape, Y_one_hot.shape)"
   ]
  },
  {
   "cell_type": "code",
   "execution_count": 21,
   "metadata": {
    "id": "CdkU7hcPZw3y"
   },
   "outputs": [],
   "source": [
    "# 소프트맥스 분류기 구현\n",
    "\n",
    "W = tf.Variable(tf.random.normal([16, nb_classes]), name='weight')\n",
    "b = tf.Variable(tf.random.normal([nb_classes]), name='bias')\n",
    "variables = [W, b]\n",
    "\n",
    "def logit_fn(X):\n",
    "    return tf.matmul(X,W)+b\n",
    "\n",
    "def hypothesis(X):\n",
    "    return tf.nn.softmax(logit_fn(X))\n",
    "\n",
    "def cost_fn(X,Y):\n",
    "    logits = logit_fn(X)\n",
    "    cost_i = tf.keras.losses.categorical_crossentropy(y_true=Y, y_pred=logits, from_logits=True)\n",
    "    cost = tf.reduce_mean(cost_i)\n",
    "    return cost\n",
    "\n",
    "def grad_fn(X, Y):\n",
    "    with tf.GradientTape() as tape:\n",
    "        loss = cost_fn(X,Y)\n",
    "        grads = tape.gradient(loss, variables)\n",
    "        return grads\n",
    "\n",
    "def prediction(X,Y):\n",
    "    pred = tf.argmax(hypothesis(X),1)\n",
    "    # Y와 pred 일치하는지 계산\n",
    "    correct_prediction = tf.equal(pred, tf.argmax(Y,1))\n",
    "    accuracy = tf.reduce_mean(tf.cast(correct_prediction, tf.float32))\n",
    "    return accuracy"
   ]
  },
  {
   "cell_type": "code",
   "execution_count": 22,
   "metadata": {},
   "outputs": [
    {
     "name": "stdout",
     "output_type": "stream",
     "text": [
      "Steps: 1, Loss: 4.067071437835693, Acc: 0.11881188303232193\n",
      "Steps: 100, Loss: 0.7015846371650696, Acc: 0.7524752616882324\n",
      "Steps: 200, Loss: 0.44547685980796814, Acc: 0.8613861203193665\n",
      "Steps: 300, Loss: 0.3346084654331207, Acc: 0.9009901285171509\n",
      "Steps: 400, Loss: 0.2687549889087677, Acc: 0.9207921028137207\n",
      "Steps: 500, Loss: 0.22413121163845062, Acc: 0.9207921028137207\n",
      "Steps: 600, Loss: 0.1916474848985672, Acc: 0.9504950642585754\n",
      "Steps: 700, Loss: 0.16689886152744293, Acc: 0.9702970385551453\n",
      "Steps: 800, Loss: 0.14744509756565094, Acc: 0.9702970385551453\n",
      "Steps: 900, Loss: 0.13179805874824524, Acc: 0.9702970385551453\n",
      "Steps: 1000, Loss: 0.11898202449083328, Acc: 0.9900990128517151\n"
     ]
    }
   ],
   "source": [
    "# 소프트맥스 분류기 학습하는 함수\n",
    "def fit(X, Y, epochs=1000, verbose=100):\n",
    "    optimizer = tf.keras.optimizers.SGD(learning_rate=0.1)\n",
    "    \n",
    "    for i in range(epochs):\n",
    "        grads = grad_fn(X,Y)\n",
    "        optimizer.apply_gradients(zip(grads, variables))\n",
    "        if (i==0) | ((i+1)%verbose==0):\n",
    "            acc = prediction(X,Y).numpy()\n",
    "            loss = cost_fn(X,Y).numpy()\n",
    "            print('Steps: {}, Loss: {}, Acc: {}'.format(i+1, loss, acc))\n",
    "            \n",
    "fit(x_data, Y_one_hot)"
   ]
  },
  {
   "cell_type": "code",
   "execution_count": null,
   "metadata": {},
   "outputs": [],
   "source": []
  },
  {
   "cell_type": "code",
   "execution_count": null,
   "metadata": {},
   "outputs": [],
   "source": []
  }
 ],
 "metadata": {
  "colab": {
   "collapsed_sections": [],
   "name": "[2.X코드반영] Lab 06-2: Fancy Softmax classifier 를 TensorFlow 로 구현하기.ipynb",
   "provenance": []
  },
  "kernelspec": {
   "display_name": "hct_python_3610",
   "language": "python",
   "name": "hct"
  },
  "language_info": {
   "codemirror_mode": {
    "name": "ipython",
    "version": 3
   },
   "file_extension": ".py",
   "mimetype": "text/x-python",
   "name": "python",
   "nbconvert_exporter": "python",
   "pygments_lexer": "ipython3",
   "version": "3.6.10"
  }
 },
 "nbformat": 4,
 "nbformat_minor": 1
}
