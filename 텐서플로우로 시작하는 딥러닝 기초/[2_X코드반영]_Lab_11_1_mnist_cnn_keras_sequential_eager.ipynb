{
  "nbformat": 4,
  "nbformat_minor": 0,
  "metadata": {
    "colab": {
      "name": "[2.X코드반영] Lab 11-1: mnist cnn keras sequential eager.ipynb",
      "provenance": [],
      "collapsed_sections": []
    },
    "kernelspec": {
      "name": "python3",
      "display_name": "Python 3"
    },
    "language_info": {
      "name": "python"
    }
  },
  "cells": [
    {
      "cell_type": "markdown",
      "metadata": {
        "id": "5GEO1ASjBqUG"
      },
      "source": [
        "# [2.X코드반영] Lab 11-1: mnist cnn keras sequential eager"
      ]
    },
    {
      "cell_type": "markdown",
      "metadata": {
        "id": "AAKZuLNhGfRG"
      },
      "source": [
        "## Importing Libraries"
      ]
    },
    {
      "cell_type": "code",
      "metadata": {
        "colab": {
          "base_uri": "https://localhost:8080/"
        },
        "id": "E3L8IAqdBoy3",
        "outputId": "42c2877f-8712-4cb5-f24f-b2978813ee9a"
      },
      "source": [
        "import tensorflow as tf\n",
        "from tensorflow import keras\n",
        "from tensorflow.keras.utils import to_categorical\n",
        "import numpy as np\n",
        "import matplotlib.pyplot as plt\n",
        "import os\n",
        "\n",
        "print(tf.__version__)\n",
        "print(keras.__version__)"
      ],
      "execution_count": 98,
      "outputs": [
        {
          "output_type": "stream",
          "text": [
            "2.4.1\n",
            "2.4.0\n"
          ],
          "name": "stdout"
        }
      ]
    },
    {
      "cell_type": "markdown",
      "metadata": {
        "id": "-iSk1PoaGiYt"
      },
      "source": [
        "## Hyper Parameters"
      ]
    },
    {
      "cell_type": "code",
      "metadata": {
        "id": "0KmyEi9_GegW"
      },
      "source": [
        "learning_rate = 0.001\n",
        "training_epochs = 15\n",
        "batch_size = 100\n",
        "tf.random.set_seed(777)"
      ],
      "execution_count": 146,
      "outputs": []
    },
    {
      "cell_type": "markdown",
      "metadata": {
        "id": "fEevZLGoGrtV"
      },
      "source": [
        "## Creating a Checkpoint Directory"
      ]
    },
    {
      "cell_type": "code",
      "metadata": {
        "id": "Y4Z1QlA9GrWf"
      },
      "source": [
        "cur_dir = os.getcwd()\n",
        "ckpt_dir_name = 'checkpoints'\n",
        "model_dir_name = 'mnist_cnn_seq'\n",
        "\n",
        "checkpoint_dir = os.path.join(cur_dir, ckpt_dir_name, model_dir_name)\n",
        "os.makedirs(checkpoint_dir, exist_ok=True)\n",
        "\n",
        "checkpoint_prefix = os.path.join(checkpoint_dir, model_dir_name)"
      ],
      "execution_count": 147,
      "outputs": []
    },
    {
      "cell_type": "markdown",
      "metadata": {
        "id": "mi7HpohLKo1v"
      },
      "source": [
        "## MNIST/Fashion MNIST Data"
      ]
    },
    {
      "cell_type": "code",
      "metadata": {
        "id": "XOEMY3yZKoOI"
      },
      "source": [
        "mnist = keras.datasets.mnist\n",
        "class_names = ['0','1','2','3','4','5','6','7','8','9']"
      ],
      "execution_count": 148,
      "outputs": []
    },
    {
      "cell_type": "markdown",
      "metadata": {
        "id": "BblIp17YK2Q_"
      },
      "source": [
        "## Datasets"
      ]
    },
    {
      "cell_type": "code",
      "metadata": {
        "id": "Ozg9mTv3K15P"
      },
      "source": [
        "(train_images, train_labels), (test_images, test_labels) = mnist.load_data()\n",
        "\n",
        "train_images = train_images.astype(np.float32)/255.\n",
        "test_images = test_images.astype(np.float32)/255.\n",
        "\n",
        "train_images = np.expand_dims(train_images, axis=-1)\n",
        "test_images = np.expand_dims(test_images, axis=-1)\n",
        "\n",
        "train_labels = to_categorical(train_labels, 10)\n",
        "test_labels = to_categorical(test_labels, 10)\n",
        "\n",
        "train_dataset = tf.data.Dataset.from_tensor_slices((train_images, train_labels)).shuffle(buffer_size = 1000000).batch(batch_size)\n",
        "test_dataset = tf.data.Dataset.from_tensor_slices((test_images, test_labels)).batch(batch_size)"
      ],
      "execution_count": 149,
      "outputs": []
    },
    {
      "cell_type": "markdown",
      "metadata": {
        "id": "N7_9qYWXLl3W"
      },
      "source": [
        "## Model Function"
      ]
    },
    {
      "cell_type": "code",
      "metadata": {
        "id": "iw2P3ytWLT7o"
      },
      "source": [
        "def create_model():\n",
        "  model = keras.Sequential()\n",
        "  model.add(keras.layers.Conv2D(filters=32, kernel_size=3, activation=tf.nn.relu, padding='SAME', input_shape=(28,28,1)))\n",
        "  model.add(keras.layers.MaxPool2D(padding='SAME'))\n",
        "  model.add(keras.layers.Conv2D(filters=64, kernel_size=3, activation=tf.nn.relu, padding='SAME'))\n",
        "  model.add(keras.layers.MaxPool2D(padding='SAME'))\n",
        "  model.add(keras.layers.Conv2D(filters=128, kernel_size=3, activation=tf.nn.relu, padding='SAME'))\n",
        "  model.add(keras.layers.MaxPool2D(padding='SAME'))\n",
        "  model.add(keras.layers.Flatten())\n",
        "  model.add(keras.layers.Dense(256, activation=tf.nn.relu))\n",
        "  model.add(keras.layers.Dropout(0.4))\n",
        "  model.add(keras.layers.Dense(10))\n",
        "  return model"
      ],
      "execution_count": 150,
      "outputs": []
    },
    {
      "cell_type": "code",
      "metadata": {
        "colab": {
          "base_uri": "https://localhost:8080/"
        },
        "id": "SBcMnxXKMY7o",
        "outputId": "8265f73c-3ef4-4e2e-b5d9-0c15c3c6d624"
      },
      "source": [
        "model = create_model()\n",
        "model.summary()"
      ],
      "execution_count": 151,
      "outputs": [
        {
          "output_type": "stream",
          "text": [
            "Model: \"sequential_14\"\n",
            "_________________________________________________________________\n",
            "Layer (type)                 Output Shape              Param #   \n",
            "=================================================================\n",
            "conv2d_40 (Conv2D)           (None, 28, 28, 32)        320       \n",
            "_________________________________________________________________\n",
            "max_pooling2d_49 (MaxPooling (None, 14, 14, 32)        0         \n",
            "_________________________________________________________________\n",
            "conv2d_41 (Conv2D)           (None, 14, 14, 64)        18496     \n",
            "_________________________________________________________________\n",
            "max_pooling2d_50 (MaxPooling (None, 7, 7, 64)          0         \n",
            "_________________________________________________________________\n",
            "conv2d_42 (Conv2D)           (None, 7, 7, 128)         73856     \n",
            "_________________________________________________________________\n",
            "max_pooling2d_51 (MaxPooling (None, 4, 4, 128)         0         \n",
            "_________________________________________________________________\n",
            "flatten_13 (Flatten)         (None, 2048)              0         \n",
            "_________________________________________________________________\n",
            "dense_26 (Dense)             (None, 256)               524544    \n",
            "_________________________________________________________________\n",
            "dropout_13 (Dropout)         (None, 256)               0         \n",
            "_________________________________________________________________\n",
            "dense_27 (Dense)             (None, 10)                2570      \n",
            "=================================================================\n",
            "Total params: 619,786\n",
            "Trainable params: 619,786\n",
            "Non-trainable params: 0\n",
            "_________________________________________________________________\n"
          ],
          "name": "stdout"
        }
      ]
    },
    {
      "cell_type": "markdown",
      "metadata": {
        "id": "BOU8bcFLM1yv"
      },
      "source": [
        "## Loss Function"
      ]
    },
    {
      "cell_type": "code",
      "metadata": {
        "id": "biVhobM-MbfG"
      },
      "source": [
        "@tf.function\n",
        "def loss_fn(model, images, labels):\n",
        "  logits = model(images, training=True)\n",
        "  loss = tf.reduce_mean(tf.keras.losses.categorical_crossentropy(\n",
        "      y_pred=logits, y_true=labels, from_logits=True))\n",
        "  return loss"
      ],
      "execution_count": 159,
      "outputs": []
    },
    {
      "cell_type": "markdown",
      "metadata": {
        "id": "Jv5piEBIM3Ce"
      },
      "source": [
        "## Calculating Gradient"
      ]
    },
    {
      "cell_type": "code",
      "metadata": {
        "id": "gDNVfjixM1bp"
      },
      "source": [
        "@tf.function\n",
        "def grad(model, images, labels):\n",
        "  with tf.GradientTape() as tape:\n",
        "    loss = loss_fn(model, images, labels)\n",
        "  return tape.gradient(loss, model.variables)"
      ],
      "execution_count": 160,
      "outputs": []
    },
    {
      "cell_type": "markdown",
      "metadata": {
        "id": "5neGwSj0M4ZH"
      },
      "source": [
        "## Caculating Model's Accuracy"
      ]
    },
    {
      "cell_type": "code",
      "metadata": {
        "id": "3zOq6WWNM5Uq"
      },
      "source": [
        "@tf.function\n",
        "def evaluate(model, images, labels):\n",
        "  logits = model(images, training=False)\n",
        "  correct_prediction = tf.equal(tf.argmax(logits,1), tf.argmax(labels, 1))\n",
        "  accuracy = tf.reduce_mean(tf.cast(correct_prediction, tf.float32))\n",
        "  return accuracy"
      ],
      "execution_count": 166,
      "outputs": []
    },
    {
      "cell_type": "markdown",
      "metadata": {
        "id": "fmUTb7aSM5qj"
      },
      "source": [
        "## Optimizer"
      ]
    },
    {
      "cell_type": "code",
      "metadata": {
        "id": "yfIkJdemM6Cx"
      },
      "source": [
        "optimizer = tf.keras.optimizers.Adam(learning_rate=learning_rate)"
      ],
      "execution_count": 167,
      "outputs": []
    },
    {
      "cell_type": "markdown",
      "metadata": {
        "id": "N4neW1GtM5mZ"
      },
      "source": [
        "## Creating a Checkpoint"
      ]
    },
    {
      "cell_type": "code",
      "metadata": {
        "id": "8CVQ7oluM6Pq"
      },
      "source": [
        "checkpoint = tf.train.Checkpoint(cnn=model)"
      ],
      "execution_count": 168,
      "outputs": []
    },
    {
      "cell_type": "markdown",
      "metadata": {
        "id": "--zlaGUCNAGi"
      },
      "source": [
        "## Training"
      ]
    },
    {
      "cell_type": "code",
      "metadata": {
        "id": "puNz9EJ2NB-q"
      },
      "source": [
        "@tf.function\n",
        "def train(model, images, labels):\n",
        "  grads = grad(model, images, labels)\n",
        "  optimizer.apply_gradients(zip(grads, model.trainable_variables))"
      ],
      "execution_count": 169,
      "outputs": []
    },
    {
      "cell_type": "code",
      "metadata": {
        "colab": {
          "base_uri": "https://localhost:8080/"
        },
        "id": "vU1UUxInO0nY",
        "outputId": "454efd7d-a810-4e7a-80a4-4f440e3aad79"
      },
      "source": [
        "# train my model\n",
        "print('Learning started. It takes sometime.')\n",
        "for epoch in range(training_epochs):\n",
        "    avg_loss = 0.\n",
        "    avg_train_acc = 0.\n",
        "    avg_test_acc = 0.\n",
        "    train_step = 0\n",
        "    test_step = 0    \n",
        "    \n",
        "    for images, labels in train_dataset:\n",
        "        train(model, images, labels)\n",
        "        loss = loss_fn(model, images, labels)\n",
        "        acc = evaluate(model, images, labels)\n",
        "        avg_loss = avg_loss + loss\n",
        "        avg_train_acc = avg_train_acc + acc\n",
        "        train_step += 1\n",
        "    avg_loss = avg_loss / train_step\n",
        "    avg_train_acc = avg_train_acc / train_step\n",
        "    \n",
        "    for images, labels in test_dataset:        \n",
        "        acc = evaluate(model, images, labels)        \n",
        "        avg_test_acc = avg_test_acc + acc\n",
        "        test_step += 1    \n",
        "    avg_test_acc = avg_test_acc / test_step    \n",
        "\n",
        "    print('Epoch:', '{}'.format(epoch + 1), 'loss =', '{:.8f}'.format(avg_loss), \n",
        "          'train accuracy = ', '{:.4f}'.format(avg_train_acc), \n",
        "          'test accuracy = ', '{:.4f}'.format(avg_test_acc))\n",
        "    \n",
        "    checkpoint.save(file_prefix=checkpoint_prefix)\n",
        "\n",
        "print('Learning Finished!')"
      ],
      "execution_count": 170,
      "outputs": [
        {
          "output_type": "stream",
          "text": [
            "Learning started. It takes sometime.\n",
            "Epoch: 1 loss = 0.16889073 train accuracy =  0.9595 test accuracy =  0.9883\n",
            "Epoch: 2 loss = 0.04468670 train accuracy =  0.9901 test accuracy =  0.9878\n",
            "Epoch: 3 loss = 0.02997577 train accuracy =  0.9935 test accuracy =  0.9878\n",
            "Epoch: 4 loss = 0.02428486 train accuracy =  0.9950 test accuracy =  0.9900\n",
            "Epoch: 5 loss = 0.01678298 train accuracy =  0.9967 test accuracy =  0.9924\n",
            "Epoch: 6 loss = 0.01549906 train accuracy =  0.9972 test accuracy =  0.9917\n",
            "Epoch: 7 loss = 0.01266033 train accuracy =  0.9978 test accuracy =  0.9903\n",
            "Epoch: 8 loss = 0.01041063 train accuracy =  0.9983 test accuracy =  0.9924\n",
            "Epoch: 9 loss = 0.00953753 train accuracy =  0.9986 test accuracy =  0.9934\n",
            "Epoch: 10 loss = 0.00672119 train accuracy =  0.9991 test accuracy =  0.9921\n",
            "Epoch: 11 loss = 0.00630772 train accuracy =  0.9993 test accuracy =  0.9929\n",
            "Epoch: 12 loss = 0.00474962 train accuracy =  0.9995 test accuracy =  0.9925\n",
            "Epoch: 13 loss = 0.00562483 train accuracy =  0.9992 test accuracy =  0.9920\n",
            "Epoch: 14 loss = 0.00448528 train accuracy =  0.9996 test accuracy =  0.9926\n",
            "Epoch: 15 loss = 0.00529302 train accuracy =  0.9993 test accuracy =  0.9928\n",
            "Learning Finished!\n"
          ],
          "name": "stdout"
        }
      ]
    }
  ]
}