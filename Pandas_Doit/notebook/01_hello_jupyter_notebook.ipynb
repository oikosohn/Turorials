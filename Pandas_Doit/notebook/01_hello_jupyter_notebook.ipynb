{
 "cells": [
  {
   "cell_type": "code",
   "execution_count": 1,
   "metadata": {},
   "outputs": [
    {
     "name": "stdout",
     "output_type": "stream",
     "text": [
      "안녕 판다스\n"
     ]
    }
   ],
   "source": [
    "print('안녕 판다스')"
   ]
  },
  {
   "cell_type": "markdown",
   "metadata": {},
   "source": [
    "# 셀 삭제하는 방법\n",
    "- Edit > Delete Cells\n",
    "- 셀 좌측의 빈칸 누르고 d 두 번 누르기\n",
    "- Esc + d + d"
   ]
  },
  {
   "cell_type": "markdown",
   "metadata": {},
   "source": [
    "# 주피터 노트북 작업 내용 수동 저장 방법\n",
    "- File > Save and Checkpoint"
   ]
  },
  {
   "cell_type": "markdown",
   "metadata": {},
   "source": [
    "# 파이썬 패키지 관리자(pip) in anaconda3\n",
    "- pip list : 컴퓨터에 설치된 파이썬 라이브러리 목록 출력\n",
    "- pip install beautifulsoup4 : beautifulsoup4 파이썬 라이브러리 설치\n",
    "- pip uninstall beautifulsoup4 : beautifulsoup4 파이썬 라이브러리 제거\n"
   ]
  },
  {
   "cell_type": "code",
   "execution_count": null,
   "metadata": {},
   "outputs": [],
   "source": []
  }
 ],
 "metadata": {
  "kernelspec": {
   "display_name": "Python 3",
   "language": "python",
   "name": "python3"
  },
  "language_info": {
   "codemirror_mode": {
    "name": "ipython",
    "version": 3
   },
   "file_extension": ".py",
   "mimetype": "text/x-python",
   "name": "python",
   "nbconvert_exporter": "python",
   "pygments_lexer": "ipython3",
   "version": "3.8.3"
  }
 },
 "nbformat": 4,
 "nbformat_minor": 2
}
