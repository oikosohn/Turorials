{
 "cells": [
  {
   "cell_type": "markdown",
   "metadata": {},
   "source": [
    "# cython, numba 라이브러리를 사용해 성능 향상시키기"
   ]
  },
  {
   "cell_type": "markdown",
   "metadata": {},
   "source": [
    "## 코드의 성능을 향상시켜 실행 시간 측정하기 ― timeit"
   ]
  },
  {
   "cell_type": "markdown",
   "metadata": {},
   "source": [
    "timeit은 표현식의 실행 시간을 측정할 때 사용하는 '파이썬 문장'이다.\n",
    "\n",
    "timeit은 실행 시간을 측정해야 하는 코드 앞에 %%time 이라고 작성하면 된다.\n",
    "\n",
    "이는 주로 성능을 저하시키는 부분이 어느 곳인지 확인하기 위해 자주 사용한다."
   ]
  },
  {
   "cell_type": "code",
   "execution_count": 1,
   "metadata": {},
   "outputs": [],
   "source": [
    "import pandas as pd\n",
    "import numpy as np"
   ]
  },
  {
   "cell_type": "code",
   "execution_count": 2,
   "metadata": {},
   "outputs": [],
   "source": [
    "df = pd.DataFrame({'a': [10, 20, 30], 'b': [20, 30, 40]})"
   ]
  },
  {
   "cell_type": "code",
   "execution_count": 7,
   "metadata": {},
   "outputs": [],
   "source": [
    "def avg_2_apply(row):\n",
    "    print(row)\n",
    "    x = row[0]\n",
    "    y = row[1]\n",
    "    print(x,y)\n",
    "    if(x == 20):\n",
    "        return np.nan\n",
    "    else:\n",
    "        return (x + y)/2"
   ]
  },
  {
   "cell_type": "code",
   "execution_count": 8,
   "metadata": {},
   "outputs": [
    {
     "name": "stdout",
     "output_type": "stream",
     "text": [
      "a    10\n",
      "b    20\n",
      "Name: 0, dtype: int64\n",
      "10 20\n",
      "a    20\n",
      "b    30\n",
      "Name: 1, dtype: int64\n",
      "20 30\n",
      "a    30\n",
      "b    40\n",
      "Name: 2, dtype: int64\n",
      "30 40\n"
     ]
    },
    {
     "data": {
      "text/plain": [
       "0    15.0\n",
       "1     NaN\n",
       "2    35.0\n",
       "dtype: float64"
      ]
     },
     "execution_count": 8,
     "metadata": {},
     "output_type": "execute_result"
    }
   ],
   "source": [
    "df.apply(avg_2_apply, axis = 1)"
   ]
  },
  {
   "cell_type": "markdown",
   "metadata": {},
   "source": [
    "### 2. 판다스 데이터프레임 ― 실행 시간 측정"
   ]
  },
  {
   "cell_type": "code",
   "execution_count": 10,
   "metadata": {},
   "outputs": [],
   "source": [
    "def avg_2_apply(row):\n",
    "    x = row[0]\n",
    "    y = row[1]\n",
    "    if(x == 20):\n",
    "        return np.nan\n",
    "    else:\n",
    "        return (x + y)/2"
   ]
  },
  {
   "cell_type": "markdown",
   "metadata": {},
   "source": [
    "avg_2_apply 함수를 총 1000번 반복해서 실행한 결과 실행 시간은 735마이크로초이다\n",
    "\n",
    "1 마이크로초는 1초를 백만으로 나눈 값이다."
   ]
  },
  {
   "cell_type": "code",
   "execution_count": 11,
   "metadata": {},
   "outputs": [
    {
     "name": "stdout",
     "output_type": "stream",
     "text": [
      "735 µs ± 24.1 µs per loop (mean ± std. dev. of 7 runs, 1000 loops each)\n"
     ]
    }
   ],
   "source": [
    "%%timeit\n",
    "df.apply(avg_2_apply, axis = 1)"
   ]
  },
  {
   "cell_type": "markdown",
   "metadata": {},
   "source": [
    "### 3. 넘파이로 벡터화한 함수 사용하기 ― 실행 시간 측정"
   ]
  },
  {
   "cell_type": "markdown",
   "metadata": {},
   "source": [
    "넘파이로 함수를 백터화한 다음 실행 시간을 측정해보자."
   ]
  },
  {
   "cell_type": "code",
   "execution_count": 12,
   "metadata": {},
   "outputs": [],
   "source": [
    "@np.vectorize\n",
    "def v_avg_2mod(x, y):\n",
    "    if(x == 20):\n",
    "        return (np.NaN)\n",
    "    else:\n",
    "        return (x + y) / 2"
   ]
  },
  {
   "cell_type": "markdown",
   "metadata": {},
   "source": [
    "v_avg_2_mod 함수는 총 10,000회 반복 시행되었으며 실행 시간은 66.3 마이크로초이다.\n",
    "\n",
    "1 나노초(ns)는 1 마이크로초(µs)를 1,000으로 나눈 값이다."
   ]
  },
  {
   "cell_type": "code",
   "execution_count": 14,
   "metadata": {},
   "outputs": [
    {
     "name": "stdout",
     "output_type": "stream",
     "text": [
      "66.3 µs ± 2.41 µs per loop (mean ± std. dev. of 7 runs, 10000 loops each)\n"
     ]
    }
   ],
   "source": [
    "%%timeit\n",
    "v_avg_2mod(df['a'], df['b'])"
   ]
  },
  {
   "cell_type": "markdown",
   "metadata": {},
   "source": [
    "### 5. numba 라이브러리로 벡터화한 함수 사용하기 ― 실행 시간 측정"
   ]
  },
  {
   "cell_type": "markdown",
   "metadata": {},
   "source": [
    "아래는 numba 라이브러리로 함수를 벡터화한 것이다."
   ]
  },
  {
   "cell_type": "code",
   "execution_count": 15,
   "metadata": {},
   "outputs": [],
   "source": [
    "import numba\n",
    "\n",
    "@numba.vectorize\n",
    "def v_avg_2_numba(x, y):\n",
    "    if(x == 20):\n",
    "        return (np.NaN)\n",
    "    else:\n",
    "        return (x + y) / 2"
   ]
  },
  {
   "cell_type": "markdown",
   "metadata": {},
   "source": [
    "v_avg_2_numba 함수는 총 10,000회 반복했고 실행 시간은 12 마이크로초이다.\n",
    "\n",
    "함수를 최적화하면 프로그램의 성능이 향상된다.\n",
    "\n",
    "numba 라이브러리로 벡터화한 함수가 가장 빠른 연산 속도를 보여준다."
   ]
  },
  {
   "cell_type": "code",
   "execution_count": 16,
   "metadata": {},
   "outputs": [
    {
     "name": "stdout",
     "output_type": "stream",
     "text": [
      "The slowest run took 8.71 times longer than the fastest. This could mean that an intermediate result is being cached.\n",
      "12 µs ± 15 µs per loop (mean ± std. dev. of 7 runs, 1 loop each)\n"
     ]
    }
   ],
   "source": [
    "%%timeit\n",
    "v_avg_2_numba(df['a'].values, df['b'].values)"
   ]
  }
 ],
 "metadata": {
  "kernelspec": {
   "display_name": "Python 3",
   "language": "python",
   "name": "python3"
  },
  "language_info": {
   "codemirror_mode": {
    "name": "ipython",
    "version": 3
   },
   "file_extension": ".py",
   "mimetype": "text/x-python",
   "name": "python",
   "nbconvert_exporter": "python",
   "pygments_lexer": "ipython3",
   "version": "3.8.3"
  }
 },
 "nbformat": 4,
 "nbformat_minor": 2
}
