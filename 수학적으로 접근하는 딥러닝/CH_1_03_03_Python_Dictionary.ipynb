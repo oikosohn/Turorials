{
  "nbformat": 4,
  "nbformat_minor": 0,
  "metadata": {
    "colab": {
      "name": "CH 1_03_03_Python Dictionary.ipynb",
      "provenance": [],
      "collapsed_sections": []
    },
    "kernelspec": {
      "name": "python3",
      "display_name": "Python 3"
    }
  },
  "cells": [
    {
      "cell_type": "markdown",
      "metadata": {
        "id": "AlG5wxSvXZkB"
      },
      "source": [
        "# CH 1_03_03_Python Dictionary"
      ]
    },
    {
      "cell_type": "code",
      "metadata": {
        "colab": {
          "base_uri": "https://localhost:8080/"
        },
        "id": "5z-Svt6KXL6i",
        "outputId": "24e2ae97-7329-4660-8e9d-14a1fe9e0c46"
      },
      "source": [
        "import numpy as np\n",
        "\n",
        "score_list = np.random.randint(0,20, size=(1000))\n",
        "print(score_list)\n",
        "\n",
        "M, m = None, None\n",
        "for score in score_list:\n",
        "  if M == None or score > M:\n",
        "    M = score\n",
        "  if m == None or score < m:\n",
        "    m = score\n",
        "\n",
        "print(M-m)"
      ],
      "execution_count": 1,
      "outputs": [
        {
          "output_type": "stream",
          "text": [
            "[ 1  2  6  0  6 19 15 10  3 13 18 12  7  3  7  3 18  4 11  8  8 14 11 18\n",
            "  2 19  6  3 17  4 19  1  2 17  2  7  8  9  6 11 15  9  8 16  6 10  6 13\n",
            " 19  6 17 18  2 10 19  3  8 11 13 16 10 11  9 14 14  6 10  7  2  4  7 11\n",
            " 13  3  4  7  5 15  5  9  7  0 10  7  6 18  6 15 19  8 12 15  1 15 18  9\n",
            " 18 19  3  8 18 11 19 13 11 19  1  4  2 10  2  4  8 17  7 18  9 14 17  0\n",
            "  5  6  3  3 13 12 17 13 11  8 17  3  4 11 18  5 12  3  8 13 11  3  4  5\n",
            " 14  3  0 19  2  4  0  7 17 11 19  9  9  1 10  8 14 19 18 16 17 14  4  1\n",
            " 19  4 16 18  8  7  0  5  7  3  1 11 18 18 17 11 14 10 12 15 18  7 17 15\n",
            "  9  7  8  4  0  8  3 18 19 11 11  2  1  7  2  3  0 16 19  1  2  4 14  2\n",
            " 12 12 10  5  0  9 14  8  0 10  1 15 18 14  1  3 18  9  2 15  6 16 11 16\n",
            "  5  9  4 19 19 18  4 19  2 15  5 19 17 16  2  2  7 18 13  1 11 16  3 16\n",
            " 13  8 12 16 14 19  0 19 15 14 10  1  5 18  5 16  7  7 10 13 11 11 12  1\n",
            " 17 19  4  2 19  0  7  2  7  0  1  9  2  2 17 15 14 10  8 14 16  8 14 19\n",
            " 19  0  6 19  3 18  5 18  9  6  0 19  9  4 14  8 17 19  8 19 19 14 16  7\n",
            "  9  0 13  9 13 10 18 15  5  6 15 19  3  8 13  6 11 18  8  1  7  4 17  5\n",
            "  5 10 17  2  8 17  4 13  9 14  5  6 12  4 10 10 15 10 14 12  6  8 14  6\n",
            "  4 12 14 14 11 14 12 10  2 18 10 14 17  9  0  8  3 11  5  7 19  9 17  6\n",
            "  7 12  0  1 16  0  6  6  7  5  9 19 17 19 13  2 19  3 10 15 17  5 16  3\n",
            "  9  6  1  7 10  2 16 16  8  8  9 13 17  5 16  1  8 10  5  2 15  9 18 18\n",
            "  6 11  4 11  4  6 17 10 15 12 17  9  7  1 12 18 13 12 12  1 17  2  7  6\n",
            "  6  1 10 16  3  4  9  5 15  4  2  4 10  5  5  7 10  1 11 15  2  9 17 19\n",
            "  9 18 14  9  7  5 14  5  6 12  6  5 18 13  0 16 10  9 18 14  5  2 14  9\n",
            " 16  1  2  6  4 18  7 16 12  3 11 11 14 16  4 13  4  3 19 12 16 15 12  8\n",
            "  8  0 11  5 13 15 16 11 10  9 12 16 11  4  6  7 10 19 12  9 12 18 11  3\n",
            " 12  1  7  8  3 19  5  0 18 12  8 12  0 10 13  9 15 12  6  3 15  8  7 11\n",
            " 17  6 15  5 15 17 12 11  8 19  0  0 19  1 17  4 16 14 15 10 10  9 19 11\n",
            "  7  0  7 16 13 14 15  0  9  0  1  7  0 18 19 15  8 13 13  0 13 10  9 16\n",
            " 13 18 18 11  7  7  4  8  0 18 13 17 13 19 14 17 17 14  2  0 18  7 13 14\n",
            "  5  3 18  7 11  4  8 19  0  7  7 10  4 15 15  0  1  4  9 17  4 11 18  4\n",
            "  5 11 15  0 16 16  0  9 11 13 10 19 13 11 13  9  1  7 15  5 15  4 12 13\n",
            " 13  1 11 13 18 11  3 13 16 14 18  1 17  4 14 15  6  0  9 17  5  8  3  3\n",
            " 14 11 12 18 12  9 11 18  4  7 16  3  3  7  6  4 15  3  9  0 13 19 14 17\n",
            " 12  8 13  4  8  7 13  1  3  8 12  0  1 18  6  6 16  5  3  8  9  0 13 12\n",
            " 12 14 15 17 14  8 19  9 19  6 11  7  5  4 17 17 15  2 11  0  2  2 17  9\n",
            " 12 19  5  4  5 12 18  7  7 19  5  1 16 18  9 14  5 11 10 10  3  8 11 12\n",
            " 15 17 12 13  1 17 17  5  0 16 10 14  2  8  2  0 15  1  2 18  0 10  3 12\n",
            "  4  4  2  1  2 16 18 15  1 13 17 16  8  8 10 13  4 10 15 18  8 11  2  7\n",
            " 18 14  7 18  8  9 14  3 13 15  1 14 17 12 18 18 12 13  4 17  8 15 14  7\n",
            " 16 10  7  3 11 15  2 14  6 13  5 15  6  6  3 18  6 16 11 18 18  8  5 18\n",
            "  6  1 19  2 12  8 16 10  3 14  4  6 18 11 10 15 14 19  2  8 11  1  7  4\n",
            " 10  3 13 11  0  5  2  2  2 12  4  2  7 15  0  1 19 19  5  5 19  7  5 15\n",
            "  2 16  4  8  0 18  5  6 17  6  0 17 10  5 10  7]\n",
            "19\n"
          ],
          "name": "stdout"
        }
      ]
    },
    {
      "cell_type": "code",
      "metadata": {
        "colab": {
          "base_uri": "https://localhost:8080/"
        },
        "id": "-9EhCJTXXyUH",
        "outputId": "7373e243-35b8-4b7e-8ea3-317c585e2bba"
      },
      "source": [
        "cnt_list = [0 for i in range(M-m)]\n",
        "print(cnt_list, len(cnt_list))\n",
        "\n",
        "for score in score_list:\n",
        "  cnt_list[score-1] += 1\n",
        "\n",
        "print(cnt_list)"
      ],
      "execution_count": 2,
      "outputs": [
        {
          "output_type": "stream",
          "text": [
            "[0, 0, 0, 0, 0, 0, 0, 0, 0, 0, 0, 0, 0, 0, 0, 0, 0, 0, 0] 19\n",
            "[42, 49, 45, 52, 50, 46, 58, 54, 48, 49, 55, 46, 48, 50, 50, 43, 49, 62, 104]\n"
          ],
          "name": "stdout"
        }
      ]
    },
    {
      "cell_type": "markdown",
      "metadata": {
        "id": "gUbWamOaO8Ny"
      },
      "source": [
        "## Dictionary"
      ]
    },
    {
      "cell_type": "code",
      "metadata": {
        "colab": {
          "base_uri": "https://localhost:8080/"
        },
        "id": "lP4j3NYYYGGV",
        "outputId": "84f198b2-47a1-4f63-9d95-53a21f2fd988"
      },
      "source": [
        "tmp_dict = dict()\n",
        "tmp_dict['A'] = 10\n",
        "tmp_dict['B'] = 20\n",
        "tmp_dict['F'] = 100\n",
        "print(tmp_dict)"
      ],
      "execution_count": 3,
      "outputs": [
        {
          "output_type": "stream",
          "text": [
            "{'A': 10, 'B': 20, 'F': 100}\n"
          ],
          "name": "stdout"
        }
      ]
    },
    {
      "cell_type": "code",
      "metadata": {
        "id": "hew5fpNMYNzl",
        "colab": {
          "base_uri": "https://localhost:8080/"
        },
        "outputId": "30de356a-444a-497b-d6a6-db30f785fea8"
      },
      "source": [
        "score_list = np.random.randint(0,20, size=(1000))\n",
        "cnt_dict = dict()\n",
        "\n",
        "# 10 이라는 key 없으면 0 반환\n",
        "# print(cnt_dict[10]) : 오류 발생\n",
        "print(cnt_dict.get(10,0))\n",
        "\n",
        "for score in score_list:\n",
        "  cnt_dict[score] = cnt_dict.get(score, 0) + 1\n",
        "\n",
        "print(sorted(cnt_dict.items()))"
      ],
      "execution_count": 13,
      "outputs": [
        {
          "output_type": "stream",
          "text": [
            "0\n",
            "[(0, 49), (1, 50), (2, 48), (3, 62), (4, 42), (5, 33), (6, 58), (7, 56), (8, 43), (9, 58), (10, 49), (11, 55), (12, 57), (13, 40), (14, 45), (15, 47), (16, 44), (17, 41), (18, 56), (19, 67)]\n"
          ],
          "name": "stdout"
        }
      ]
    },
    {
      "cell_type": "code",
      "metadata": {
        "colab": {
          "base_uri": "https://localhost:8080/"
        },
        "id": "MosCjh7ZPN_K",
        "outputId": "c0ceddf5-1b9f-4484-f7be-4bf9376014da"
      },
      "source": [
        "for key, value in sorted(cnt_dict.items()):\n",
        "  print(key, ':', value)"
      ],
      "execution_count": 15,
      "outputs": [
        {
          "output_type": "stream",
          "text": [
            "0 : 49\n",
            "1 : 50\n",
            "2 : 48\n",
            "3 : 62\n",
            "4 : 42\n",
            "5 : 33\n",
            "6 : 58\n",
            "7 : 56\n",
            "8 : 43\n",
            "9 : 58\n",
            "10 : 49\n",
            "11 : 55\n",
            "12 : 57\n",
            "13 : 40\n",
            "14 : 45\n",
            "15 : 47\n",
            "16 : 44\n",
            "17 : 41\n",
            "18 : 56\n",
            "19 : 67\n"
          ],
          "name": "stdout"
        }
      ]
    },
    {
      "cell_type": "code",
      "metadata": {
        "colab": {
          "base_uri": "https://localhost:8080/"
        },
        "id": "gz2EYs2qQmrK",
        "outputId": "df61d658-4b5c-4456-de77-8dd04a0b9c2c"
      },
      "source": [
        "key_list = list(cnt_dict.keys())\n",
        "val_list = list(cnt_dict.values())\n",
        "print(val_list[0])\n",
        "print(key_list[0])"
      ],
      "execution_count": 21,
      "outputs": [
        {
          "output_type": "stream",
          "text": [
            "49\n",
            "10\n"
          ],
          "name": "stdout"
        }
      ]
    },
    {
      "cell_type": "code",
      "metadata": {
        "colab": {
          "base_uri": "https://localhost:8080/"
        },
        "id": "RIEgp_EDQ8-q",
        "outputId": "d10f4e09-213d-465c-bfbf-9884974b41f0"
      },
      "source": [
        "print(key_list[0],'점 맞은 사람', cnt_dict[key_list[0]],'명')"
      ],
      "execution_count": 20,
      "outputs": [
        {
          "output_type": "stream",
          "text": [
            "10 점 맞은 사람 49 명\n"
          ],
          "name": "stdout"
        }
      ]
    },
    {
      "cell_type": "code",
      "metadata": {
        "colab": {
          "base_uri": "https://localhost:8080/"
        },
        "id": "vu-vr3zdRYsR",
        "outputId": "4368d572-466f-436f-eb0a-4df1a7f34f2b"
      },
      "source": [
        "item_list = cnt_dict.items()\n",
        "print(item_list)\n",
        "\n",
        "for k, v in cnt_dict.items():\n",
        "  print(k, v)"
      ],
      "execution_count": 23,
      "outputs": [
        {
          "output_type": "stream",
          "text": [
            "dict_items([(10, 49), (1, 50), (18, 56), (12, 57), (11, 55), (5, 33), (3, 62), (9, 58), (8, 43), (15, 47), (19, 67), (6, 58), (4, 42), (14, 45), (17, 41), (2, 48), (16, 44), (7, 56), (0, 49), (13, 40)])\n",
            "10 49\n",
            "1 50\n",
            "18 56\n",
            "12 57\n",
            "11 55\n",
            "5 33\n",
            "3 62\n",
            "9 58\n",
            "8 43\n",
            "15 47\n",
            "19 67\n",
            "6 58\n",
            "4 42\n",
            "14 45\n",
            "17 41\n",
            "2 48\n",
            "16 44\n",
            "7 56\n",
            "0 49\n",
            "13 40\n"
          ],
          "name": "stdout"
        }
      ]
    },
    {
      "cell_type": "code",
      "metadata": {
        "colab": {
          "base_uri": "https://localhost:8080/"
        },
        "id": "QDUmRNldR0GQ",
        "outputId": "9bf05791-2ba6-4cae-ac09-455a60145c60"
      },
      "source": [
        "M_score = None\n",
        "for k, v in cnt_dict.items():\n",
        "  if M_score is None or v > M_score:\n",
        "    M_score = v\n",
        "    M = k\n",
        "\n",
        "# 가장 많이 등장한 숫자와 그 횟수\n",
        "print(M,M_score) "
      ],
      "execution_count": 25,
      "outputs": [
        {
          "output_type": "stream",
          "text": [
            "19 67\n"
          ],
          "name": "stdout"
        }
      ]
    }
  ]
}