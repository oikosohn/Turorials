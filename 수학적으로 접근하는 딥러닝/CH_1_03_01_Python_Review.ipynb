{
  "nbformat": 4,
  "nbformat_minor": 0,
  "metadata": {
    "colab": {
      "name": "CH 1_03_01_Python Review.ipynb",
      "provenance": [],
      "collapsed_sections": []
    },
    "kernelspec": {
      "name": "python3",
      "display_name": "Python 3"
    }
  },
  "cells": [
    {
      "cell_type": "markdown",
      "metadata": {
        "id": "ocH8j1ZiNId5"
      },
      "source": [
        "# CH 1_03_01_Python Review"
      ]
    },
    {
      "cell_type": "markdown",
      "metadata": {
        "id": "D2Gc-v0XNKJp"
      },
      "source": [
        "## List\n",
        "\n",
        "- 위의 내용까지 셀 실행 : #%%\n",
        "- 다양한 자료형(클래스, 리스트, 사전)을 List에 담을 수 있다.\n",
        "- 정수, 부동소수점, 문자열 자료형 모두 클래스로 구현되어 있다."
      ]
    },
    {
      "cell_type": "code",
      "metadata": {
        "colab": {
          "base_uri": "https://localhost:8080/"
        },
        "id": "jgx4-FV6MrlW",
        "outputId": "a039d3b2-07a2-4cc6-ab5c-3c9e6835fcf5"
      },
      "source": [
        "class tmp_class:\n",
        "  pass\n",
        "\n",
        "# 리스트 안에 tmp_class()가 인스턴스화 되어 있다.\n",
        "data = [10,'Hello', tmp_class()]\n",
        "print(data)"
      ],
      "execution_count": 1,
      "outputs": [
        {
          "output_type": "stream",
          "text": [
            "[10, 'Hello', <__main__.tmp_class object at 0x7fc5ea2794e0>]\n"
          ],
          "name": "stdout"
        }
      ]
    },
    {
      "cell_type": "markdown",
      "metadata": {
        "id": "VqEoUebMN-ew"
      },
      "source": [
        "인스턴스화된 클래스의 주솟값 : <\\_\\_main__.tmp_class object at 0x7f082b1d6588>"
      ]
    },
    {
      "cell_type": "markdown",
      "metadata": {
        "id": "y-F3YsdHOOUi"
      },
      "source": [
        "## List Indexing"
      ]
    },
    {
      "cell_type": "code",
      "metadata": {
        "colab": {
          "base_uri": "https://localhost:8080/"
        },
        "id": "CE6hECRLN-Ih",
        "outputId": "25efb2b5-0d8f-4fbe-883c-58c79adb7a94"
      },
      "source": [
        "# Indexing\n",
        "data=[10,20,30,40,50,60]\n",
        "print(data[0])\n",
        "print(data[1])\n",
        "print(data[2])"
      ],
      "execution_count": 2,
      "outputs": [
        {
          "output_type": "stream",
          "text": [
            "10\n",
            "20\n",
            "30\n"
          ],
          "name": "stdout"
        }
      ]
    },
    {
      "cell_type": "markdown",
      "metadata": {
        "id": "c9HfC_tCPCZ5"
      },
      "source": [
        "## List Slicing"
      ]
    },
    {
      "cell_type": "code",
      "metadata": {
        "colab": {
          "base_uri": "https://localhost:8080/"
        },
        "id": "p1IgaU9fNwIo",
        "outputId": "ba5e1dc7-a0ff-449e-c3c4-dc48efcc7c58"
      },
      "source": [
        "# Slicing : 개수의 입장에서 접근\n",
        "# 2번에서 3개(마지막)까지 슬라이싱\n",
        "print(data[2:2+3])"
      ],
      "execution_count": 3,
      "outputs": [
        {
          "output_type": "stream",
          "text": [
            "[30, 40, 50]\n"
          ],
          "name": "stdout"
        }
      ]
    },
    {
      "cell_type": "code",
      "metadata": {
        "colab": {
          "base_uri": "https://localhost:8080/"
        },
        "id": "-4CEvJ0EOnj5",
        "outputId": "490a5e1d-b92e-4ca8-c838-3d48bf258751"
      },
      "source": [
        "print(data[-1])"
      ],
      "execution_count": 4,
      "outputs": [
        {
          "output_type": "stream",
          "text": [
            "60\n"
          ],
          "name": "stdout"
        }
      ]
    },
    {
      "cell_type": "code",
      "metadata": {
        "colab": {
          "base_uri": "https://localhost:8080/"
        },
        "id": "IXnt3ZalOwPA",
        "outputId": "d336ba5b-ad0a-4492-c9db-380164378c17"
      },
      "source": [
        "file_name='test_file.txt'\n",
        "extension = file_name[-3:]\n",
        "print(extension)"
      ],
      "execution_count": 5,
      "outputs": [
        {
          "output_type": "stream",
          "text": [
            "txt\n"
          ],
          "name": "stdout"
        }
      ]
    },
    {
      "cell_type": "markdown",
      "metadata": {
        "id": "oIjhiCRlPOHd"
      },
      "source": [
        "## List Operation"
      ]
    },
    {
      "cell_type": "code",
      "metadata": {
        "colab": {
          "base_uri": "https://localhost:8080/"
        },
        "id": "h2TUdPbrO4Qw",
        "outputId": "e7e2f70c-11e1-4c8d-bdee-057356af3c8d"
      },
      "source": [
        "tmp_list = [1,2,3]\n",
        "tmp_list2 = [10,20,30]\n",
        "\n",
        "# list appending\n",
        "print(tmp_list+tmp_list2)\n",
        "\n",
        "print(tmp_list*3)"
      ],
      "execution_count": 6,
      "outputs": [
        {
          "output_type": "stream",
          "text": [
            "[1, 2, 3, 10, 20, 30]\n",
            "[1, 2, 3, 1, 2, 3, 1, 2, 3]\n"
          ],
          "name": "stdout"
        }
      ]
    },
    {
      "cell_type": "markdown",
      "metadata": {
        "id": "1B2vz01KP1PC"
      },
      "source": [
        "## List Method"
      ]
    },
    {
      "cell_type": "code",
      "metadata": {
        "colab": {
          "base_uri": "https://localhost:8080/"
        },
        "id": "X_HeVmDqPfCS",
        "outputId": "78604031-9c88-4cb1-ebdd-dcabeba94add"
      },
      "source": [
        "tmp_list = [1,2,3]\n",
        "tmp_string = 'Hello World!'\n",
        "\n",
        "print(len(tmp_list))\n",
        "print(len(tmp_string))"
      ],
      "execution_count": 7,
      "outputs": [
        {
          "output_type": "stream",
          "text": [
            "3\n",
            "12\n"
          ],
          "name": "stdout"
        }
      ]
    },
    {
      "cell_type": "code",
      "metadata": {
        "colab": {
          "base_uri": "https://localhost:8080/"
        },
        "id": "edJctMJEQOLz",
        "outputId": "28a34887-116e-4f9c-be4f-a758152a0a45"
      },
      "source": [
        "tmp_list=[]\n",
        "\n",
        "# 빈 리스트 선언할 때 추천하는 방법\n",
        "tmp_list=list()\n",
        "\n",
        "print(tmp_list)"
      ],
      "execution_count": 8,
      "outputs": [
        {
          "output_type": "stream",
          "text": [
            "[]\n"
          ],
          "name": "stdout"
        }
      ]
    },
    {
      "cell_type": "code",
      "metadata": {
        "colab": {
          "base_uri": "https://localhost:8080/"
        },
        "id": "syFgn6VmQd_C",
        "outputId": "2b2da7c9-d91f-4e07-b351-a39d0a58c4d5"
      },
      "source": [
        "tmp_list.append(10)\n",
        "print(tmp_list)\n",
        "\n",
        "tmp_list.append('Hello')\n",
        "print(tmp_list)"
      ],
      "execution_count": 9,
      "outputs": [
        {
          "output_type": "stream",
          "text": [
            "[10]\n",
            "[10, 'Hello']\n"
          ],
          "name": "stdout"
        }
      ]
    },
    {
      "cell_type": "markdown",
      "metadata": {
        "id": "4SI51r9lQvMs"
      },
      "source": [
        "## List Comprehension\n",
        "- 리스트를 만드는데 주로 사용"
      ]
    },
    {
      "cell_type": "code",
      "metadata": {
        "colab": {
          "base_uri": "https://localhost:8080/"
        },
        "id": "f6SKWipRQjCh",
        "outputId": "8beff36c-ea86-4509-df92-f79ae8dee06c"
      },
      "source": [
        "# 의미가 명확해 코드해석에 용이하다 == 리스트 만드는구나!\n",
        "tmp_list = [i for i in range(10)]\n",
        "print(tmp_list)"
      ],
      "execution_count": 15,
      "outputs": [
        {
          "output_type": "stream",
          "text": [
            "[0, 1, 2, 3, 4, 5, 6, 7, 8, 9]\n"
          ],
          "name": "stdout"
        }
      ]
    },
    {
      "cell_type": "code",
      "metadata": {
        "id": "bmUo_lffQ62Y"
      },
      "source": [
        "# 동일한 결과\n",
        "tmp_list = list()\n",
        "for i in range(10):\n",
        "  tmp_list.append(i)"
      ],
      "execution_count": 16,
      "outputs": []
    },
    {
      "cell_type": "code",
      "metadata": {
        "colab": {
          "base_uri": "https://localhost:8080/"
        },
        "id": "ER7V1ebfRKZl",
        "outputId": "4d3b4dae-874f-4cb8-c647-77ec06631872"
      },
      "source": [
        "def plus_ten(input_val):\n",
        "  return input_val+10\n",
        "\n",
        "tmp_list=[plus_ten(i) for i in range(10)]\n",
        "tmp_list"
      ],
      "execution_count": 19,
      "outputs": [
        {
          "output_type": "execute_result",
          "data": {
            "text/plain": [
              "[10, 11, 12, 13, 14, 15, 16, 17, 18, 19]"
            ]
          },
          "metadata": {
            "tags": []
          },
          "execution_count": 19
        }
      ]
    }
  ]
}