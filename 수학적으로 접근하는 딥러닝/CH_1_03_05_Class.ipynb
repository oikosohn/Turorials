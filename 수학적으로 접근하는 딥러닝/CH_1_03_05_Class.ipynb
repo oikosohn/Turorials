{
  "nbformat": 4,
  "nbformat_minor": 0,
  "metadata": {
    "colab": {
      "name": "CH 1_03_05_Class.ipynb",
      "provenance": [],
      "collapsed_sections": []
    },
    "kernelspec": {
      "name": "python3",
      "display_name": "Python 3"
    }
  },
  "cells": [
    {
      "cell_type": "markdown",
      "metadata": {
        "id": "xqUJ8GtfZlSo"
      },
      "source": [
        "# CH 1_03_05_Class"
      ]
    },
    {
      "cell_type": "markdown",
      "metadata": {
        "id": "kCvg88ZdZm23"
      },
      "source": [
        "## Class\n",
        "- Class = Data + Behavior(Method)\n",
        "- class 내부 함수 == method\n",
        "- \\_\\_init\\_\\_ : 대표적인 magic method, 생성자가 아니라 이니셜라이저이다.   \n",
        "이니셜라이저는 instantiation되면 자동으로 실행되는 method이다.\n",
        "- instantiation 의 예 : tmp = test_class(10,20)    \n",
        "여기서 tmp는 object 또는 instance라고 한다"
      ]
    },
    {
      "cell_type": "markdown",
      "metadata": {
        "id": "7baI2GymeAWp"
      },
      "source": [
        "### Instance variable\n",
        "  - self.x = x : instance variable = parameter\n",
        "  - instance variable : tmp(object)가 가지고 있는 instance 변수에 어떤 method도 접근 가능하게 해준다.\n",
        "  - self에 할당된 instance 변수를 다 접근 가능, 인스턴스 안에서 공유하는 변수라서 가능한 것이다."
      ]
    },
    {
      "cell_type": "code",
      "metadata": {
        "id": "KlDHNSNKZhNA",
        "colab": {
          "base_uri": "https://localhost:8080/"
        },
        "outputId": "9db08e75-a226-4cda-a2e6-09dbacee9a9c"
      },
      "source": [
        "class test_class:\n",
        "  # class 내부 함수 == method\n",
        "  # __init__ : 대표적인 magic method, 생성자가 아니라 이니셜라이저이다. \n",
        "  # 이니셜라이저는 instantiation되면 자동으로 실행되는 method이다.\n",
        "  \n",
        "  def __init__(self,x, y):\n",
        "    # instance variable : tmp(object)가 가지고 있는 instance 변수에 어떤 method도 접근 가능하게 해준다.\n",
        "    # instance variable = parameter\n",
        "    self.x = x\n",
        "    self.y = y\n",
        "    self.add = None\n",
        "  \n",
        "  def adder(self): # self에 할당된 instance 변수를 다 접근 가능, 인스턴스 안에서 공유하는 변수라서 가능한 것이다.\n",
        "    self. add = self.x+self.y\n",
        "\n",
        "  def subtractor(self):\n",
        "    return self.x - self.y\n",
        "\n",
        "# instantiation\n",
        "tmp = test_class(10,20)\n",
        "# tmp == object or instance\n",
        "\n",
        "print(tmp.x, tmp.y, tmp.add)\n",
        "tmp.adder()\n",
        "print(tmp.x, tmp.y, tmp.add)"
      ],
      "execution_count": 6,
      "outputs": [
        {
          "output_type": "stream",
          "text": [
            "10 20 None\n",
            "10 20 30\n"
          ],
          "name": "stdout"
        }
      ]
    },
    {
      "cell_type": "code",
      "metadata": {
        "colab": {
          "base_uri": "https://localhost:8080/"
        },
        "id": "sivxQiy6VnQj",
        "outputId": "e4fb1190-92c1-42f1-b4eb-bd9cb5f86bc4"
      },
      "source": [
        "class test_class:\n",
        "  def __init__(self,x, y):\n",
        "    self.x = x\n",
        "    self.y = y\n",
        "  \n",
        "  def adder(self): #\n",
        "    return self.x + self.y\n",
        "\n",
        "  def subtractor(self):\n",
        "    return self.x - self.y\n",
        "\n",
        "  def multiplier(self): \n",
        "    return self.x * self.y\n",
        "\n",
        "\n",
        "# instantiation\n",
        "tmp = test_class(10,20)\n",
        "# tmp == object or instance\n",
        "\n",
        "add = tmp.adder()\n",
        "sub = tmp.subtractor()\n",
        "mul = tmp.multiplier()\n",
        "print(add, sub, mul)"
      ],
      "execution_count": 9,
      "outputs": [
        {
          "output_type": "stream",
          "text": [
            "30 -10 200\n"
          ],
          "name": "stdout"
        }
      ]
    },
    {
      "cell_type": "code",
      "metadata": {
        "colab": {
          "base_uri": "https://localhost:8080/"
        },
        "id": "8OMYkuLsYWee",
        "outputId": "402675af-98d2-4bbb-b666-043900c0d001"
      },
      "source": [
        "import numpy as np\n",
        "input_data = np.random.randint(0,10,size=(10,))\n",
        "print(input_data)\n",
        "\n",
        "print(input_data.mean())\n",
        "print(input_data.std())"
      ],
      "execution_count": 11,
      "outputs": [
        {
          "output_type": "stream",
          "text": [
            "[7 7 3 8 8 2 3 1 8 7]\n",
            "5.4\n",
            "2.65329983228432\n"
          ],
          "name": "stdout"
        }
      ]
    },
    {
      "cell_type": "markdown",
      "metadata": {
        "id": "soksUhq0eGx3"
      },
      "source": [
        "### Class variable\n",
        "  - Class variable == class 전체가 공유하는 변수\n",
        "  - class 변수 사용하면 전체 (딥러닝) 네트워크 구조 파악하기 쉽다."
      ]
    },
    {
      "cell_type": "code",
      "metadata": {
        "colab": {
          "base_uri": "https://localhost:8080/"
        },
        "id": "WalDTcszYne9",
        "outputId": "9d588ceb-4585-4cab-aa35-aaf24fbe2f83"
      },
      "source": [
        "class node:\n",
        "  node_cnt = 0 # Class variable == class 전체가 공유하는 변수\n",
        "  # class 변수 사용하면 전체 (딥러닝) 네트워크 구조 파악하기 쉽다.\n",
        "  def __init__(self, x, y):\n",
        "    self.x, self.y, = x, y\n",
        "    self.add = None\n",
        "    self.adder()\n",
        "    node.node_cnt += 1\n",
        "  \n",
        "  def adder(self):\n",
        "    self.add = self.x + self.y\n",
        "\n",
        "node1 = node(10,20)\n",
        "print(node1.x, node1.y, node1.node_cnt, node1.add)\n",
        "node2 = node(100,200)\n",
        "print(node2.x, node2.y, node2.node_cnt, node2.add)\n",
        "node3 = node(200,300)\n",
        "print(node3.x, node2.y, node3.node_cnt, node3.add)"
      ],
      "execution_count": 16,
      "outputs": [
        {
          "output_type": "stream",
          "text": [
            "10 20 1 30\n",
            "100 200 2 300\n",
            "200 200 3 500\n"
          ],
          "name": "stdout"
        }
      ]
    },
    {
      "cell_type": "markdown",
      "metadata": {
        "id": "Q3TeXtY7fZh5"
      },
      "source": [
        "### Private한 method 표기법\n",
        "파이썬은 Private 개념이 없다.\n",
        "- 메서드 이름 명 앞에 _ 있으면 내부적인 연산을 위해 존재하는 코드라는 의미이다.  \n",
        "  예) def _adder(self): # private하게 사용해라"
      ]
    },
    {
      "cell_type": "code",
      "metadata": {
        "colab": {
          "base_uri": "https://localhost:8080/"
        },
        "id": "MxfA2hU9Zqg_",
        "outputId": "250e2140-a23c-47f2-d84b-5f95c058c0dc"
      },
      "source": [
        "class calculator:\n",
        "  def __init__(self, x, y, operator):\n",
        "    self._x = x\n",
        "    self._y = y\n",
        "    self._operator = operator\n",
        "    self.result = None\n",
        "\n",
        "    if self._operator == '+':\n",
        "      self._adder()\n",
        "    elif self._operator == '-':\n",
        "      self._subtractor()\n",
        "    elif self._operator == '*':\n",
        "      self._multiplier()\n",
        "\n",
        "  def _adder(self): #\n",
        "    self.result = self._x + self._y\n",
        "\n",
        "  def _subtractor(self):\n",
        "    self.result = self._x - self._y\n",
        "\n",
        "  def _multiplier(self): \n",
        "    self.result = self._x * self._y\n",
        "  \n",
        "  # 사용자한테 제공한 코드는 get_result 뿐이다.\n",
        "  def get_result(self):\n",
        "    return self.result\n",
        "\n",
        "tmp = calculator(10, 20, '+')\n",
        "result = tmp.get_result()\n",
        "print(result)\n",
        "\n",
        "tmp = calculator(10, 20, '*')\n",
        "result = tmp.get_result()\n",
        "print(result)\n",
        "\n",
        "tmp = calculator(10, 20, '-')\n",
        "result = tmp.get_result()\n",
        "print(result)"
      ],
      "execution_count": 22,
      "outputs": [
        {
          "output_type": "stream",
          "text": [
            "30\n",
            "200\n",
            "-10\n"
          ],
          "name": "stdout"
        }
      ]
    },
    {
      "cell_type": "code",
      "metadata": {
        "id": "4ehRArOHglPy"
      },
      "source": [
        ""
      ],
      "execution_count": null,
      "outputs": []
    }
  ]
}