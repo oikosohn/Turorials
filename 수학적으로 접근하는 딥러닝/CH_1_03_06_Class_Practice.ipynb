{
  "nbformat": 4,
  "nbformat_minor": 0,
  "metadata": {
    "colab": {
      "name": "CH 1_03_06_Class Practice.ipynb",
      "provenance": [],
      "collapsed_sections": []
    },
    "kernelspec": {
      "name": "python3",
      "display_name": "Python 3"
    }
  },
  "cells": [
    {
      "cell_type": "markdown",
      "metadata": {
        "id": "LEa1tdKChtn5"
      },
      "source": [
        "# CH 1_03_06_Class Practice\n"
      ]
    },
    {
      "cell_type": "markdown",
      "metadata": {
        "id": "oo8UUNAKiVKS"
      },
      "source": [
        "- dir() : 어떤 class 변수, instance 변수, method 있는지 확인 가능하게 하는 함수"
      ]
    },
    {
      "cell_type": "code",
      "metadata": {
        "colab": {
          "base_uri": "https://localhost:8080/"
        },
        "id": "8uLakvFlhfLI",
        "outputId": "63c7e195-b990-4192-9d48-9984939e6500"
      },
      "source": [
        "class tmp_class:\n",
        "  def __init__(self):\n",
        "    self.x = 0\n",
        "    self.y = 0\n",
        "  def method1():\n",
        "    pass\n",
        "  def method2():\n",
        "    pass\n",
        "\n",
        "tmp = tmp_class()\n",
        "\n",
        "# dir : 어떤 instance variable과 method 있는지 확인\n",
        "print(dir(tmp))"
      ],
      "execution_count": 2,
      "outputs": [
        {
          "output_type": "stream",
          "text": [
            "['__class__', '__delattr__', '__dict__', '__dir__', '__doc__', '__eq__', '__format__', '__ge__', '__getattribute__', '__gt__', '__hash__', '__init__', '__init_subclass__', '__le__', '__lt__', '__module__', '__ne__', '__new__', '__reduce__', '__reduce_ex__', '__repr__', '__setattr__', '__sizeof__', '__str__', '__subclasshook__', '__weakref__', 'method1', 'method2', 'x', 'y']\n"
          ],
          "name": "stdout"
        }
      ]
    },
    {
      "cell_type": "markdown",
      "metadata": {
        "id": "1l7wyXcFjPLX"
      },
      "source": [
        ""
      ]
    },
    {
      "cell_type": "code",
      "metadata": {
        "colab": {
          "base_uri": "https://localhost:8080/"
        },
        "id": "DbDtdLMCjGnb",
        "outputId": "293a3f3b-4dc9-46e3-a513-c22813bce55b"
      },
      "source": [
        "a = 10\n",
        "print(dir(a))"
      ],
      "execution_count": 19,
      "outputs": [
        {
          "output_type": "stream",
          "text": [
            "['__abs__', '__add__', '__and__', '__bool__', '__ceil__', '__class__', '__delattr__', '__dir__', '__divmod__', '__doc__', '__eq__', '__float__', '__floor__', '__floordiv__', '__format__', '__ge__', '__getattribute__', '__getnewargs__', '__gt__', '__hash__', '__index__', '__init__', '__init_subclass__', '__int__', '__invert__', '__le__', '__lshift__', '__lt__', '__mod__', '__mul__', '__ne__', '__neg__', '__new__', '__or__', '__pos__', '__pow__', '__radd__', '__rand__', '__rdivmod__', '__reduce__', '__reduce_ex__', '__repr__', '__rfloordiv__', '__rlshift__', '__rmod__', '__rmul__', '__ror__', '__round__', '__rpow__', '__rrshift__', '__rshift__', '__rsub__', '__rtruediv__', '__rxor__', '__setattr__', '__sizeof__', '__str__', '__sub__', '__subclasshook__', '__truediv__', '__trunc__', '__xor__', 'bit_length', 'conjugate', 'denominator', 'from_bytes', 'imag', 'numerator', 'real', 'to_bytes']\n"
          ],
          "name": "stdout"
        }
      ]
    },
    {
      "cell_type": "code",
      "metadata": {
        "colab": {
          "base_uri": "https://localhost:8080/"
        },
        "id": "_yHetIb8iamp",
        "outputId": "a668a1a2-cc9b-41d9-e1e9-1407a89dfe2e"
      },
      "source": [
        "a = 10 + 20j\n",
        "print(dir(a))"
      ],
      "execution_count": 20,
      "outputs": [
        {
          "output_type": "stream",
          "text": [
            "['__abs__', '__add__', '__bool__', '__class__', '__delattr__', '__dir__', '__divmod__', '__doc__', '__eq__', '__float__', '__floordiv__', '__format__', '__ge__', '__getattribute__', '__getnewargs__', '__gt__', '__hash__', '__init__', '__init_subclass__', '__int__', '__le__', '__lt__', '__mod__', '__mul__', '__ne__', '__neg__', '__new__', '__pos__', '__pow__', '__radd__', '__rdivmod__', '__reduce__', '__reduce_ex__', '__repr__', '__rfloordiv__', '__rmod__', '__rmul__', '__rpow__', '__rsub__', '__rtruediv__', '__setattr__', '__sizeof__', '__str__', '__sub__', '__subclasshook__', '__truediv__', 'conjugate', 'imag', 'real']\n"
          ],
          "name": "stdout"
        }
      ]
    },
    {
      "cell_type": "markdown",
      "metadata": {
        "id": "KXVkxloMjUtb"
      },
      "source": [
        "파이썬에서는 정수, 문자열 자료형 모두 클래스로 구현되어 있다.\n",
        "\n",
        "파이썬에서 모든 것은 객체(instance)다.\n",
        " - a = 10 => class로 instantiation 되는 것이다>"
      ]
    },
    {
      "cell_type": "code",
      "metadata": {
        "colab": {
          "base_uri": "https://localhost:8080/"
        },
        "id": "4YDMi3CqidtD",
        "outputId": "7b89fbc0-8b84-4a91-c077-73716754ab27"
      },
      "source": [
        "print(a.real)\n",
        "print(a.imag)"
      ],
      "execution_count": 21,
      "outputs": [
        {
          "output_type": "stream",
          "text": [
            "10.0\n",
            "20.0\n"
          ],
          "name": "stdout"
        }
      ]
    },
    {
      "cell_type": "code",
      "metadata": {
        "colab": {
          "base_uri": "https://localhost:8080/"
        },
        "id": "cNDltJF8jIoy",
        "outputId": "8aafec6d-952a-471c-8388-179859cf6afc"
      },
      "source": [
        "b = [5,2,3]\n",
        "print(dir(b))"
      ],
      "execution_count": 22,
      "outputs": [
        {
          "output_type": "stream",
          "text": [
            "['__add__', '__class__', '__contains__', '__delattr__', '__delitem__', '__dir__', '__doc__', '__eq__', '__format__', '__ge__', '__getattribute__', '__getitem__', '__gt__', '__hash__', '__iadd__', '__imul__', '__init__', '__init_subclass__', '__iter__', '__le__', '__len__', '__lt__', '__mul__', '__ne__', '__new__', '__reduce__', '__reduce_ex__', '__repr__', '__reversed__', '__rmul__', '__setattr__', '__setitem__', '__sizeof__', '__str__', '__subclasshook__', 'append', 'clear', 'copy', 'count', 'extend', 'index', 'insert', 'pop', 'remove', 'reverse', 'sort']\n"
          ],
          "name": "stdout"
        }
      ]
    },
    {
      "cell_type": "code",
      "metadata": {
        "colab": {
          "base_uri": "https://localhost:8080/"
        },
        "id": "9j2u0trwjcqC",
        "outputId": "6c4faeb2-5720-44c4-c080-38880d5ea1ef"
      },
      "source": [
        "print(b.append(10))\n",
        "print(b)"
      ],
      "execution_count": 23,
      "outputs": [
        {
          "output_type": "stream",
          "text": [
            "None\n",
            "[5, 2, 3, 10]\n"
          ],
          "name": "stdout"
        }
      ]
    },
    {
      "cell_type": "code",
      "metadata": {
        "colab": {
          "base_uri": "https://localhost:8080/"
        },
        "id": "67QC0q47jeoi",
        "outputId": "66ae971c-bf4c-483e-c4d1-cd958520b997"
      },
      "source": [
        "b.sort()\n",
        "print(b)"
      ],
      "execution_count": 24,
      "outputs": [
        {
          "output_type": "stream",
          "text": [
            "[2, 3, 5, 10]\n"
          ],
          "name": "stdout"
        }
      ]
    },
    {
      "cell_type": "code",
      "metadata": {
        "colab": {
          "base_uri": "https://localhost:8080/"
        },
        "id": "xerozWm4jg-h",
        "outputId": "24b212ed-a71c-4d1f-9ba7-d74fa1488523"
      },
      "source": [
        "b.sort(reverse=True)\n",
        "print(b)"
      ],
      "execution_count": 25,
      "outputs": [
        {
          "output_type": "stream",
          "text": [
            "[10, 5, 3, 2]\n"
          ],
          "name": "stdout"
        }
      ]
    },
    {
      "cell_type": "code",
      "metadata": {
        "colab": {
          "base_uri": "https://localhost:8080/"
        },
        "id": "tVAvpulqjlcR",
        "outputId": "ddfcff1d-fdd6-426e-d427-181a4426cabb"
      },
      "source": [
        "c = 'Hello'\n",
        "print(dir(c))"
      ],
      "execution_count": 26,
      "outputs": [
        {
          "output_type": "stream",
          "text": [
            "['__add__', '__class__', '__contains__', '__delattr__', '__dir__', '__doc__', '__eq__', '__format__', '__ge__', '__getattribute__', '__getitem__', '__getnewargs__', '__gt__', '__hash__', '__init__', '__init_subclass__', '__iter__', '__le__', '__len__', '__lt__', '__mod__', '__mul__', '__ne__', '__new__', '__reduce__', '__reduce_ex__', '__repr__', '__rmod__', '__rmul__', '__setattr__', '__sizeof__', '__str__', '__subclasshook__', 'capitalize', 'casefold', 'center', 'count', 'encode', 'endswith', 'expandtabs', 'find', 'format', 'format_map', 'index', 'isalnum', 'isalpha', 'isdecimal', 'isdigit', 'isidentifier', 'islower', 'isnumeric', 'isprintable', 'isspace', 'istitle', 'isupper', 'join', 'ljust', 'lower', 'lstrip', 'maketrans', 'partition', 'replace', 'rfind', 'rindex', 'rjust', 'rpartition', 'rsplit', 'rstrip', 'split', 'splitlines', 'startswith', 'strip', 'swapcase', 'title', 'translate', 'upper', 'zfill']\n"
          ],
          "name": "stdout"
        }
      ]
    },
    {
      "cell_type": "code",
      "metadata": {
        "colab": {
          "base_uri": "https://localhost:8080/",
          "height": 352
        },
        "id": "rum3ec56j2pS",
        "outputId": "07a5a0ef-3e63-47c9-b24a-d45bcb4c5d2e"
      },
      "source": [
        "class grader:\n",
        "  def __init__(self, score_list):\n",
        "    self.score_list = score_list\n",
        "    self._grade_list = None\n",
        "    self._cutoff_list = None\n",
        "\n",
        "    self._init_grader() # 자동으로 실행되어야 하기 때문에 이니셜라이저 시작할 때 자동으로 _init_grader() 초기화한다.\n",
        "  \n",
        "  def _init_grader(self): # 자동으로 실행되어야 한다.\n",
        "    self._grader_list = ['A','B','C','F']\n",
        "    self._cutoff_list = [100,90,80,70,0]\n",
        "\n",
        "  def score2grade(self):\n",
        "    return_grade_list = []\n",
        "    for score_idx, score in enumerate(self.score_list):\n",
        "      # \\ 줄바꿔서 코드 작성 가능\n",
        "      if score >= self._cutoff_list[1] and \\\n",
        "         score < self._cutoff_list[0]:\n",
        "         return_grade_list.append(self._grader_list[0])\n",
        "      elif score >= self._cutoff_list[2] and \\\n",
        "         score < self._cutoff_list[1]:\n",
        "         return_grade_list.append(self._grader_list[1])\n",
        "      elif score >= self._cutoff_list[3] and \\\n",
        "         score < self._cutoff_list[2]:\n",
        "         return_grade_list.append(self._grader_list[2])\n",
        "      elif score >= self._cutoff_list[4] and \\\n",
        "         score < self._cutoff_list[3]:\n",
        "         return_grade_list.append(self._grader_list[3])\n",
        "      else: # else는 예외처리에 사용하자!\n",
        "        # return_grade_list.append(\"NR\")\n",
        "        class scoreError(Exception):\n",
        "          pass\n",
        "        raise scoreError('Invalid Score Detected')\n",
        "    print(return_grade_list)\n",
        "\n",
        "\n",
        "score_list = [50,70,40,90,95,20,15,65,77]\n",
        "score_list2 = [50,70,40,90,95,20,15,65,77, -1]\n",
        "\n",
        "tmp  = grader(score_list)\n",
        "tmp.score2grade()\n",
        "\n",
        "tmp2  = grader(score_list2)\n",
        "tmp2.score2grade()"
      ],
      "execution_count": 51,
      "outputs": [
        {
          "output_type": "stream",
          "text": [
            "['F', 'C', 'F', 'A', 'A', 'F', 'F', 'F', 'C']\n"
          ],
          "name": "stdout"
        },
        {
          "output_type": "error",
          "ename": "scoreError",
          "evalue": "ignored",
          "traceback": [
            "\u001b[0;31m---------------------------------------------------------------------------\u001b[0m",
            "\u001b[0;31mscoreError\u001b[0m                                Traceback (most recent call last)",
            "\u001b[0;32m<ipython-input-51-af20b7eb23a3>\u001b[0m in \u001b[0;36m<module>\u001b[0;34m()\u001b[0m\n\u001b[1;32m     38\u001b[0m \u001b[0;34m\u001b[0m\u001b[0m\n\u001b[1;32m     39\u001b[0m \u001b[0mtmp2\u001b[0m  \u001b[0;34m=\u001b[0m \u001b[0mgrader\u001b[0m\u001b[0;34m(\u001b[0m\u001b[0mscore_list2\u001b[0m\u001b[0;34m)\u001b[0m\u001b[0;34m\u001b[0m\u001b[0;34m\u001b[0m\u001b[0m\n\u001b[0;32m---> 40\u001b[0;31m \u001b[0mtmp2\u001b[0m\u001b[0;34m.\u001b[0m\u001b[0mscore2grade\u001b[0m\u001b[0;34m(\u001b[0m\u001b[0;34m)\u001b[0m\u001b[0;34m\u001b[0m\u001b[0;34m\u001b[0m\u001b[0m\n\u001b[0m",
            "\u001b[0;32m<ipython-input-51-af20b7eb23a3>\u001b[0m in \u001b[0;36mscore2grade\u001b[0;34m(self)\u001b[0m\n\u001b[1;32m     27\u001b[0m         \u001b[0;32mclass\u001b[0m \u001b[0mscoreError\u001b[0m\u001b[0;34m(\u001b[0m\u001b[0mException\u001b[0m\u001b[0;34m)\u001b[0m\u001b[0;34m:\u001b[0m\u001b[0;34m\u001b[0m\u001b[0;34m\u001b[0m\u001b[0m\n\u001b[1;32m     28\u001b[0m           \u001b[0;32mpass\u001b[0m\u001b[0;34m\u001b[0m\u001b[0;34m\u001b[0m\u001b[0m\n\u001b[0;32m---> 29\u001b[0;31m         \u001b[0;32mraise\u001b[0m \u001b[0mscoreError\u001b[0m\u001b[0;34m(\u001b[0m\u001b[0;34m'Invalid Score Detected'\u001b[0m\u001b[0;34m)\u001b[0m\u001b[0;34m\u001b[0m\u001b[0;34m\u001b[0m\u001b[0m\n\u001b[0m\u001b[1;32m     30\u001b[0m     \u001b[0mprint\u001b[0m\u001b[0;34m(\u001b[0m\u001b[0mreturn_grade_list\u001b[0m\u001b[0;34m)\u001b[0m\u001b[0;34m\u001b[0m\u001b[0;34m\u001b[0m\u001b[0m\n\u001b[1;32m     31\u001b[0m \u001b[0;34m\u001b[0m\u001b[0m\n",
            "\u001b[0;31mscoreError\u001b[0m: Invalid Score Detected"
          ]
        }
      ]
    },
    {
      "cell_type": "code",
      "metadata": {
        "colab": {
          "base_uri": "https://localhost:8080/"
        },
        "id": "6An7uZvGk3qz",
        "outputId": "6c29a98f-8ba9-4720-b76c-bb3daa8d18f5"
      },
      "source": [
        "print(tmp._grader_list)\n",
        "print(tmp._cutoff_list)"
      ],
      "execution_count": 52,
      "outputs": [
        {
          "output_type": "stream",
          "text": [
            "['A', 'B', 'C', 'F']\n",
            "[100, 90, 80, 70, 0]\n"
          ],
          "name": "stdout"
        }
      ]
    },
    {
      "cell_type": "code",
      "metadata": {
        "id": "bPnScTiAn5RW"
      },
      "source": [
        ""
      ],
      "execution_count": null,
      "outputs": []
    }
  ]
}