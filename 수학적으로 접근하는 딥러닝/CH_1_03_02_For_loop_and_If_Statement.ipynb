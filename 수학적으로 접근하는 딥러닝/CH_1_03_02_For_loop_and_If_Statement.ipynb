{
  "nbformat": 4,
  "nbformat_minor": 0,
  "metadata": {
    "colab": {
      "name": "CH 1_03_02_For loop and If Statement.ipynb",
      "provenance": [],
      "collapsed_sections": []
    },
    "kernelspec": {
      "name": "python3",
      "display_name": "Python 3"
    }
  },
  "cells": [
    {
      "cell_type": "markdown",
      "metadata": {
        "id": "-zLsRDSLR2nM"
      },
      "source": [
        "# CH 1_03_02_For loop and If Statement\n"
      ]
    },
    {
      "cell_type": "markdown",
      "metadata": {
        "id": "yRShb5ktUEWU"
      },
      "source": [
        "## for Loop"
      ]
    },
    {
      "cell_type": "code",
      "metadata": {
        "colab": {
          "base_uri": "https://localhost:8080/"
        },
        "id": "lVHzTrzzR1HS",
        "outputId": "9df92043-c9be-44cb-df95-28cdab5ba157"
      },
      "source": [
        "tmp_list = [(i+10) for i in range(10)]\n",
        "\n",
        "for data_idx in range(10):\n",
        "  print(data_idx, tmp_list[data_idx])"
      ],
      "execution_count": null,
      "outputs": [
        {
          "output_type": "stream",
          "text": [
            "0 10\n",
            "1 11\n",
            "2 12\n",
            "3 13\n",
            "4 14\n",
            "5 15\n",
            "6 16\n",
            "7 17\n",
            "8 18\n",
            "9 19\n"
          ],
          "name": "stdout"
        }
      ]
    },
    {
      "cell_type": "code",
      "metadata": {
        "colab": {
          "base_uri": "https://localhost:8080/"
        },
        "id": "6rY5QevvSGlq",
        "outputId": "2b3fead8-c893-4149-b818-58a4cdf01ab1"
      },
      "source": [
        "tmp_list = [(i+10) for i in range(20)]\n",
        "\n",
        "# 마지막 요소 누락을 방지하는 등 robust한 결과 가능 : len(tmp_list)\n",
        "# 명시적인 숫자보다 변수 사용해 버그와 디버깅 시간을 줄일 수 있다.\n",
        "\n",
        "for data_idx in range(len(tmp_list)):\n",
        "  print(data_idx, tmp_list[data_idx])"
      ],
      "execution_count": null,
      "outputs": [
        {
          "output_type": "stream",
          "text": [
            "0 10\n",
            "1 11\n",
            "2 12\n",
            "3 13\n",
            "4 14\n",
            "5 15\n",
            "6 16\n",
            "7 17\n",
            "8 18\n",
            "9 19\n",
            "10 20\n",
            "11 21\n",
            "12 22\n",
            "13 23\n",
            "14 24\n",
            "15 25\n",
            "16 26\n",
            "17 27\n",
            "18 28\n",
            "19 29\n"
          ],
          "name": "stdout"
        }
      ]
    },
    {
      "cell_type": "code",
      "metadata": {
        "colab": {
          "base_uri": "https://localhost:8080/"
        },
        "id": "Dx5UTM-_SpGV",
        "outputId": "4122143f-e4e2-4be6-e83f-16dc0f09eaa3"
      },
      "source": [
        "# in ___ : ___에 iterative한 object 들어가면 for loop 실행된다.\n",
        "for data in tmp_list:\n",
        "  print(data)"
      ],
      "execution_count": null,
      "outputs": [
        {
          "output_type": "stream",
          "text": [
            "10\n",
            "11\n",
            "12\n",
            "13\n",
            "14\n",
            "15\n",
            "16\n",
            "17\n",
            "18\n",
            "19\n",
            "20\n",
            "21\n",
            "22\n",
            "23\n",
            "24\n",
            "25\n",
            "26\n",
            "27\n",
            "28\n",
            "29\n"
          ],
          "name": "stdout"
        }
      ]
    },
    {
      "cell_type": "code",
      "metadata": {
        "colab": {
          "base_uri": "https://localhost:8080/"
        },
        "id": "mqvdHwtGS9az",
        "outputId": "195911df-da5d-43e4-bf26-374b380745fe"
      },
      "source": [
        "tmp_list = [(i+10) for i in range(10)]\n",
        "tmp_list2 = [(i+10) for i in range(10)]\n",
        "\n",
        "# 간단한 코드에서 사용\n",
        "for data in tmp_list:\n",
        "  print(data)\n",
        "\n",
        "print()\n",
        "\n",
        "# 코드가 길어질 때는 인덱스가 더 필요하다\n",
        "for data_idx in range(len(tmp_list)):\n",
        "  print(data_idx, tmp_list[data_idx], tmp_list2[data_idx], tmp_list[data_idx]+tmp_list2[data_idx])"
      ],
      "execution_count": null,
      "outputs": [
        {
          "output_type": "stream",
          "text": [
            "10\n",
            "11\n",
            "12\n",
            "13\n",
            "14\n",
            "15\n",
            "16\n",
            "17\n",
            "18\n",
            "19\n",
            "\n",
            "0 10 10 20\n",
            "1 11 11 22\n",
            "2 12 12 24\n",
            "3 13 13 26\n",
            "4 14 14 28\n",
            "5 15 15 30\n",
            "6 16 16 32\n",
            "7 17 17 34\n",
            "8 18 18 36\n",
            "9 19 19 38\n"
          ],
          "name": "stdout"
        }
      ]
    },
    {
      "cell_type": "code",
      "metadata": {
        "colab": {
          "base_uri": "https://localhost:8080/"
        },
        "id": "TIXPeYFxTiRB",
        "outputId": "58b81847-8465-40cb-9315-f0e3479a7789"
      },
      "source": [
        "# enumerate : 인덱스와 값 둘 다 가져올 수 있다.\n",
        "for data_idx, data in enumerate(tmp_list):\n",
        "  print(data_idx, data)"
      ],
      "execution_count": null,
      "outputs": [
        {
          "output_type": "stream",
          "text": [
            "0 10\n",
            "1 11\n",
            "2 12\n",
            "3 13\n",
            "4 14\n",
            "5 15\n",
            "6 16\n",
            "7 17\n",
            "8 18\n",
            "9 19\n"
          ],
          "name": "stdout"
        }
      ]
    },
    {
      "cell_type": "code",
      "metadata": {
        "colab": {
          "base_uri": "https://localhost:8080/"
        },
        "id": "jQA3clXyTtgD",
        "outputId": "204e046b-6086-4c30-a4c5-3059b5b99e6a"
      },
      "source": [
        "# 평균 구하기\n",
        "tmp_list = [(i+10) for i in range(11)]\n",
        "sum_val = 0\n",
        "for data_idx, data in enumerate(tmp_list):\n",
        "  sum_val += data\n",
        "\n",
        "mean = sum_val/len(tmp_list)\n",
        "print(mean)"
      ],
      "execution_count": null,
      "outputs": [
        {
          "output_type": "stream",
          "text": [
            "15.0\n"
          ],
          "name": "stdout"
        }
      ]
    },
    {
      "cell_type": "markdown",
      "metadata": {
        "id": "wTdgJbr_UHKD"
      },
      "source": [
        "## if Statement"
      ]
    },
    {
      "cell_type": "code",
      "metadata": {
        "colab": {
          "base_uri": "https://localhost:8080/"
        },
        "id": "bQSwgIHwUAgH",
        "outputId": "faad3164-6821-4f2e-f685-75fb2fded216"
      },
      "source": [
        "tmp_list = [(i+10) for i in range(100)]\n",
        "\n",
        "sum_val = 0\n",
        "data_cnt = 0\n",
        "\n",
        "for data_idx, data in enumerate(tmp_list):\n",
        "  if data >= 50 and data < 60 :\n",
        "    sum_val += data\n",
        "    data_cnt += 1\n",
        "\n",
        "mean = sum_val/data_cnt\n",
        "print(mean)"
      ],
      "execution_count": null,
      "outputs": [
        {
          "output_type": "stream",
          "text": [
            "54.5\n"
          ],
          "name": "stdout"
        }
      ]
    },
    {
      "cell_type": "code",
      "metadata": {
        "colab": {
          "base_uri": "https://localhost:8080/"
        },
        "id": "UzZv6Rp2UeZV",
        "outputId": "692a5080-9535-43a6-f1a1-fcc77dc56a49"
      },
      "source": [
        "# 최대값 찾기 : 오류 발생\n",
        "tmp_list = [(i-10) for i in range(10)]\n",
        "print(tmp_list)\n",
        "\n",
        "M = 0\n",
        "for data in tmp_list:\n",
        "  if data > M:\n",
        "    M = data\n",
        "print(M)"
      ],
      "execution_count": null,
      "outputs": [
        {
          "output_type": "stream",
          "text": [
            "[-10, -9, -8, -7, -6, -5, -4, -3, -2, -1]\n",
            "0\n"
          ],
          "name": "stdout"
        }
      ]
    },
    {
      "cell_type": "code",
      "metadata": {
        "colab": {
          "base_uri": "https://localhost:8080/"
        },
        "id": "LAHyCh0cVDHk",
        "outputId": "d651be45-a90d-422e-c126-3e8184c844c9"
      },
      "source": [
        "# 최대값 찾기 : 오류 방지\n",
        "tmp_list = [(i-100) for i in range(10)]\n",
        "print(tmp_list)\n",
        "\n",
        "M = None\n",
        "for data in tmp_list:\n",
        "  if M== None or data > M:\n",
        "    M = data\n",
        "print(M)"
      ],
      "execution_count": null,
      "outputs": [
        {
          "output_type": "stream",
          "text": [
            "[-100, -99, -98, -97, -96, -95, -94, -93, -92, -91]\n",
            "-91\n"
          ],
          "name": "stdout"
        }
      ]
    },
    {
      "cell_type": "code",
      "metadata": {
        "colab": {
          "base_uri": "https://localhost:8080/"
        },
        "id": "UUkD2yQeVQ6j",
        "outputId": "6c12adf7-33bc-490e-9535-5f9924280a79"
      },
      "source": [
        "# 최소값 찾기 : 오류 방지\n",
        "tmp_list = [(i-100) for i in range(10)]\n",
        "print(tmp_list)\n",
        "\n",
        "M, m = None, None\n",
        "for data in tmp_list:\n",
        "  if M== None or data > M:\n",
        "    M = data\n",
        "  if m == None or data < m:\n",
        "    m = data\n",
        "print('최대값:',M, '최소값:', m)"
      ],
      "execution_count": null,
      "outputs": [
        {
          "output_type": "stream",
          "text": [
            "[-100, -99, -98, -97, -96, -95, -94, -93, -92, -91]\n",
            "최대값: -91 최소값: -100\n"
          ],
          "name": "stdout"
        }
      ]
    },
    {
      "cell_type": "code",
      "metadata": {
        "colab": {
          "base_uri": "https://localhost:8080/",
          "height": 244
        },
        "id": "k454kqv1VfAk",
        "outputId": "afe267e9-0155-48a7-9b32-4d16f8934ba7"
      },
      "source": [
        "M, m = None, None\n",
        "for data in tmp_list:\n",
        "  # interger와 None 비교 불가능해서 오류 발생\n",
        "  if data > M or M== None:\n",
        "    M = data\n",
        "print(M)"
      ],
      "execution_count": null,
      "outputs": [
        {
          "output_type": "error",
          "ename": "TypeError",
          "evalue": "ignored",
          "traceback": [
            "\u001b[0;31m---------------------------------------------------------------------------\u001b[0m",
            "\u001b[0;31mTypeError\u001b[0m                                 Traceback (most recent call last)",
            "\u001b[0;32m<ipython-input-23-491a089b3153>\u001b[0m in \u001b[0;36m<module>\u001b[0;34m()\u001b[0m\n\u001b[1;32m      2\u001b[0m \u001b[0;32mfor\u001b[0m \u001b[0mdata\u001b[0m \u001b[0;32min\u001b[0m \u001b[0mtmp_list\u001b[0m\u001b[0;34m:\u001b[0m\u001b[0;34m\u001b[0m\u001b[0;34m\u001b[0m\u001b[0m\n\u001b[1;32m      3\u001b[0m   \u001b[0;31m# interger와 None 비교 불가능해서 오류 발생\u001b[0m\u001b[0;34m\u001b[0m\u001b[0;34m\u001b[0m\u001b[0;34m\u001b[0m\u001b[0m\n\u001b[0;32m----> 4\u001b[0;31m   \u001b[0;32mif\u001b[0m \u001b[0mdata\u001b[0m \u001b[0;34m>\u001b[0m \u001b[0mM\u001b[0m \u001b[0;32mor\u001b[0m \u001b[0mM\u001b[0m\u001b[0;34m==\u001b[0m \u001b[0;32mNone\u001b[0m\u001b[0;34m:\u001b[0m\u001b[0;34m\u001b[0m\u001b[0;34m\u001b[0m\u001b[0m\n\u001b[0m\u001b[1;32m      5\u001b[0m     \u001b[0mM\u001b[0m \u001b[0;34m=\u001b[0m \u001b[0mdata\u001b[0m\u001b[0;34m\u001b[0m\u001b[0;34m\u001b[0m\u001b[0m\n\u001b[1;32m      6\u001b[0m \u001b[0mprint\u001b[0m\u001b[0;34m(\u001b[0m\u001b[0mM\u001b[0m\u001b[0;34m)\u001b[0m\u001b[0;34m\u001b[0m\u001b[0;34m\u001b[0m\u001b[0m\n",
            "\u001b[0;31mTypeError\u001b[0m: '>' not supported between instances of 'int' and 'NoneType'"
          ]
        }
      ]
    },
    {
      "cell_type": "code",
      "metadata": {
        "colab": {
          "base_uri": "https://localhost:8080/",
          "height": 282
        },
        "id": "JEWYkXiJV74N",
        "outputId": "3e1a0852-5a7b-4bf0-83c4-417720779abb"
      },
      "source": [
        "score_list = [(i+10) for i in range(90)] + [1000]\n",
        "print(score_list)\n",
        "\n",
        "grade_list = [0,0,0,0,0]\n",
        "for score in score_list:\n",
        "  if score >= 90 and score < 100:\n",
        "    grade_list[0] += 1\n",
        "  elif score >= 80 and score < 90:\n",
        "    grade_list[1] += 1\n",
        "  elif score < 80 and score >= 0:\n",
        "    grade_list[2] += 1\n",
        "  else: # else 오류 잡거나 예외처리할 때 사용\n",
        "    class ScoreError(Exception):\n",
        "      pass\n",
        "    raise ScoreError('INVALID SCORE')\n",
        "\n",
        "print(grade_list)"
      ],
      "execution_count": null,
      "outputs": [
        {
          "output_type": "stream",
          "text": [
            "[10, 11, 12, 13, 14, 15, 16, 17, 18, 19, 20, 21, 22, 23, 24, 25, 26, 27, 28, 29, 30, 31, 32, 33, 34, 35, 36, 37, 38, 39, 40, 41, 42, 43, 44, 45, 46, 47, 48, 49, 50, 51, 52, 53, 54, 55, 56, 57, 58, 59, 60, 61, 62, 63, 64, 65, 66, 67, 68, 69, 70, 71, 72, 73, 74, 75, 76, 77, 78, 79, 80, 81, 82, 83, 84, 85, 86, 87, 88, 89, 90, 91, 92, 93, 94, 95, 96, 97, 98, 99, 1000]\n"
          ],
          "name": "stdout"
        },
        {
          "output_type": "error",
          "ename": "ScoreError",
          "evalue": "ignored",
          "traceback": [
            "\u001b[0;31m---------------------------------------------------------------------------\u001b[0m",
            "\u001b[0;31mScoreError\u001b[0m                                Traceback (most recent call last)",
            "\u001b[0;32m<ipython-input-31-25cb036180dd>\u001b[0m in \u001b[0;36m<module>\u001b[0;34m()\u001b[0m\n\u001b[1;32m     13\u001b[0m     \u001b[0;32mclass\u001b[0m \u001b[0mScoreError\u001b[0m\u001b[0;34m(\u001b[0m\u001b[0mException\u001b[0m\u001b[0;34m)\u001b[0m\u001b[0;34m:\u001b[0m\u001b[0;34m\u001b[0m\u001b[0;34m\u001b[0m\u001b[0m\n\u001b[1;32m     14\u001b[0m       \u001b[0;32mpass\u001b[0m\u001b[0;34m\u001b[0m\u001b[0;34m\u001b[0m\u001b[0m\n\u001b[0;32m---> 15\u001b[0;31m     \u001b[0;32mraise\u001b[0m \u001b[0mScoreError\u001b[0m\u001b[0;34m(\u001b[0m\u001b[0;34m'INVALID SCORE'\u001b[0m\u001b[0;34m)\u001b[0m\u001b[0;34m\u001b[0m\u001b[0;34m\u001b[0m\u001b[0m\n\u001b[0m\u001b[1;32m     16\u001b[0m \u001b[0;34m\u001b[0m\u001b[0m\n\u001b[1;32m     17\u001b[0m \u001b[0mprint\u001b[0m\u001b[0;34m(\u001b[0m\u001b[0mgrade_list\u001b[0m\u001b[0;34m)\u001b[0m\u001b[0;34m\u001b[0m\u001b[0;34m\u001b[0m\u001b[0m\n",
            "\u001b[0;31mScoreError\u001b[0m: INVALID SCORE"
          ]
        }
      ]
    },
    {
      "cell_type": "code",
      "metadata": {
        "id": "rV9_73-_WTSF"
      },
      "source": [
        ""
      ],
      "execution_count": null,
      "outputs": []
    }
  ]
}